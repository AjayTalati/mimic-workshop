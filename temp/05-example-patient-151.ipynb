{
 "cells": [
  {
   "cell_type": "markdown",
   "metadata": {},
   "source": [
    "# Exploring the trajectory of a single patient"
   ]
  },
  {
   "cell_type": "markdown",
   "metadata": {},
   "source": [
    "### Import Python libraries"
   ]
  },
  {
   "cell_type": "markdown",
   "metadata": {},
   "source": [
    "We first need to import some tools for working with data in Python. \n",
    "- NumPy is for working with numbers\n",
    "- Pandas is for analysing data\n",
    "- MatPlotLib is for making plots\n",
    "- Sqlite3 to connect to the database"
   ]
  },
  {
   "cell_type": "code",
   "execution_count": null,
   "metadata": {
    "collapsed": false
   },
   "outputs": [],
   "source": [
    "import numpy as np\n",
    "import pandas as pd\n",
    "import matplotlib.pyplot as plt\n",
    "%matplotlib inline"
   ]
  },
  {
   "cell_type": "markdown",
   "metadata": {},
   "source": [
    "### Connect to the database"
   ]
  },
  {
   "cell_type": "markdown",
   "metadata": {},
   "source": [
    "- TODO: Set up a database connection to oracle."
   ]
  },
  {
   "cell_type": "code",
   "execution_count": null,
   "metadata": {
    "collapsed": true
   },
   "outputs": [],
   "source": [
    "# Connect to the MIMIC database\n",
    "# ..."
   ]
  },
  {
   "cell_type": "markdown",
   "metadata": {},
   "source": [
    "### Load the chartevents data"
   ]
  },
  {
   "cell_type": "markdown",
   "metadata": {},
   "source": [
    "- The chartevents table contains data charted at the patient bedside. It includes variables such as heart rate, respiratory rate, temperature, and so on.\n",
    "- We'll begin by loading the chartevents data for a single patient."
   ]
  },
  {
   "cell_type": "code",
   "execution_count": null,
   "metadata": {
    "collapsed": false
   },
   "outputs": [],
   "source": [
    "# query = \"\"\"\n",
    "# SELECT de.hadm_id\n",
    "#   , (de.charttime-ad.admittime)*24.0 as HOURS\n",
    "#   , di.label\n",
    "#   , de.value\n",
    "#   , de.valuenum\n",
    "#   , de.uom\n",
    "# FROM mimiciii.chartevents de\n",
    "# INNER join mimiciii.d_items di\n",
    "# ON de.itemid = di.itemid\n",
    "# INNER join mimiciii.admissions ad\n",
    "# ON de.hadm_id = ad.hadm_id\n",
    "# WHERE de.subject_id = 151\n",
    "# ORDER BY charttime;\n",
    "# \"\"\"\n",
    "# \n",
    "# ce = pd.read_sql_query(query,conn)\n",
    "\n",
    "\n",
    "# load chartevents from a CSV file\n",
    "ce = pd.read_csv('data/example_chartevents_151.csv')"
   ]
  },
  {
   "cell_type": "markdown",
   "metadata": {},
   "source": [
    "### Plot 1: How did the patients heart rate change over time?"
   ]
  },
  {
   "cell_type": "markdown",
   "metadata": {},
   "source": [
    "- Using the methods described above to select our data of interest, we can create our x and y axis values to create a time series plot of heart rate."
   ]
  },
  {
   "cell_type": "code",
   "execution_count": null,
   "metadata": {
    "collapsed": false
   },
   "outputs": [],
   "source": [
    "(ce.LABEL.unique())"
   ]
  },
  {
   "cell_type": "code",
   "execution_count": null,
   "metadata": {
    "collapsed": false,
    "scrolled": true
   },
   "outputs": [],
   "source": [
    "\n",
    "plt.figure(figsize=(20, 6))\n",
    "\n",
    "# Plot time against heart rate\n",
    "plt.plot(ce.HOURS[ce.LABEL=='Heart Rate'], \n",
    "         ce.VALUENUM[ce.LABEL=='Heart Rate'],\n",
    "         'bo', markersize=10, linewidth=4)\n",
    "\n",
    "#plt.plot(ce.HOURS[ce.LABEL=='Respiratory Rate'], \n",
    "#         ce.VALUENUM[ce.LABEL=='Respiratory Rate'],\n",
    "#         'k+', markersize=10, linewidth=4)\n",
    "\n",
    "plt.plot(ce.HOURS[ce.LABEL=='Arterial BP Mean'], \n",
    "         ce.VALUENUM[ce.LABEL=='Arterial BP Mean'],\n",
    "         'mx', markersize=10, linewidth=4)\n",
    "\n",
    "plt.plot(ce.HOURS[ce.LABEL=='IABP Mean'], \n",
    "         ce.VALUENUM[ce.LABEL=='IABP Mean'],\n",
    "         'kd', markersize=10, linewidth=4)\n",
    "\n",
    "\n",
    "# Iterate over list of GCS labels, plotting around 1 in 10 to avoid overlap\n",
    "#for i, txt in enumerate(ce.VALUE[ce.LABEL=='GCS - Eye Opening'].values):\n",
    "#    if np.mod(i,6)==0 and i < 65:\n",
    "#        plt.annotate(txt, (ce.HOURS[ce.LABEL=='GCS - Eye Opening'].values[i],140),fontsize=14)\n",
    "        \n",
    "        \n",
    "# IABP Mean\n",
    "# IABP Setting\n",
    "# Arterial BP Mean\n",
    "# \n",
    "\n",
    "plt.xlabel('Time',fontsize=16)\n",
    "plt.ylabel('Value',fontsize=16)"
   ]
  }
 ],
 "metadata": {
  "kernelspec": {
   "display_name": "Python 2",
   "language": "python",
   "name": "python2"
  },
  "language_info": {
   "codemirror_mode": {
    "name": "ipython",
    "version": 2
   },
   "file_extension": ".py",
   "mimetype": "text/x-python",
   "name": "python",
   "nbconvert_exporter": "python",
   "pygments_lexer": "ipython2",
   "version": "2.7.10"
  }
 },
 "nbformat": 4,
 "nbformat_minor": 0
}
