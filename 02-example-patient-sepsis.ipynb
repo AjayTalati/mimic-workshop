{
 "cells": [
  {
   "cell_type": "markdown",
   "metadata": {},
   "source": [
    "# Exploring the trajectory of a single patient"
   ]
  },
  {
   "cell_type": "markdown",
   "metadata": {},
   "source": [
    "### Import Python libraries"
   ]
  },
  {
   "cell_type": "markdown",
   "metadata": {},
   "source": [
    "We first need to import some tools for working with data in Python. \n",
    "- NumPy is for working with numbers\n",
    "- Pandas is for analysing data\n",
    "- MatPlotLib is for making plots\n",
    "- Sqlite3 to connect to the database"
   ]
  },
  {
   "cell_type": "code",
   "execution_count": 23,
   "metadata": {
    "collapsed": false
   },
   "outputs": [],
   "source": [
    "import numpy as np\n",
    "import pandas as pd\n",
    "import matplotlib.pyplot as plt\n",
    "import sqlite3\n",
    "%matplotlib inline"
   ]
  },
  {
   "cell_type": "markdown",
   "metadata": {},
   "source": [
    "### Connect to the database"
   ]
  },
  {
   "cell_type": "markdown",
   "metadata": {},
   "source": [
    "- We can use the sqlite3 library to connect to the MIMIC database\n",
    "- Once the connection is established, we'll run a simple SQL query."
   ]
  },
  {
   "cell_type": "code",
   "execution_count": 24,
   "metadata": {
    "collapsed": true
   },
   "outputs": [],
   "source": [
    "# Connect to the MIMIC database\n",
    "conn = sqlite3.connect('data/mimicdata.sqlite')"
   ]
  },
  {
   "cell_type": "code",
   "execution_count": 25,
   "metadata": {
    "collapsed": true
   },
   "outputs": [],
   "source": [
    "# Create our test query\n",
    "test_query = \"\"\"\n",
    "SELECT subject_id, hadm_id, admittime, dischtime, admission_type, diagnosis\n",
    "FROM admissions\n",
    "LIMIT 10;\n",
    "\"\"\""
   ]
  },
  {
   "cell_type": "code",
   "execution_count": 26,
   "metadata": {
    "collapsed": true
   },
   "outputs": [],
   "source": [
    "# Run the query and assign the results to a variable\n",
    "test = pd.read_sql_query(test_query,conn)"
   ]
  },
  {
   "cell_type": "code",
   "execution_count": 27,
   "metadata": {
    "collapsed": false
   },
   "outputs": [
    {
     "data": {
      "text/html": [
       "<div>\n",
       "<table border=\"1\" class=\"dataframe\">\n",
       "  <thead>\n",
       "    <tr style=\"text-align: right;\">\n",
       "      <th></th>\n",
       "      <th>SUBJECT_ID</th>\n",
       "      <th>HADM_ID</th>\n",
       "      <th>ADMITTIME</th>\n",
       "      <th>DISCHTIME</th>\n",
       "      <th>ADMISSION_TYPE</th>\n",
       "      <th>DIAGNOSIS</th>\n",
       "    </tr>\n",
       "  </thead>\n",
       "  <tbody>\n",
       "    <tr>\n",
       "      <th>0</th>\n",
       "      <td>40036</td>\n",
       "      <td>198489</td>\n",
       "      <td>2141-08-01 23:46:00</td>\n",
       "      <td>2141-08-09 19:15:00</td>\n",
       "      <td>EMERGENCY</td>\n",
       "      <td>SEPSIS</td>\n",
       "    </tr>\n",
       "    <tr>\n",
       "      <th>1</th>\n",
       "      <td>40080</td>\n",
       "      <td>162107</td>\n",
       "      <td>2106-05-31 16:43:00</td>\n",
       "      <td>2106-06-05 01:18:00</td>\n",
       "      <td>EMERGENCY</td>\n",
       "      <td>CONGESTIVE HEART FAILURE</td>\n",
       "    </tr>\n",
       "    <tr>\n",
       "      <th>2</th>\n",
       "      <td>40084</td>\n",
       "      <td>195762</td>\n",
       "      <td>2173-01-31 22:11:00</td>\n",
       "      <td>2173-02-05 01:31:00</td>\n",
       "      <td>EMERGENCY</td>\n",
       "      <td>INTRACRANIAL HEMORRHAGE;OPEN FX</td>\n",
       "    </tr>\n",
       "    <tr>\n",
       "      <th>3</th>\n",
       "      <td>40116</td>\n",
       "      <td>157106</td>\n",
       "      <td>2150-02-19 00:12:00</td>\n",
       "      <td>2150-03-11 13:58:00</td>\n",
       "      <td>EMERGENCY</td>\n",
       "      <td>GASTROINTESTINAL BLEED</td>\n",
       "    </tr>\n",
       "    <tr>\n",
       "      <th>4</th>\n",
       "      <td>40120</td>\n",
       "      <td>146466</td>\n",
       "      <td>2120-01-27 20:41:00</td>\n",
       "      <td>2120-02-12 17:14:00</td>\n",
       "      <td>EMERGENCY</td>\n",
       "      <td>CONGESTIVE HEART FAILURE</td>\n",
       "    </tr>\n",
       "  </tbody>\n",
       "</table>\n",
       "</div>"
      ],
      "text/plain": [
       "   SUBJECT_ID  HADM_ID            ADMITTIME            DISCHTIME  \\\n",
       "0       40036   198489  2141-08-01 23:46:00  2141-08-09 19:15:00   \n",
       "1       40080   162107  2106-05-31 16:43:00  2106-06-05 01:18:00   \n",
       "2       40084   195762  2173-01-31 22:11:00  2173-02-05 01:31:00   \n",
       "3       40116   157106  2150-02-19 00:12:00  2150-03-11 13:58:00   \n",
       "4       40120   146466  2120-01-27 20:41:00  2120-02-12 17:14:00   \n",
       "\n",
       "  ADMISSION_TYPE                        DIAGNOSIS  \n",
       "0      EMERGENCY                           SEPSIS  \n",
       "1      EMERGENCY         CONGESTIVE HEART FAILURE  \n",
       "2      EMERGENCY  INTRACRANIAL HEMORRHAGE;OPEN FX  \n",
       "3      EMERGENCY           GASTROINTESTINAL BLEED  \n",
       "4      EMERGENCY         CONGESTIVE HEART FAILURE  "
      ]
     },
     "execution_count": 27,
     "metadata": {},
     "output_type": "execute_result"
    }
   ],
   "source": [
    "# Display the first few rows\n",
    "test.head()"
   ]
  },
  {
   "cell_type": "markdown",
   "metadata": {},
   "source": [
    "### Load the chartevents data"
   ]
  },
  {
   "cell_type": "markdown",
   "metadata": {},
   "source": [
    "- The chartevents table contains data charted at the patient bedside. It includes variables such as heart rate, respiratory rate, temperature, and so on.\n",
    "- We'll begin by loading the chartevents data for a single patient."
   ]
  },
  {
   "cell_type": "code",
   "execution_count": 28,
   "metadata": {
    "collapsed": false
   },
   "outputs": [],
   "source": [
    "query = \"\"\"\n",
    "SELECT de.icustay_id\n",
    "  , (strftime('%s',de.charttime)-strftime('%s',ie.intime))/60.0/60.0 as HOURS\n",
    "  , di.label\n",
    "  , de.value\n",
    "  , de.valuenum\n",
    "  , de.uom\n",
    "FROM chartevents de\n",
    "INNER join d_items di\n",
    "ON de.itemid = di.itemid\n",
    "INNER join icustays ie\n",
    "ON de.icustay_id = ie.icustay_id\n",
    "WHERE de.subject_id = 40036\n",
    "ORDER BY charttime;\n",
    "\"\"\"\n",
    "\n",
    "ce = pd.read_sql_query(query,conn)\n"
   ]
  },
  {
   "cell_type": "code",
   "execution_count": 29,
   "metadata": {
    "collapsed": false
   },
   "outputs": [
    {
     "data": {
      "text/html": [
       "<div>\n",
       "<table border=\"1\" class=\"dataframe\">\n",
       "  <thead>\n",
       "    <tr style=\"text-align: right;\">\n",
       "      <th></th>\n",
       "      <th>ICUSTAY_ID</th>\n",
       "      <th>HOURS</th>\n",
       "      <th>LABEL</th>\n",
       "      <th>VALUE</th>\n",
       "      <th>VALUENUM</th>\n",
       "      <th>UOM</th>\n",
       "    </tr>\n",
       "  </thead>\n",
       "  <tbody>\n",
       "    <tr>\n",
       "      <th>0</th>\n",
       "      <td>285485</td>\n",
       "      <td>0.403333</td>\n",
       "      <td>Lactic Acid</td>\n",
       "      <td>1.1</td>\n",
       "      <td>1.1</td>\n",
       "      <td>mmol/L</td>\n",
       "    </tr>\n",
       "    <tr>\n",
       "      <th>1</th>\n",
       "      <td>285485</td>\n",
       "      <td>1.553333</td>\n",
       "      <td>Heart Rate</td>\n",
       "      <td>75</td>\n",
       "      <td>75.0</td>\n",
       "      <td>bpm</td>\n",
       "    </tr>\n",
       "    <tr>\n",
       "      <th>2</th>\n",
       "      <td>285485</td>\n",
       "      <td>1.553333</td>\n",
       "      <td>O2 saturation pulseoxymetry</td>\n",
       "      <td>97</td>\n",
       "      <td>97.0</td>\n",
       "      <td>%</td>\n",
       "    </tr>\n",
       "    <tr>\n",
       "      <th>3</th>\n",
       "      <td>285485</td>\n",
       "      <td>1.553333</td>\n",
       "      <td>Admission Weight (Kg)</td>\n",
       "      <td>125.8</td>\n",
       "      <td>125.8</td>\n",
       "      <td>kg</td>\n",
       "    </tr>\n",
       "    <tr>\n",
       "      <th>4</th>\n",
       "      <td>285485</td>\n",
       "      <td>1.553333</td>\n",
       "      <td>Admission Weight (lbs.)</td>\n",
       "      <td>276.8</td>\n",
       "      <td>276.8</td>\n",
       "      <td></td>\n",
       "    </tr>\n",
       "  </tbody>\n",
       "</table>\n",
       "</div>"
      ],
      "text/plain": [
       "   ICUSTAY_ID     HOURS                        LABEL  VALUE  VALUENUM     UOM\n",
       "0      285485  0.403333                  Lactic Acid    1.1       1.1  mmol/L\n",
       "1      285485  1.553333                   Heart Rate     75      75.0     bpm\n",
       "2      285485  1.553333  O2 saturation pulseoxymetry     97      97.0       %\n",
       "3      285485  1.553333        Admission Weight (Kg)  125.8     125.8      kg\n",
       "4      285485  1.553333      Admission Weight (lbs.)  276.8     276.8        "
      ]
     },
     "execution_count": 29,
     "metadata": {},
     "output_type": "execute_result"
    }
   ],
   "source": [
    "# Preview the data\n",
    "# Use 'head' to limit the number of rows returned\n",
    "ce.head()"
   ]
  },
  {
   "cell_type": "markdown",
   "metadata": {},
   "source": [
    "### Review the patient's heart rate"
   ]
  },
  {
   "cell_type": "markdown",
   "metadata": {},
   "source": [
    "- We can select individual columns using the column name. \n",
    "- For example, if we want to select just the label column, we write **```ce.LABEL```** or alternatively **```ce['LABEL']```**"
   ]
  },
  {
   "cell_type": "code",
   "execution_count": 30,
   "metadata": {
    "collapsed": false
   },
   "outputs": [
    {
     "data": {
      "text/plain": [
       "0                                   Lactic Acid\n",
       "1                                    Heart Rate\n",
       "2                   O2 saturation pulseoxymetry\n",
       "3                         Admission Weight (Kg)\n",
       "4                       Admission Weight (lbs.)\n",
       "5                                    Heart Rate\n",
       "6                       Heart rate Alarm - High\n",
       "7                        Heart Rate Alarm - Low\n",
       "8                              Respiratory Rate\n",
       "9                   O2 saturation pulseoxymetry\n",
       "10     Non-Invasive Blood Pressure Alarm - High\n",
       "11      Non-Invasive Blood Pressure Alarm - Low\n",
       "12                       Temperature Fahrenheit\n",
       "13     O2 Saturation Pulseoxymetry Alarm - High\n",
       "14      O2 Saturation Pulseoxymetry Alarm - Low\n",
       "15                            Resp Alarm - High\n",
       "16                             Resp Alarm - Low\n",
       "17                             SpO2 Desat Limit\n",
       "18         Non Invasive Blood Pressure systolic\n",
       "19        Non Invasive Blood Pressure diastolic\n",
       "20             Non Invasive Blood Pressure mean\n",
       "21                           Richmond-RAS Scale\n",
       "22                            GCS - Eye Opening\n",
       "23                        GCS - Verbal Response\n",
       "24                         GCS - Motor Response\n",
       "25                                   Heart Rate\n",
       "26                             Respiratory Rate\n",
       "27                  O2 saturation pulseoxymetry\n",
       "28         Non Invasive Blood Pressure systolic\n",
       "29        Non Invasive Blood Pressure diastolic\n",
       "                         ...                   \n",
       "138                                  Heart Rate\n",
       "139                            Respiratory Rate\n",
       "140                 O2 saturation pulseoxymetry\n",
       "141                                  Heart Rate\n",
       "142                     Heart rate Alarm - High\n",
       "143                      Heart Rate Alarm - Low\n",
       "144                            Respiratory Rate\n",
       "145                 O2 saturation pulseoxymetry\n",
       "146    Non-Invasive Blood Pressure Alarm - High\n",
       "147     Non-Invasive Blood Pressure Alarm - Low\n",
       "148                      Temperature Fahrenheit\n",
       "149    O2 Saturation Pulseoxymetry Alarm - High\n",
       "150     O2 Saturation Pulseoxymetry Alarm - Low\n",
       "151                           Resp Alarm - High\n",
       "152                            Resp Alarm - Low\n",
       "153                            SpO2 Desat Limit\n",
       "154                          Richmond-RAS Scale\n",
       "155                           GCS - Eye Opening\n",
       "156                       GCS - Verbal Response\n",
       "157                        GCS - Motor Response\n",
       "158        Non Invasive Blood Pressure systolic\n",
       "159       Non Invasive Blood Pressure diastolic\n",
       "160            Non Invasive Blood Pressure mean\n",
       "161                                  Heart Rate\n",
       "162        Non Invasive Blood Pressure systolic\n",
       "163       Non Invasive Blood Pressure diastolic\n",
       "164            Non Invasive Blood Pressure mean\n",
       "165                            Respiratory Rate\n",
       "166                 O2 saturation pulseoxymetry\n",
       "167                        Glucose finger stick\n",
       "Name: LABEL, dtype: object"
      ]
     },
     "execution_count": 30,
     "metadata": {},
     "output_type": "execute_result"
    }
   ],
   "source": [
    "# Select a single column\n",
    "ce['LABEL']"
   ]
  },
  {
   "cell_type": "markdown",
   "metadata": {},
   "source": [
    "- In a similar way, we can select rows from data using indexes. \n",
    "- For example, to select rows where the label is equal to 'Heart Rate', we would create an index using **```[ce.LABEL=='Heart Rate']```** "
   ]
  },
  {
   "cell_type": "code",
   "execution_count": null,
   "metadata": {
    "collapsed": false
   },
   "outputs": [],
   "source": [
    "# Select just the heart rate rows using an index\n",
    "ce[ce.LABEL=='Heart Rate']"
   ]
  },
  {
   "cell_type": "markdown",
   "metadata": {},
   "source": [
    "### Plot 1: How did the patients heart rate change over time?"
   ]
  },
  {
   "cell_type": "markdown",
   "metadata": {},
   "source": [
    "- Using the methods described above to select our data of interest, we can create our x and y axis values to create a time series plot of heart rate."
   ]
  },
  {
   "cell_type": "code",
   "execution_count": null,
   "metadata": {
    "collapsed": false
   },
   "outputs": [],
   "source": [
    "# Which time stamps have a corresponding heart rate measurement?\n",
    "print ce.index[ce.LABEL=='Heart Rate']"
   ]
  },
  {
   "cell_type": "code",
   "execution_count": 31,
   "metadata": {
    "collapsed": false,
    "scrolled": true
   },
   "outputs": [
    {
     "data": {
      "text/plain": [
       "<matplotlib.text.Text at 0x1154ab810>"
      ]
     },
     "execution_count": 31,
     "metadata": {},
     "output_type": "execute_result"
    },
    {
     "data": {
      "image/png": "[encoded data removed]",
      "text/plain": [
       "<matplotlib.figure.Figure at 0x1151eebd0>"
      ]
     },
     "metadata": {},
     "output_type": "display_data"
    }
   ],
   "source": [
    "# Set x equal to the times\n",
    "x_hr = ce.HOURS[ce.LABEL=='Heart Rate']\n",
    "\n",
    "# Set y equal to the heart rates\n",
    "y_hr = ce.VALUENUM[ce.LABEL=='Heart Rate']\n",
    "\n",
    "# Plot time against heart rate\n",
    "plt.figure(figsize=(14, 6))\n",
    "plt.plot(x_hr,y_hr)\n",
    "\n",
    "\n",
    "plt.xlabel('Time',fontsize=16)\n",
    "plt.ylabel('Heart rate',fontsize=16)\n",
    "plt.title('Heart rate over time from admission to the intensive care unit')"
   ]
  },
  {
   "cell_type": "markdown",
   "metadata": {},
   "source": [
    "### Task 1\n",
    "\n",
    "* What is happening to this patient's heart rate?\n",
    "* Plot respiratory rate over time for the patient.\n",
    "* Is there anything unusual about the patient's respiratory rate?\n"
   ]
  },
  {
   "cell_type": "code",
   "execution_count": null,
   "metadata": {
    "collapsed": true
   },
   "outputs": [],
   "source": [
    "# Exercise 1 here\n",
    "\n"
   ]
  },
  {
   "cell_type": "markdown",
   "metadata": {},
   "source": [
    "### Plot 2: Did the patient's vital signs breach any alarm thresholds?"
   ]
  },
  {
   "cell_type": "markdown",
   "metadata": {},
   "source": [
    "- Alarm systems in the intensive care unit are commonly based on high and low thresholds defined by the carer.\n",
    "- False alarms are often a problem and so thresholds may be set arbitrarily to reduce alarms.\n",
    "- As a result, alarm settings carry limited information."
   ]
  },
  {
   "cell_type": "code",
   "execution_count": 37,
   "metadata": {
    "collapsed": false
   },
   "outputs": [
    {
     "data": {
      "text/plain": [
       "(0, 55)"
      ]
     },
     "execution_count": 37,
     "metadata": {},
     "output_type": "execute_result"
    },
    {
     "data": {
      "image/png": "[encoded data removed]",
      "text/plain": [
       "<matplotlib.figure.Figure at 0x115489350>"
      ]
     },
     "metadata": {},
     "output_type": "display_data"
    }
   ],
   "source": [
    "plt.figure(figsize=(14, 6))\n",
    "\n",
    "plt.plot(ce.HOURS[ce.LABEL=='Respiratory Rate'], \n",
    "         ce.VALUENUM[ce.LABEL=='Respiratory Rate'],\n",
    "         'k+', markersize=10, linewidth=4)\n",
    "\n",
    "plt.plot(ce.HOURS[ce.LABEL=='Resp Alarm - High'], \n",
    "         ce.VALUENUM[ce.LABEL=='Resp Alarm - High'],\n",
    "         'm--')\n",
    "\n",
    "plt.plot(ce.HOURS[ce.LABEL=='Resp Alarm - Low'], \n",
    "         ce.VALUENUM[ce.LABEL=='Resp Alarm - Low'],\n",
    "         'm--')\n",
    "\n",
    "plt.xlabel('Time',fontsize=16)\n",
    "plt.ylabel('Respiratory rate',fontsize=16)\n",
    "plt.title('Respiratory rate over time from admission, with upper and lower alarm thresholds')\n",
    "plt.ylim(0,55)\n"
   ]
  },
  {
   "cell_type": "markdown",
   "metadata": {},
   "source": [
    "### Task 2\n",
    "\n",
    "- Based on the data, does it look like the alarms would have triggered for this patient?\n"
   ]
  },
  {
   "cell_type": "markdown",
   "metadata": {},
   "source": [
    "### Plot 3: What is patient's level of consciousness?"
   ]
  },
  {
   "cell_type": "markdown",
   "metadata": {},
   "source": [
    "- Glasgow Coma Scale (GCS) is a measure of consciousness.\n",
    "- It is commonly used for monitoring patients in the intensive care unit. \n",
    "- It consists of three components: eye response; verbal response; motor response."
   ]
  },
  {
   "cell_type": "code",
   "execution_count": 33,
   "metadata": {
    "collapsed": false
   },
   "outputs": [
    {
     "data": {
      "text/html": [
       "<div>\n",
       "<table border=\"1\" class=\"dataframe\">\n",
       "  <thead>\n",
       "    <tr style=\"text-align: right;\">\n",
       "      <th></th>\n",
       "      <th>ICUSTAY_ID</th>\n",
       "      <th>HOURS</th>\n",
       "      <th>LABEL</th>\n",
       "      <th>VALUE</th>\n",
       "      <th>VALUENUM</th>\n",
       "      <th>UOM</th>\n",
       "    </tr>\n",
       "  </thead>\n",
       "  <tbody>\n",
       "    <tr>\n",
       "      <th>22</th>\n",
       "      <td>285485</td>\n",
       "      <td>1.753333</td>\n",
       "      <td>GCS - Eye Opening</td>\n",
       "      <td>Spontaneously</td>\n",
       "      <td>4</td>\n",
       "      <td></td>\n",
       "    </tr>\n",
       "    <tr>\n",
       "      <th>47</th>\n",
       "      <td>285485</td>\n",
       "      <td>4.186667</td>\n",
       "      <td>GCS - Eye Opening</td>\n",
       "      <td>Spontaneously</td>\n",
       "      <td>4</td>\n",
       "      <td></td>\n",
       "    </tr>\n",
       "    <tr>\n",
       "      <th>103</th>\n",
       "      <td>285485</td>\n",
       "      <td>8.186667</td>\n",
       "      <td>GCS - Eye Opening</td>\n",
       "      <td>Spontaneously</td>\n",
       "      <td>4</td>\n",
       "      <td></td>\n",
       "    </tr>\n",
       "    <tr>\n",
       "      <th>118</th>\n",
       "      <td>285485</td>\n",
       "      <td>12.186667</td>\n",
       "      <td>GCS - Eye Opening</td>\n",
       "      <td>Spontaneously</td>\n",
       "      <td>4</td>\n",
       "      <td></td>\n",
       "    </tr>\n",
       "    <tr>\n",
       "      <th>155</th>\n",
       "      <td>285485</td>\n",
       "      <td>16.186667</td>\n",
       "      <td>GCS - Eye Opening</td>\n",
       "      <td>Spontaneously</td>\n",
       "      <td>4</td>\n",
       "      <td></td>\n",
       "    </tr>\n",
       "  </tbody>\n",
       "</table>\n",
       "</div>"
      ],
      "text/plain": [
       "     ICUSTAY_ID      HOURS              LABEL          VALUE  VALUENUM UOM\n",
       "22       285485   1.753333  GCS - Eye Opening  Spontaneously         4    \n",
       "47       285485   4.186667  GCS - Eye Opening  Spontaneously         4    \n",
       "103      285485   8.186667  GCS - Eye Opening  Spontaneously         4    \n",
       "118      285485  12.186667  GCS - Eye Opening  Spontaneously         4    \n",
       "155      285485  16.186667  GCS - Eye Opening  Spontaneously         4    "
      ]
     },
     "execution_count": 33,
     "metadata": {},
     "output_type": "execute_result"
    }
   ],
   "source": [
    "# Display the first few rows of the GCS eye response data\n",
    "ce[ce.LABEL=='GCS - Eye Opening'].head()"
   ]
  },
  {
   "cell_type": "code",
   "execution_count": 45,
   "metadata": {
    "collapsed": false
   },
   "outputs": [
    {
     "data": {
      "text/plain": [
       "(10, 165)"
      ]
     },
     "execution_count": 45,
     "metadata": {},
     "output_type": "execute_result"
    },
    {
     "data": {
      "image/png": "[encoded data removed]",
      "text/plain": [
       "<matplotlib.figure.Figure at 0x1180a5190>"
      ]
     },
     "metadata": {},
     "output_type": "display_data"
    }
   ],
   "source": [
    "# Prepare the size of the figure\n",
    "plt.figure(figsize=(14, 10))\n",
    "\n",
    "# Set x equal to the times\n",
    "x_hr = ce.HOURS[ce.LABEL=='Heart Rate']\n",
    "\n",
    "# Set y equal to the heart rates\n",
    "y_hr = ce.VALUENUM[ce.LABEL=='Heart Rate']\n",
    "\n",
    "\n",
    "plt.plot(x_hr,y_hr)\n",
    "\n",
    "plt.plot(ce.HOURS[ce.LABEL=='Respiratory Rate'], \n",
    "         ce.VALUENUM[ce.LABEL=='Respiratory Rate'],\n",
    "         'k', markersize=6)\n",
    "\n",
    "# Add a text label to the y-axis\n",
    "plt.text(-4,155,'GCS - Eye Opening',fontsize=14)\n",
    "plt.text(-4,150,'GCS - Motor Response',fontsize=14)\n",
    "plt.text(-4,145,'GCS - Verbal Response',fontsize=14)   \n",
    "\n",
    "# Iterate over list of GCS labels, plotting around 1 in 10 to avoid overlap\n",
    "for i, txt in enumerate(ce.VALUE[ce.LABEL=='GCS - Eye Opening'].values):\n",
    "    if np.mod(i,6)==0 and i < 65:\n",
    "        plt.annotate(txt, (ce.HOURS[ce.LABEL=='GCS - Eye Opening'].values[i],155),fontsize=14)\n",
    "        \n",
    "for i, txt in enumerate(ce.VALUE[ce.LABEL=='GCS - Motor Response'].values):\n",
    "    if np.mod(i,6)==0 and i < 65:\n",
    "        plt.annotate(txt, (ce.HOURS[ce.LABEL=='GCS - Motor Response'].values[i],150),fontsize=14)\n",
    "\n",
    "for i, txt in enumerate(ce.VALUE[ce.LABEL=='GCS - Verbal Response'].values):\n",
    "    if np.mod(i,6)==0 and i < 65:\n",
    "        plt.annotate(txt, (ce.HOURS[ce.LABEL=='GCS - Verbal Response'].values[i],145),fontsize=14)\n",
    "\n",
    "plt.title('Vital signs and Glasgow Coma Scale over time from admission',fontsize=16)\n",
    "\n",
    "plt.xlabel('Time (hours)',fontsize=16)\n",
    "plt.ylabel('Heart rate or GCS',fontsize=16)\n",
    "plt.ylim(10,165)\n"
   ]
  },
  {
   "cell_type": "markdown",
   "metadata": {},
   "source": [
    "### Task 3\n",
    "\n",
    "- How is the patient's consciousness changing over time?"
   ]
  },
  {
   "cell_type": "markdown",
   "metadata": {},
   "source": [
    "# Stop here..."
   ]
  },
  {
   "cell_type": "markdown",
   "metadata": {},
   "source": [
    "### Plot 2: What other data do we have on the patient?"
   ]
  },
  {
   "cell_type": "markdown",
   "metadata": {},
   "source": [
    "- Using Pandas 'read_csv function' again, we'll now load the patient outputs data (for example, urine output, drains, dialysis). This data is contained in the outputevents data table."
   ]
  },
  {
   "cell_type": "code",
   "execution_count": 46,
   "metadata": {
    "collapsed": false
   },
   "outputs": [],
   "source": [
    "# OPTION 1: load outputs from the patient\n",
    "query = \"\"\"\n",
    "select de.icustay_id\n",
    "  , (strftime('%s',de.charttime)-strftime('%s',ie.intime))/60.0/60.0 as HOURS\n",
    "  , di.label\n",
    "  , de.value\n",
    "  , de.valueuom\n",
    "from outputevents de \n",
    "inner join icustays ie\n",
    "  on de.icustay_id = ie.icustay_id\n",
    "inner join d_items di\n",
    "  on de.itemid = di.itemid\n",
    "where de.subject_id = 40036\n",
    "order by charttime;\n",
    "\"\"\"\n",
    "\n",
    "oe = pd.read_sql_query(query,conn)"
   ]
  },
  {
   "cell_type": "code",
   "execution_count": 13,
   "metadata": {
    "collapsed": false
   },
   "outputs": [
    {
     "data": {
      "text/html": [
       "<div>\n",
       "<table border=\"1\" class=\"dataframe\">\n",
       "  <thead>\n",
       "    <tr style=\"text-align: right;\">\n",
       "      <th></th>\n",
       "      <th>ICUSTAY_ID</th>\n",
       "      <th>HOURS</th>\n",
       "      <th>LABEL</th>\n",
       "      <th>VALUE</th>\n",
       "      <th>VALUEUOM</th>\n",
       "    </tr>\n",
       "  </thead>\n",
       "  <tbody>\n",
       "    <tr>\n",
       "      <th>0</th>\n",
       "      <td>285485</td>\n",
       "      <td>1.670000</td>\n",
       "      <td>Foley</td>\n",
       "      <td>120</td>\n",
       "      <td>mL</td>\n",
       "    </tr>\n",
       "    <tr>\n",
       "      <th>1</th>\n",
       "      <td>285485</td>\n",
       "      <td>4.186667</td>\n",
       "      <td>Foley</td>\n",
       "      <td>80</td>\n",
       "      <td>mL</td>\n",
       "    </tr>\n",
       "    <tr>\n",
       "      <th>2</th>\n",
       "      <td>285485</td>\n",
       "      <td>6.186667</td>\n",
       "      <td>Foley</td>\n",
       "      <td>120</td>\n",
       "      <td>mL</td>\n",
       "    </tr>\n",
       "    <tr>\n",
       "      <th>3</th>\n",
       "      <td>285485</td>\n",
       "      <td>9.186667</td>\n",
       "      <td>Foley</td>\n",
       "      <td>140</td>\n",
       "      <td>mL</td>\n",
       "    </tr>\n",
       "    <tr>\n",
       "      <th>4</th>\n",
       "      <td>285485</td>\n",
       "      <td>11.186667</td>\n",
       "      <td>Foley</td>\n",
       "      <td>200</td>\n",
       "      <td>mL</td>\n",
       "    </tr>\n",
       "    <tr>\n",
       "      <th>5</th>\n",
       "      <td>285485</td>\n",
       "      <td>12.186667</td>\n",
       "      <td>Foley</td>\n",
       "      <td>60</td>\n",
       "      <td>mL</td>\n",
       "    </tr>\n",
       "    <tr>\n",
       "      <th>6</th>\n",
       "      <td>285485</td>\n",
       "      <td>14.186667</td>\n",
       "      <td>Foley</td>\n",
       "      <td>160</td>\n",
       "      <td>mL</td>\n",
       "    </tr>\n",
       "    <tr>\n",
       "      <th>7</th>\n",
       "      <td>285485</td>\n",
       "      <td>16.186667</td>\n",
       "      <td>Foley</td>\n",
       "      <td>100</td>\n",
       "      <td>mL</td>\n",
       "    </tr>\n",
       "  </tbody>\n",
       "</table>\n",
       "</div>"
      ],
      "text/plain": [
       "   ICUSTAY_ID      HOURS  LABEL  VALUE VALUEUOM\n",
       "0      285485   1.670000  Foley    120       mL\n",
       "1      285485   4.186667  Foley     80       mL\n",
       "2      285485   6.186667  Foley    120       mL\n",
       "3      285485   9.186667  Foley    140       mL\n",
       "4      285485  11.186667  Foley    200       mL\n",
       "5      285485  12.186667  Foley     60       mL\n",
       "6      285485  14.186667  Foley    160       mL\n",
       "7      285485  16.186667  Foley    100       mL"
      ]
     },
     "execution_count": 13,
     "metadata": {},
     "output_type": "execute_result"
    }
   ],
   "source": [
    "oe.head()"
   ]
  },
  {
   "cell_type": "code",
   "execution_count": 47,
   "metadata": {
    "collapsed": false
   },
   "outputs": [
    {
     "data": {
      "text/plain": [
       "<matplotlib.legend.Legend at 0x114f85850>"
      ]
     },
     "execution_count": 47,
     "metadata": {},
     "output_type": "execute_result"
    },
    {
     "data": {
      "image/png": "[encoded data removed]",
      "text/plain": [
       "<matplotlib.figure.Figure at 0x116ef7b50>"
      ]
     },
     "metadata": {},
     "output_type": "display_data"
    }
   ],
   "source": [
    "# Prepare the size of the figure\n",
    "plt.figure(figsize=(14, 10))\n",
    "\n",
    "plt.title('Fluid output over time')\n",
    "\n",
    "plt.plot(oe.HOURS, \n",
    "         oe.VALUE.cumsum()/1000, \n",
    "         'ro', markersize=8, label='Output volume, L')\n",
    "\n",
    "plt.xlim(0,20)\n",
    "plt.ylim(0,2)\n",
    "plt.legend()"
   ]
  },
  {
   "cell_type": "markdown",
   "metadata": {},
   "source": [
    "To provide context for this plot, it would help to include patient input data. This helps to determine the patient's fluid balance, a key indicator in patient health."
   ]
  },
  {
   "cell_type": "code",
   "execution_count": 48,
   "metadata": {
    "collapsed": false
   },
   "outputs": [],
   "source": [
    "# Load inputs given to the patient (usually intravenously) using the database connection\n",
    "query = \"\"\"\n",
    "select de.icustay_id\n",
    "  , (strftime('%s',de.starttime)-strftime('%s',ie.intime))/60.0/60.0 as HOURS_START\n",
    "  , (strftime('%s',de.endtime)-strftime('%s',ie.intime))/60.0/60.0 as HOURS_END\n",
    "  , de.linkorderid\n",
    "  , di.label\n",
    "  , de.amount\n",
    "  , de.amountuom\n",
    "  , de.rate\n",
    "  , de.rateuom\n",
    "from inputevents_mv de \n",
    "inner join icustays ie\n",
    "  on de.icustay_id = ie.icustay_id\n",
    "inner join d_items di\n",
    "  on de.itemid = di.itemid\n",
    "where de.subject_id = 40036\n",
    "order by endtime;\n",
    "\"\"\"\n",
    "\n",
    "ie = pd.read_sql_query(query,conn)\n"
   ]
  },
  {
   "cell_type": "code",
   "execution_count": 15,
   "metadata": {
    "collapsed": false
   },
   "outputs": [
    {
     "data": {
      "text/html": [
       "<div>\n",
       "<table border=\"1\" class=\"dataframe\">\n",
       "  <thead>\n",
       "    <tr style=\"text-align: right;\">\n",
       "      <th></th>\n",
       "      <th>ICUSTAY_ID</th>\n",
       "      <th>HOURS_START</th>\n",
       "      <th>HOURS_END</th>\n",
       "      <th>LINKORDERID</th>\n",
       "      <th>LABEL</th>\n",
       "      <th>AMOUNT</th>\n",
       "      <th>AMOUNTUOM</th>\n",
       "      <th>RATE</th>\n",
       "      <th>RATEUOM</th>\n",
       "    </tr>\n",
       "  </thead>\n",
       "  <tbody>\n",
       "    <tr>\n",
       "      <th>0</th>\n",
       "      <td>285485</td>\n",
       "      <td>4.220000</td>\n",
       "      <td>4.236667</td>\n",
       "      <td>5407282</td>\n",
       "      <td>Cefepime</td>\n",
       "      <td>1</td>\n",
       "      <td>dose</td>\n",
       "      <td>NaN</td>\n",
       "      <td></td>\n",
       "    </tr>\n",
       "    <tr>\n",
       "      <th>1</th>\n",
       "      <td>285485</td>\n",
       "      <td>4.220000</td>\n",
       "      <td>4.236667</td>\n",
       "      <td>5407282</td>\n",
       "      <td>Dextrose 5%</td>\n",
       "      <td>50</td>\n",
       "      <td>mL</td>\n",
       "      <td>NaN</td>\n",
       "      <td></td>\n",
       "    </tr>\n",
       "    <tr>\n",
       "      <th>2</th>\n",
       "      <td>285485</td>\n",
       "      <td>1.586667</td>\n",
       "      <td>8.253333</td>\n",
       "      <td>7047511</td>\n",
       "      <td>NaCl 0.9%</td>\n",
       "      <td>1000</td>\n",
       "      <td>mL</td>\n",
       "      <td>150</td>\n",
       "      <td>mL/hour</td>\n",
       "    </tr>\n",
       "    <tr>\n",
       "      <th>3</th>\n",
       "      <td>285485</td>\n",
       "      <td>12.803333</td>\n",
       "      <td>12.870000</td>\n",
       "      <td>5497279</td>\n",
       "      <td>NaCl 0.9%</td>\n",
       "      <td>10</td>\n",
       "      <td>mL</td>\n",
       "      <td>150</td>\n",
       "      <td>mL/hour</td>\n",
       "    </tr>\n",
       "    <tr>\n",
       "      <th>4</th>\n",
       "      <td>285485</td>\n",
       "      <td>13.186667</td>\n",
       "      <td>13.203333</td>\n",
       "      <td>6350485</td>\n",
       "      <td>Insulin - Humalog</td>\n",
       "      <td>1</td>\n",
       "      <td>units</td>\n",
       "      <td>NaN</td>\n",
       "      <td></td>\n",
       "    </tr>\n",
       "  </tbody>\n",
       "</table>\n",
       "</div>"
      ],
      "text/plain": [
       "   ICUSTAY_ID  HOURS_START  HOURS_END  LINKORDERID              LABEL  AMOUNT  \\\n",
       "0      285485     4.220000   4.236667      5407282           Cefepime       1   \n",
       "1      285485     4.220000   4.236667      5407282        Dextrose 5%      50   \n",
       "2      285485     1.586667   8.253333      7047511          NaCl 0.9%    1000   \n",
       "3      285485    12.803333  12.870000      5497279          NaCl 0.9%      10   \n",
       "4      285485    13.186667  13.203333      6350485  Insulin - Humalog       1   \n",
       "\n",
       "  AMOUNTUOM  RATE  RATEUOM  \n",
       "0      dose   NaN           \n",
       "1        mL   NaN           \n",
       "2        mL   150  mL/hour  \n",
       "3        mL   150  mL/hour  \n",
       "4     units   NaN           "
      ]
     },
     "execution_count": 15,
     "metadata": {},
     "output_type": "execute_result"
    }
   ],
   "source": [
    "ie.head()"
   ]
  },
  {
   "cell_type": "markdown",
   "metadata": {},
   "source": [
    "Note that the column headers are different: we have \"HOURS_START\" and \"HOURS_END\". This is because inputs are administered over a fixed period of time."
   ]
  },
  {
   "cell_type": "code",
   "execution_count": 49,
   "metadata": {
    "collapsed": false
   },
   "outputs": [
    {
     "data": {
      "text/plain": [
       "array([u'Cefepime', u'Dextrose 5%', u'NaCl 0.9%', u'Insulin - Humalog',\n",
       "       u'Magnesium Sulfate (Bolus)', u'Magnesium Sulfate',\n",
       "       u'Heparin Sodium (Prophylaxis)'], dtype=object)"
      ]
     },
     "execution_count": 49,
     "metadata": {},
     "output_type": "execute_result"
    }
   ],
   "source": [
    "ie['LABEL'].unique()"
   ]
  },
  {
   "cell_type": "code",
   "execution_count": 50,
   "metadata": {
    "collapsed": false
   },
   "outputs": [
    {
     "data": {
      "text/plain": [
       "<matplotlib.legend.Legend at 0x116a2dad0>"
      ]
     },
     "execution_count": 50,
     "metadata": {},
     "output_type": "execute_result"
    },
    {
     "data": {
      "image/png": "[encoded data removed]",
      "text/plain": [
       "<matplotlib.figure.Figure at 0x1180a5cd0>"
      ]
     },
     "metadata": {},
     "output_type": "display_data"
    }
   ],
   "source": [
    "# Prepare the size of the figure\n",
    "plt.figure(figsize=(14, 10))\n",
    "\n",
    "# Plot the cumulative input against the cumulative output\n",
    "plt.plot(ie.HOURS_END[ie.AMOUNTUOM=='mL'], \n",
    "         ie.AMOUNT[ie.AMOUNTUOM=='mL'].cumsum()/1000, \n",
    "         'go', markersize=8, label='Intake volume, L')\n",
    "\n",
    "plt.plot(oe.HOURS, \n",
    "         oe.VALUE.cumsum()/1000, \n",
    "         'ro', markersize=8, label='Output volume, L')\n",
    "\n",
    "plt.title('Fluid balance over time',fontsize=16)\n",
    "plt.xlabel('Hours',fontsize=16)\n",
    "plt.ylabel('Volume (litres)',fontsize=16)\n",
    "# plt.ylim(0,38)\n",
    "plt.legend()"
   ]
  },
  {
   "cell_type": "markdown",
   "metadata": {
    "collapsed": true
   },
   "source": [
    "As the plot shows, the patient's intake tends to be above their output. There are however periods where input and output are almost one to one. One of the biggest challenges of working with ICU data is that context is everything, so let's look at a treatment (Furosemide/Lasix) which we know will affect this graph."
   ]
  },
  {
   "cell_type": "code",
   "execution_count": 51,
   "metadata": {
    "collapsed": false
   },
   "outputs": [
    {
     "data": {
      "text/plain": [
       "<matplotlib.legend.Legend at 0x115544990>"
      ]
     },
     "execution_count": 51,
     "metadata": {},
     "output_type": "execute_result"
    },
    {
     "data": {
      "image/png": "[encoded data removed]",
      "text/plain": [
       "<matplotlib.figure.Figure at 0x1180e7d50>"
      ]
     },
     "metadata": {},
     "output_type": "display_data"
    }
   ],
   "source": [
    "plt.figure(figsize=(14, 10))\n",
    "\n",
    "# Plot the cumulative input against the cumulative output\n",
    "plt.plot(ie.HOURS_END[ie.AMOUNTUOM=='mL'], \n",
    "         ie.AMOUNT[ie.AMOUNTUOM=='mL'].cumsum()/1000, \n",
    "         'go', markersize=8, label='Intake volume, L')\n",
    "\n",
    "plt.plot(oe.HOURS, \n",
    "         oe.VALUE.cumsum()/1000, \n",
    "         'ro', markersize=8, label='Output volume, L')\n",
    "\n",
    "# example on getting two columns from a dataframe: ie[['HOURS_START','HOURS_END']].head()\n",
    "\n",
    "for i, idx in enumerate(ie.index[ie.LABEL=='Furosemide (Lasix)']):\n",
    "    plt.plot([ie.HOURS_START[ie.LABEL=='Furosemide (Lasix)'][idx],\n",
    "             ie.HOURS_END[ie.LABEL=='Furosemide (Lasix)'][idx]],\n",
    "            [ie.RATE[ie.LABEL=='Furosemide (Lasix)'][idx],\n",
    "             ie.RATE[ie.LABEL=='Furosemide (Lasix)'][idx]],\n",
    "            'b-',linewidth=4)\n",
    "    \n",
    "\n",
    "plt.title('Fluid balance over time',fontsize=16)\n",
    "plt.xlabel('Hours',fontsize=16)\n",
    "plt.ylabel('Volume (litres)',fontsize=16)\n",
    "# plt.ylim(0,38)\n",
    "plt.legend()\n"
   ]
  },
  {
   "cell_type": "code",
   "execution_count": 52,
   "metadata": {
    "collapsed": false
   },
   "outputs": [
    {
     "data": {
      "text/plain": [
       "array([u'Cefepime', u'Dextrose 5%', u'NaCl 0.9%', u'Insulin - Humalog',\n",
       "       u'Magnesium Sulfate (Bolus)', u'Magnesium Sulfate',\n",
       "       u'Heparin Sodium (Prophylaxis)'], dtype=object)"
      ]
     },
     "execution_count": 52,
     "metadata": {},
     "output_type": "execute_result"
    }
   ],
   "source": [
    "ie['LABEL'].unique()"
   ]
  },
  {
   "cell_type": "markdown",
   "metadata": {},
   "source": [
    "### Exercise 2\n",
    "\n",
    "* Plot the alarms for the mean arterial pressure ('```Arterial Blood Pressure mean```')\n",
    "* HINT: you can use ```ce.LABEL.unique()``` to find a list of variable names\n",
    "* Were the alarm thresholds breached?"
   ]
  },
  {
   "cell_type": "code",
   "execution_count": null,
   "metadata": {
    "collapsed": false
   },
   "outputs": [],
   "source": [
    "# Exercise 2 here\n",
    "\n",
    "\n"
   ]
  },
  {
   "cell_type": "markdown",
   "metadata": {},
   "source": [
    "### Plot 3: Were the patient's other vital signs stable?"
   ]
  },
  {
   "cell_type": "code",
   "execution_count": 53,
   "metadata": {
    "collapsed": false
   },
   "outputs": [
    {
     "data": {
      "text/plain": [
       "<matplotlib.legend.Legend at 0x1178daa50>"
      ]
     },
     "execution_count": 53,
     "metadata": {},
     "output_type": "execute_result"
    },
    {
     "data": {
      "image/png": "[encoded data removed]",
      "text/plain": [
       "<matplotlib.figure.Figure at 0x118108290>"
      ]
     },
     "metadata": {},
     "output_type": "display_data"
    }
   ],
   "source": [
    "plt.figure(figsize=(14, 10))\n",
    "\n",
    "plt.plot(ce.index[ce.LABEL=='Heart Rate'], \n",
    "         ce.VALUENUM[ce.LABEL=='Heart Rate'],\n",
    "         'rx', markersize=8, label='HR')\n",
    "\n",
    "plt.plot(ce.index[ce.LABEL=='O2 saturation pulseoxymetry'], \n",
    "         ce.VALUENUM[ce.LABEL=='O2 saturation pulseoxymetry'], \n",
    "         'g.', markersize=8, label='O2')\n",
    "\n",
    "plt.plot(ce.index[ce.LABEL=='Arterial Blood Pressure mean'], \n",
    "         ce.VALUENUM[ce.LABEL=='Arterial Blood Pressure mean'], \n",
    "         'bv', markersize=8, label='MAP')\n",
    "\n",
    "plt.plot(ce.index[ce.LABEL=='Respiratory Rate'], \n",
    "         ce.VALUENUM[ce.LABEL=='Respiratory Rate'], \n",
    "         'k+', markersize=8, label='RR')\n",
    "\n",
    "plt.title('Vital signs over time from admission')\n",
    "plt.ylim(0,130)\n",
    "plt.legend()"
   ]
  },
  {
   "cell_type": "markdown",
   "metadata": {},
   "source": [
    "### Plot 5: Laboratory measurements"
   ]
  },
  {
   "cell_type": "markdown",
   "metadata": {},
   "source": [
    "Using Pandas 'read_csv function' again, we'll now load the labevents data.\n",
    "This data corresponds to measurements made in a laboratory - usually on a sample of patient blood. "
   ]
  },
  {
   "cell_type": "code",
   "execution_count": 58,
   "metadata": {
    "collapsed": false
   },
   "outputs": [],
   "source": [
    "# OPTION 1: load labevents data using the database connection\n",
    "query = \"\"\"\n",
    "SELECT de.subject_id\n",
    "  , de.charttime\n",
    "  , di.label, de.value, de.valuenum\n",
    "  , de.uom\n",
    "FROM labevents de\n",
    "INNER JOIN d_labitems di\n",
    "  ON de.itemid = di.itemid\n",
    "where de.subject_id = 40036\n",
    "\"\"\"\n",
    "\n",
    "le = pd.read_sql_query(query,conn)"
   ]
  },
  {
   "cell_type": "code",
   "execution_count": 55,
   "metadata": {
    "collapsed": false
   },
   "outputs": [
    {
     "data": {
      "text/html": [
       "<div>\n",
       "<table border=\"1\" class=\"dataframe\">\n",
       "  <thead>\n",
       "    <tr style=\"text-align: right;\">\n",
       "      <th></th>\n",
       "      <th>SUBJECT_ID</th>\n",
       "      <th>CHARTTIME</th>\n",
       "      <th>LABEL</th>\n",
       "      <th>VALUE</th>\n",
       "      <th>VALUENUM</th>\n",
       "      <th>UOM</th>\n",
       "    </tr>\n",
       "  </thead>\n",
       "  <tbody>\n",
       "    <tr>\n",
       "      <th>0</th>\n",
       "      <td>40036</td>\n",
       "      <td>2141-08-01 14:15:00</td>\n",
       "      <td>ANION GAP</td>\n",
       "      <td>18</td>\n",
       "      <td>18.0</td>\n",
       "      <td>mEq/L</td>\n",
       "    </tr>\n",
       "    <tr>\n",
       "      <th>1</th>\n",
       "      <td>40036</td>\n",
       "      <td>2141-08-01 14:15:00</td>\n",
       "      <td>BICARBONATE</td>\n",
       "      <td>25</td>\n",
       "      <td>25.0</td>\n",
       "      <td>mEq/L</td>\n",
       "    </tr>\n",
       "    <tr>\n",
       "      <th>2</th>\n",
       "      <td>40036</td>\n",
       "      <td>2141-08-01 14:15:00</td>\n",
       "      <td>CHLORIDE</td>\n",
       "      <td>97</td>\n",
       "      <td>97.0</td>\n",
       "      <td>mEq/L</td>\n",
       "    </tr>\n",
       "    <tr>\n",
       "      <th>3</th>\n",
       "      <td>40036</td>\n",
       "      <td>2141-08-01 14:15:00</td>\n",
       "      <td>CREATININE</td>\n",
       "      <td>2.5</td>\n",
       "      <td>2.5</td>\n",
       "      <td>mg/dL</td>\n",
       "    </tr>\n",
       "    <tr>\n",
       "      <th>4</th>\n",
       "      <td>40036</td>\n",
       "      <td>2141-08-01 14:15:00</td>\n",
       "      <td>GLUCOSE</td>\n",
       "      <td>130</td>\n",
       "      <td>130.0</td>\n",
       "      <td>mg/dL</td>\n",
       "    </tr>\n",
       "  </tbody>\n",
       "</table>\n",
       "</div>"
      ],
      "text/plain": [
       "   SUBJECT_ID            CHARTTIME        LABEL VALUE  VALUENUM    UOM\n",
       "0       40036  2141-08-01 14:15:00    ANION GAP    18      18.0  mEq/L\n",
       "1       40036  2141-08-01 14:15:00  BICARBONATE    25      25.0  mEq/L\n",
       "2       40036  2141-08-01 14:15:00     CHLORIDE    97      97.0  mEq/L\n",
       "3       40036  2141-08-01 14:15:00   CREATININE   2.5       2.5  mg/dL\n",
       "4       40036  2141-08-01 14:15:00      GLUCOSE   130     130.0  mg/dL"
      ]
     },
     "execution_count": 55,
     "metadata": {},
     "output_type": "execute_result"
    }
   ],
   "source": [
    "# preview the labevents data\n",
    "le.head()"
   ]
  },
  {
   "cell_type": "code",
   "execution_count": 56,
   "metadata": {
    "collapsed": false
   },
   "outputs": [
    {
     "data": {
      "text/html": [
       "<div>\n",
       "<table border=\"1\" class=\"dataframe\">\n",
       "  <thead>\n",
       "    <tr style=\"text-align: right;\">\n",
       "      <th></th>\n",
       "      <th>SUBJECT_ID</th>\n",
       "      <th>CHARTTIME</th>\n",
       "      <th>LABEL</th>\n",
       "      <th>VALUE</th>\n",
       "      <th>VALUENUM</th>\n",
       "      <th>UOM</th>\n",
       "    </tr>\n",
       "  </thead>\n",
       "  <tbody>\n",
       "    <tr>\n",
       "      <th>11</th>\n",
       "      <td>40036</td>\n",
       "      <td>2141-08-01 14:15:00</td>\n",
       "      <td>HEMOGLOBIN</td>\n",
       "      <td>14.3</td>\n",
       "      <td>14.3</td>\n",
       "      <td>g/dL</td>\n",
       "    </tr>\n",
       "    <tr>\n",
       "      <th>41</th>\n",
       "      <td>40036</td>\n",
       "      <td>2141-08-01 19:30:00</td>\n",
       "      <td>HEMOGLOBIN</td>\n",
       "      <td>14.4</td>\n",
       "      <td>14.4</td>\n",
       "      <td>g/dL</td>\n",
       "    </tr>\n",
       "    <tr>\n",
       "      <th>84</th>\n",
       "      <td>40036</td>\n",
       "      <td>2141-08-02 03:40:00</td>\n",
       "      <td>HEMOGLOBIN</td>\n",
       "      <td>7.6</td>\n",
       "      <td>7.6</td>\n",
       "      <td>g/dL</td>\n",
       "    </tr>\n",
       "    <tr>\n",
       "      <th>104</th>\n",
       "      <td>40036</td>\n",
       "      <td>2141-08-02 05:05:00</td>\n",
       "      <td>HEMOGLOBIN</td>\n",
       "      <td>12.4</td>\n",
       "      <td>12.4</td>\n",
       "      <td>g/dL</td>\n",
       "    </tr>\n",
       "    <tr>\n",
       "      <th>123</th>\n",
       "      <td>40036</td>\n",
       "      <td>2141-08-03 07:10:00</td>\n",
       "      <td>HEMOGLOBIN</td>\n",
       "      <td>12.6</td>\n",
       "      <td>12.6</td>\n",
       "      <td>g/dL</td>\n",
       "    </tr>\n",
       "    <tr>\n",
       "      <th>143</th>\n",
       "      <td>40036</td>\n",
       "      <td>2141-08-04 06:55:00</td>\n",
       "      <td>HEMOGLOBIN</td>\n",
       "      <td>11.8</td>\n",
       "      <td>11.8</td>\n",
       "      <td>g/dL</td>\n",
       "    </tr>\n",
       "    <tr>\n",
       "      <th>163</th>\n",
       "      <td>40036</td>\n",
       "      <td>2141-08-05 06:30:00</td>\n",
       "      <td>HEMOGLOBIN</td>\n",
       "      <td>11.6</td>\n",
       "      <td>11.6</td>\n",
       "      <td>g/dL</td>\n",
       "    </tr>\n",
       "    <tr>\n",
       "      <th>180</th>\n",
       "      <td>40036</td>\n",
       "      <td>2141-08-06 06:10:00</td>\n",
       "      <td>HEMOGLOBIN</td>\n",
       "      <td>11.9</td>\n",
       "      <td>11.9</td>\n",
       "      <td>g/dL</td>\n",
       "    </tr>\n",
       "    <tr>\n",
       "      <th>202</th>\n",
       "      <td>40036</td>\n",
       "      <td>2141-08-07 07:40:00</td>\n",
       "      <td>HEMOGLOBIN</td>\n",
       "      <td>11.8</td>\n",
       "      <td>11.8</td>\n",
       "      <td>g/dL</td>\n",
       "    </tr>\n",
       "    <tr>\n",
       "      <th>232</th>\n",
       "      <td>40036</td>\n",
       "      <td>2141-08-09 06:25:00</td>\n",
       "      <td>HEMOGLOBIN</td>\n",
       "      <td>11.9</td>\n",
       "      <td>11.9</td>\n",
       "      <td>g/dL</td>\n",
       "    </tr>\n",
       "  </tbody>\n",
       "</table>\n",
       "</div>"
      ],
      "text/plain": [
       "     SUBJECT_ID            CHARTTIME       LABEL VALUE  VALUENUM   UOM\n",
       "11        40036  2141-08-01 14:15:00  HEMOGLOBIN  14.3      14.3  g/dL\n",
       "41        40036  2141-08-01 19:30:00  HEMOGLOBIN  14.4      14.4  g/dL\n",
       "84        40036  2141-08-02 03:40:00  HEMOGLOBIN   7.6       7.6  g/dL\n",
       "104       40036  2141-08-02 05:05:00  HEMOGLOBIN  12.4      12.4  g/dL\n",
       "123       40036  2141-08-03 07:10:00  HEMOGLOBIN  12.6      12.6  g/dL\n",
       "143       40036  2141-08-04 06:55:00  HEMOGLOBIN  11.8      11.8  g/dL\n",
       "163       40036  2141-08-05 06:30:00  HEMOGLOBIN  11.6      11.6  g/dL\n",
       "180       40036  2141-08-06 06:10:00  HEMOGLOBIN  11.9      11.9  g/dL\n",
       "202       40036  2141-08-07 07:40:00  HEMOGLOBIN  11.8      11.8  g/dL\n",
       "232       40036  2141-08-09 06:25:00  HEMOGLOBIN  11.9      11.9  g/dL"
      ]
     },
     "execution_count": 56,
     "metadata": {},
     "output_type": "execute_result"
    }
   ],
   "source": [
    "# preview the ioevents data\n",
    "le[le.LABEL=='HEMOGLOBIN']"
   ]
  },
  {
   "cell_type": "code",
   "execution_count": 57,
   "metadata": {
    "collapsed": false
   },
   "outputs": [
    {
     "data": {
      "text/plain": [
       "<matplotlib.legend.Legend at 0x117442e90>"
      ]
     },
     "execution_count": 57,
     "metadata": {},
     "output_type": "execute_result"
    },
    {
     "data": {
      "image/png": "[encoded data removed]",
      "text/plain": [
       "<matplotlib.figure.Figure at 0x1156e2090>"
      ]
     },
     "metadata": {},
     "output_type": "display_data"
    }
   ],
   "source": [
    "plt.figure(figsize=(14, 10))\n",
    "\n",
    "plt.plot(le.index[le.LABEL=='HEMATOCRIT'], \n",
    "         le.VALUENUM[le.LABEL=='HEMATOCRIT'], \n",
    "         'go', markersize=6, label='Haematocrit')\n",
    "\n",
    "plt.plot(le.index[le.LABEL=='HEMOGLOBIN'], \n",
    "         le.VALUENUM[le.LABEL=='HEMOGLOBIN'], \n",
    "         'bv', markersize=8, label='Hemoglobin')\n",
    "\n",
    "plt.title('Laboratory measurements over time from admission')\n",
    "plt.ylim(0,38)\n",
    "plt.legend()"
   ]
  },
  {
   "cell_type": "code",
   "execution_count": null,
   "metadata": {
    "collapsed": true
   },
   "outputs": [],
   "source": []
  },
  {
   "cell_type": "markdown",
   "metadata": {},
   "source": [
    "## Plot 5: intravenous medications"
   ]
  },
  {
   "cell_type": "markdown",
   "metadata": {},
   "source": [
    "- Using the Pandas 'read_csv function' again, we'll now load the the ioevents dataset"
   ]
  },
  {
   "cell_type": "code",
   "execution_count": null,
   "metadata": {
    "collapsed": false
   },
   "outputs": [],
   "source": [
    "# load ioevents\n",
    "ioe = pd.read_csv('data/example_ioevents.csv',index_col='HOURSSINCEADMISSION_START')"
   ]
  },
  {
   "cell_type": "code",
   "execution_count": null,
   "metadata": {
    "collapsed": false
   },
   "outputs": [],
   "source": [
    "ioe.head()\n"
   ]
  },
  {
   "cell_type": "code",
   "execution_count": null,
   "metadata": {
    "collapsed": false
   },
   "outputs": [],
   "source": [
    "plt.figure(figsize=(14, 10))\n",
    "\n",
    "plt.plot(ioe.index[ioe.LABEL=='Midazolam (Versed)'], \n",
    "         ioe.RATE[ioe.LABEL=='Midazolam (Versed)'], \n",
    "         'go', markersize=6, label='Midazolam (Versed)')\n",
    "\n",
    "plt.plot(ioe.index[ioe.LABEL=='Propofol'], \n",
    "         ioe.RATE[ioe.LABEL=='Propofol'], \n",
    "         'bv', markersize=8, label='Propofol')\n",
    "\n",
    "plt.plot(ioe.index[ioe.LABEL=='Fentanyl'], \n",
    "         ioe.RATE[ioe.LABEL=='Fentanyl'], \n",
    "         'k+', markersize=8, label='Fentanyl')\n",
    "\n",
    "plt.title('IOevents over time from admission')\n",
    "plt.ylim(0,380)\n",
    "plt.legend()"
   ]
  },
  {
   "cell_type": "code",
   "execution_count": null,
   "metadata": {
    "collapsed": true
   },
   "outputs": [],
   "source": []
  },
  {
   "cell_type": "markdown",
   "metadata": {},
   "source": [
    "## Plot 6: blood products"
   ]
  },
  {
   "cell_type": "markdown",
   "metadata": {},
   "source": [
    "- Using Pandas 'read_csv function' again, we'll now load the blood products data"
   ]
  },
  {
   "cell_type": "code",
   "execution_count": null,
   "metadata": {
    "collapsed": false
   },
   "outputs": [],
   "source": [
    "plt.figure(figsize=(14, 10))\n",
    "\n",
    "plt.plot(ioe.index[ioe.LABEL=='OR Cryoprecipitate Intake'], \n",
    "         ioe.VALUENUM[ioe.LABEL=='OR Cryoprecipitate Intake'], \n",
    "         'go', markersize=6, label='OR Cryoprecipitate Intake')\n",
    "\n",
    "plt.plot(ioe.index[ioe.LABEL=='OR Crystalloid Intake'], \n",
    "         ioe.VALUENUM[ioe.LABEL=='OR Crystalloid Intake'], \n",
    "         'bv', markersize=8, label='OR Crystalloid Intake')\n",
    "\n",
    "plt.plot(ioe.index[ioe.LABEL=='OR FFP Intake'], \n",
    "         ioe.VALUENUM[ioe.LABEL=='OR FFP Intake'], \n",
    "         'k+', markersize=8, label='OR FFP Intake')\n",
    "\n",
    "plt.plot(ioe.index[ioe.LABEL=='OR Packed RBC Intake'], \n",
    "         ioe.VALUENUM[ioe.LABEL=='OR Packed RBC Intake'], \n",
    "         'k+', markersize=8, label='OR Packed RBC Intake')\n",
    "\n",
    "plt.plot(ioe.index[ioe.LABEL=='OR Platelet Intake'], \n",
    "         ioe.VALUENUM[ioe.LABEL=='OR Platelet Intake'], \n",
    "         'k+', markersize=8, label='OR Platelet Intake')\n",
    "\n",
    "plt.title('Blood products administered over time from admission')\n",
    "plt.legend()"
   ]
  },
  {
   "cell_type": "markdown",
   "metadata": {},
   "source": [
    "### Discharge summary"
   ]
  },
  {
   "cell_type": "code",
   "execution_count": null,
   "metadata": {
    "collapsed": false
   },
   "outputs": [],
   "source": [
    "# insert discharge summary here..."
   ]
  }
 ],
 "metadata": {
  "kernelspec": {
   "display_name": "Python 2",
   "language": "python",
   "name": "python2"
  },
  "language_info": {
   "codemirror_mode": {
    "name": "ipython",
    "version": 2
   },
   "file_extension": ".py",
   "mimetype": "text/x-python",
   "name": "python",
   "nbconvert_exporter": "python",
   "pygments_lexer": "ipython2",
   "version": "2.7.10"
  }
 },
 "nbformat": 4,
 "nbformat_minor": 0
}
