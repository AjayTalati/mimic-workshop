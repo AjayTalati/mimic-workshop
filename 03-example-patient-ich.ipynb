{
 "cells": [
  {
   "cell_type": "markdown",
   "metadata": {},
   "source": [
    "# Exploring the trajectory of a single patient"
   ]
  },
  {
   "cell_type": "markdown",
   "metadata": {},
   "source": [
    "### Import Python libraries"
   ]
  },
  {
   "cell_type": "markdown",
   "metadata": {},
   "source": [
    "We first need to import some tools for working with data in Python. \n",
    "- NumPy is for working with numbers\n",
    "- Pandas is for analysing data\n",
    "- MatPlotLib is for making plots\n",
    "- Sqlite3 to connect to the database"
   ]
  },
  {
   "cell_type": "code",
   "execution_count": 3,
   "metadata": {
    "collapsed": false
   },
   "outputs": [],
   "source": [
    "import numpy as np\n",
    "import pandas as pd\n",
    "import matplotlib.pyplot as plt\n",
    "import sqlite3\n",
    "%matplotlib inline"
   ]
  },
  {
   "cell_type": "markdown",
   "metadata": {},
   "source": [
    "### Connect to the database"
   ]
  },
  {
   "cell_type": "markdown",
   "metadata": {},
   "source": [
    "- We can use the sqlite3 library to connect to the MIMIC database\n",
    "- Once the connection is established, we'll run a simple SQL query."
   ]
  },
  {
   "cell_type": "code",
   "execution_count": 4,
   "metadata": {
    "collapsed": false
   },
   "outputs": [],
   "source": [
    "# Connect to the MIMIC database\n",
    "conn = sqlite3.connect('data/mimicdata.sqlite')"
   ]
  },
  {
   "cell_type": "code",
   "execution_count": 5,
   "metadata": {
    "collapsed": true
   },
   "outputs": [],
   "source": [
    "# Create our test query\n",
    "test_query = \"\"\"\n",
    "SELECT subject_id, hadm_id, admittime, dischtime, admission_type, diagnosis\n",
    "FROM admissions\n",
    "LIMIT 10;\n",
    "\"\"\""
   ]
  },
  {
   "cell_type": "code",
   "execution_count": 6,
   "metadata": {
    "collapsed": true
   },
   "outputs": [],
   "source": [
    "# Run the query and assign the results to a variable\n",
    "test = pd.read_sql_query(test_query,conn)"
   ]
  },
  {
   "cell_type": "code",
   "execution_count": 7,
   "metadata": {
    "collapsed": false
   },
   "outputs": [
    {
     "data": {
      "text/html": [
       "<div>\n",
       "<table border=\"1\" class=\"dataframe\">\n",
       "  <thead>\n",
       "    <tr style=\"text-align: right;\">\n",
       "      <th></th>\n",
       "      <th>SUBJECT_ID</th>\n",
       "      <th>HADM_ID</th>\n",
       "      <th>ADMITTIME</th>\n",
       "      <th>DISCHTIME</th>\n",
       "      <th>ADMISSION_TYPE</th>\n",
       "      <th>DIAGNOSIS</th>\n",
       "    </tr>\n",
       "  </thead>\n",
       "  <tbody>\n",
       "    <tr>\n",
       "      <th>0</th>\n",
       "      <td>40036</td>\n",
       "      <td>198489</td>\n",
       "      <td>2141-08-01 23:46:00</td>\n",
       "      <td>2141-08-09 19:15:00</td>\n",
       "      <td>EMERGENCY</td>\n",
       "      <td>SEPSIS</td>\n",
       "    </tr>\n",
       "    <tr>\n",
       "      <th>1</th>\n",
       "      <td>40080</td>\n",
       "      <td>162107</td>\n",
       "      <td>2106-05-31 16:43:00</td>\n",
       "      <td>2106-06-05 01:18:00</td>\n",
       "      <td>EMERGENCY</td>\n",
       "      <td>CONGESTIVE HEART FAILURE</td>\n",
       "    </tr>\n",
       "    <tr>\n",
       "      <th>2</th>\n",
       "      <td>40084</td>\n",
       "      <td>195762</td>\n",
       "      <td>2173-01-31 22:11:00</td>\n",
       "      <td>2173-02-05 01:31:00</td>\n",
       "      <td>EMERGENCY</td>\n",
       "      <td>INTRACRANIAL HEMORRHAGE;OPEN FX</td>\n",
       "    </tr>\n",
       "    <tr>\n",
       "      <th>3</th>\n",
       "      <td>40116</td>\n",
       "      <td>157106</td>\n",
       "      <td>2150-02-19 00:12:00</td>\n",
       "      <td>2150-03-11 13:58:00</td>\n",
       "      <td>EMERGENCY</td>\n",
       "      <td>GASTROINTESTINAL BLEED</td>\n",
       "    </tr>\n",
       "    <tr>\n",
       "      <th>4</th>\n",
       "      <td>40120</td>\n",
       "      <td>146466</td>\n",
       "      <td>2120-01-27 20:41:00</td>\n",
       "      <td>2120-02-12 17:14:00</td>\n",
       "      <td>EMERGENCY</td>\n",
       "      <td>CONGESTIVE HEART FAILURE</td>\n",
       "    </tr>\n",
       "  </tbody>\n",
       "</table>\n",
       "</div>"
      ],
      "text/plain": [
       "   SUBJECT_ID  HADM_ID            ADMITTIME            DISCHTIME  \\\n",
       "0       40036   198489  2141-08-01 23:46:00  2141-08-09 19:15:00   \n",
       "1       40080   162107  2106-05-31 16:43:00  2106-06-05 01:18:00   \n",
       "2       40084   195762  2173-01-31 22:11:00  2173-02-05 01:31:00   \n",
       "3       40116   157106  2150-02-19 00:12:00  2150-03-11 13:58:00   \n",
       "4       40120   146466  2120-01-27 20:41:00  2120-02-12 17:14:00   \n",
       "\n",
       "  ADMISSION_TYPE                        DIAGNOSIS  \n",
       "0      EMERGENCY                           SEPSIS  \n",
       "1      EMERGENCY         CONGESTIVE HEART FAILURE  \n",
       "2      EMERGENCY  INTRACRANIAL HEMORRHAGE;OPEN FX  \n",
       "3      EMERGENCY           GASTROINTESTINAL BLEED  \n",
       "4      EMERGENCY         CONGESTIVE HEART FAILURE  "
      ]
     },
     "execution_count": 7,
     "metadata": {},
     "output_type": "execute_result"
    }
   ],
   "source": [
    "# Display the first few rows\n",
    "test.head()"
   ]
  },
  {
   "cell_type": "markdown",
   "metadata": {},
   "source": [
    "### Load the chartevents data"
   ]
  },
  {
   "cell_type": "markdown",
   "metadata": {},
   "source": [
    "- The chartevents table contains data charted at the patient bedside. It includes variables such as heart rate, respiratory rate, temperature, and so on.\n",
    "- We'll begin by loading the chartevents data for a single patient."
   ]
  },
  {
   "cell_type": "code",
   "execution_count": 8,
   "metadata": {
    "collapsed": false
   },
   "outputs": [],
   "source": [
    "query = \"\"\"\n",
    "SELECT de.icustay_id\n",
    "  , (strftime('%s',de.charttime)-strftime('%s',ie.intime))/60.0/60.0 as HOURS\n",
    "  , di.label\n",
    "  , de.value\n",
    "  , de.valuenum\n",
    "  , de.uom\n",
    "FROM chartevents de\n",
    "INNER join d_items di\n",
    "ON de.itemid = di.itemid\n",
    "INNER join icustays ie\n",
    "ON de.icustay_id = ie.icustay_id\n",
    "WHERE de.subject_id = 40084\n",
    "ORDER BY charttime;\n",
    "\"\"\"\n",
    "\n",
    "ce = pd.read_sql_query(query,conn)\n",
    "\n",
    "\n",
    "# OPTION 2: load chartevents from a CSV file\n",
    "# ce = pd.read_csv('data/example_chartevents.csv', index_col='HOURSSINCEADMISSION')"
   ]
  },
  {
   "cell_type": "code",
   "execution_count": 9,
   "metadata": {
    "collapsed": false
   },
   "outputs": [
    {
     "data": {
      "text/html": [
       "<div>\n",
       "<table border=\"1\" class=\"dataframe\">\n",
       "  <thead>\n",
       "    <tr style=\"text-align: right;\">\n",
       "      <th></th>\n",
       "      <th>ICUSTAY_ID</th>\n",
       "      <th>HOURS</th>\n",
       "      <th>LABEL</th>\n",
       "      <th>VALUE</th>\n",
       "      <th>VALUENUM</th>\n",
       "      <th>UOM</th>\n",
       "    </tr>\n",
       "  </thead>\n",
       "  <tbody>\n",
       "    <tr>\n",
       "      <th>0</th>\n",
       "      <td>264630</td>\n",
       "      <td>0.201667</td>\n",
       "      <td>PH (dipstick)</td>\n",
       "      <td>5</td>\n",
       "      <td>5.00</td>\n",
       "      <td>units</td>\n",
       "    </tr>\n",
       "    <tr>\n",
       "      <th>1</th>\n",
       "      <td>264630</td>\n",
       "      <td>0.201667</td>\n",
       "      <td>Specific Gravity (urine)</td>\n",
       "      <td>1.02</td>\n",
       "      <td>1.02</td>\n",
       "      <td></td>\n",
       "    </tr>\n",
       "    <tr>\n",
       "      <th>2</th>\n",
       "      <td>264630</td>\n",
       "      <td>1.801667</td>\n",
       "      <td>Temperature Fahrenheit</td>\n",
       "      <td>94.3</td>\n",
       "      <td>94.30</td>\n",
       "      <td>¿F</td>\n",
       "    </tr>\n",
       "    <tr>\n",
       "      <th>3</th>\n",
       "      <td>264630</td>\n",
       "      <td>2.668333</td>\n",
       "      <td>Heart Rate</td>\n",
       "      <td>84</td>\n",
       "      <td>84.00</td>\n",
       "      <td>bpm</td>\n",
       "    </tr>\n",
       "    <tr>\n",
       "      <th>4</th>\n",
       "      <td>264630</td>\n",
       "      <td>2.668333</td>\n",
       "      <td>Non Invasive Blood Pressure systolic</td>\n",
       "      <td>106</td>\n",
       "      <td>106.00</td>\n",
       "      <td>mmHg</td>\n",
       "    </tr>\n",
       "  </tbody>\n",
       "</table>\n",
       "</div>"
      ],
      "text/plain": [
       "   ICUSTAY_ID     HOURS                                 LABEL VALUE  VALUENUM  \\\n",
       "0      264630  0.201667                         PH (dipstick)     5      5.00   \n",
       "1      264630  0.201667              Specific Gravity (urine)  1.02      1.02   \n",
       "2      264630  1.801667                Temperature Fahrenheit  94.3     94.30   \n",
       "3      264630  2.668333                            Heart Rate    84     84.00   \n",
       "4      264630  2.668333  Non Invasive Blood Pressure systolic   106    106.00   \n",
       "\n",
       "     UOM  \n",
       "0  units  \n",
       "1         \n",
       "2     ¿F  \n",
       "3    bpm  \n",
       "4   mmHg  "
      ]
     },
     "execution_count": 9,
     "metadata": {},
     "output_type": "execute_result"
    }
   ],
   "source": [
    "# Preview the data\n",
    "# Use 'head' to limit the number of rows returned\n",
    "ce.head()"
   ]
  },
  {
   "cell_type": "markdown",
   "metadata": {},
   "source": [
    "### Review the patient's heart rate"
   ]
  },
  {
   "cell_type": "markdown",
   "metadata": {},
   "source": [
    "- We can select individual columns using the column name. \n",
    "- For example, if we want to select just the label column, we write **```ce.LABEL```** or alternatively **```ce['LABEL']```**"
   ]
  },
  {
   "cell_type": "code",
   "execution_count": 10,
   "metadata": {
    "collapsed": false
   },
   "outputs": [
    {
     "data": {
      "text/plain": [
       "0                           PH (dipstick)\n",
       "1                Specific Gravity (urine)\n",
       "2                  Temperature Fahrenheit\n",
       "3                              Heart Rate\n",
       "4    Non Invasive Blood Pressure systolic\n",
       "Name: LABEL, dtype: object"
      ]
     },
     "execution_count": 10,
     "metadata": {},
     "output_type": "execute_result"
    }
   ],
   "source": [
    "# Select a single column\n",
    "ce['LABEL'].head()"
   ]
  },
  {
   "cell_type": "markdown",
   "metadata": {},
   "source": [
    "- In a similar way, we can select rows from data using indexes. \n",
    "- For example, to select rows where the label is equal to 'Heart Rate', we would create an index using **```[ce.LABEL=='Heart Rate']```** "
   ]
  },
  {
   "cell_type": "code",
   "execution_count": 23,
   "metadata": {
    "collapsed": false
   },
   "outputs": [
    {
     "data": {
      "text/html": [
       "<div>\n",
       "<table border=\"1\" class=\"dataframe\">\n",
       "  <thead>\n",
       "    <tr style=\"text-align: right;\">\n",
       "      <th></th>\n",
       "      <th>ICUSTAY_ID</th>\n",
       "      <th>HOURS</th>\n",
       "      <th>LABEL</th>\n",
       "      <th>VALUE</th>\n",
       "      <th>VALUENUM</th>\n",
       "      <th>UOM</th>\n",
       "    </tr>\n",
       "  </thead>\n",
       "  <tbody>\n",
       "    <tr>\n",
       "      <th>3</th>\n",
       "      <td>264630</td>\n",
       "      <td>2.668333</td>\n",
       "      <td>Heart Rate</td>\n",
       "      <td>84</td>\n",
       "      <td>84</td>\n",
       "      <td>bpm</td>\n",
       "    </tr>\n",
       "    <tr>\n",
       "      <th>18</th>\n",
       "      <td>264630</td>\n",
       "      <td>2.801667</td>\n",
       "      <td>Heart Rate</td>\n",
       "      <td>84</td>\n",
       "      <td>84</td>\n",
       "      <td>bpm</td>\n",
       "    </tr>\n",
       "    <tr>\n",
       "      <th>97</th>\n",
       "      <td>264630</td>\n",
       "      <td>3.835000</td>\n",
       "      <td>Heart Rate</td>\n",
       "      <td>72</td>\n",
       "      <td>72</td>\n",
       "      <td>bpm</td>\n",
       "    </tr>\n",
       "    <tr>\n",
       "      <th>101</th>\n",
       "      <td>264630</td>\n",
       "      <td>4.801667</td>\n",
       "      <td>Heart Rate</td>\n",
       "      <td>69</td>\n",
       "      <td>69</td>\n",
       "      <td>bpm</td>\n",
       "    </tr>\n",
       "    <tr>\n",
       "      <th>118</th>\n",
       "      <td>264630</td>\n",
       "      <td>5.801667</td>\n",
       "      <td>Heart Rate</td>\n",
       "      <td>67</td>\n",
       "      <td>67</td>\n",
       "      <td>bpm</td>\n",
       "    </tr>\n",
       "  </tbody>\n",
       "</table>\n",
       "</div>"
      ],
      "text/plain": [
       "     ICUSTAY_ID     HOURS       LABEL VALUE  VALUENUM  UOM\n",
       "3        264630  2.668333  Heart Rate    84        84  bpm\n",
       "18       264630  2.801667  Heart Rate    84        84  bpm\n",
       "97       264630  3.835000  Heart Rate    72        72  bpm\n",
       "101      264630  4.801667  Heart Rate    69        69  bpm\n",
       "118      264630  5.801667  Heart Rate    67        67  bpm"
      ]
     },
     "execution_count": 23,
     "metadata": {},
     "output_type": "execute_result"
    }
   ],
   "source": [
    "# Select just the heart rate rows using an index\n",
    "ce[ce.LABEL=='Heart Rate'].head()"
   ]
  },
  {
   "cell_type": "markdown",
   "metadata": {},
   "source": [
    "### Plot 1: How did the patients heart rate change over time?"
   ]
  },
  {
   "cell_type": "markdown",
   "metadata": {},
   "source": [
    "- Using the methods described above to select our data of interest, we can create our x and y axis values to create a time series plot of heart rate."
   ]
  },
  {
   "cell_type": "code",
   "execution_count": 13,
   "metadata": {
    "collapsed": false
   },
   "outputs": [
    {
     "name": "stdout",
     "output_type": "stream",
     "text": [
      "Int64Index([1, 5, 25, 31, 41, 53, 74, 80, 86, 106, 112, 121, 126, 132, 138,\n",
      "            141, 161],\n",
      "           dtype='int64')\n"
     ]
    }
   ],
   "source": [
    "# Which time stamps have a corresponding heart rate measurement?\n",
    "print ce.index[ce.LABEL=='Heart Rate']"
   ]
  },
  {
   "cell_type": "code",
   "execution_count": 24,
   "metadata": {
    "collapsed": false,
    "scrolled": true
   },
   "outputs": [
    {
     "data": {
      "text/plain": [
       "<matplotlib.text.Text at 0x111124f10>"
      ]
     },
     "execution_count": 24,
     "metadata": {},
     "output_type": "execute_result"
    },
    {
     "data": {
      "image/png": "[encoded data removed]",
      "text/plain": [
       "<matplotlib.figure.Figure at 0x1102fc090>"
      ]
     },
     "metadata": {},
     "output_type": "display_data"
    }
   ],
   "source": [
    "# Set x equal to the times\n",
    "x_hr = ce.HOURS[ce.LABEL=='Heart Rate']\n",
    "\n",
    "# Set y equal to the heart rates\n",
    "y_hr = ce.VALUENUM[ce.LABEL=='Heart Rate']\n",
    "\n",
    "# Plot time against heart rate\n",
    "plt.figure(figsize=(14, 6))\n",
    "plt.plot(x_hr,y_hr)\n",
    "\n",
    "\n",
    "plt.xlabel('Time',fontsize=16)\n",
    "plt.ylabel('Heart rate',fontsize=16)\n",
    "plt.title('Heart rate over time from admission to the intensive care unit')"
   ]
  },
  {
   "cell_type": "code",
   "execution_count": 32,
   "metadata": {
    "collapsed": false
   },
   "outputs": [
    {
     "data": {
      "text/plain": [
       "array([u'PH (dipstick)', u'Specific Gravity (urine)',\n",
       "       u'Temperature Fahrenheit', u'Heart Rate',\n",
       "       u'Non Invasive Blood Pressure systolic',\n",
       "       u'Non Invasive Blood Pressure diastolic',\n",
       "       u'Non Invasive Blood Pressure mean', u'Heart rate Alarm - High',\n",
       "       u'Heart Rate Alarm - Low', u'Respiratory Rate',\n",
       "       u'O2 saturation pulseoxymetry',\n",
       "       u'Non-Invasive Blood Pressure Alarm - High',\n",
       "       u'Non-Invasive Blood Pressure Alarm - Low',\n",
       "       u'O2 Saturation Pulseoxymetry Alarm - High',\n",
       "       u'O2 Saturation Pulseoxymetry Alarm - Low', u'Resp Alarm - High',\n",
       "       u'Resp Alarm - Low', u'SpO2 Desat Limit',\n",
       "       u'Minute Volume Alarm - Low', u'Minute Volume Alarm - High',\n",
       "       u'PEEP set', u'Inspired O2 Fraction', u'Paw High', u'Vti High',\n",
       "       u'Fspn High', u'Apnea Interval', u'Daily Weight',\n",
       "       u'Tidal Volume (set)', u'Tidal Volume (observed)', u'Minute Volume',\n",
       "       u'Respiratory Rate (Set)', u'Respiratory Rate (spontaneous)',\n",
       "       u'Respiratory Rate (Total)', u'Peak Insp. Pressure',\n",
       "       u'Plateau Pressure', u'Mean Airway Pressure', u'Total PEEP Level',\n",
       "       u'Inspiratory Time', u'Expiratory Ratio', u'Inspiratory Ratio',\n",
       "       u'Ventilator Tank #1', u'Ventilator Tank #2', u'GCS - Eye Opening',\n",
       "       u'GCS - Verbal Response', u'GCS - Motor Response', u'Hemoglobin',\n",
       "       u'Hematocrit (serum)', u'WBC', u'Amylase', u'AST',\n",
       "       u'Chloride (serum)', u'Creatinine', u'Glucose (serum)', u'LDH',\n",
       "       u'Magnesium', u'ALT', u'Sodium (serum)', u'Alkaline Phosphate',\n",
       "       u'BUN', u'Calcium non-ionized', u'CK (CPK)', u'Phosphorous',\n",
       "       u'Total Bilirubin', u'Anion gap', u'Troponin-T',\n",
       "       u'Potassium (serum)', u'HCO3 (serum)', u'CK-MB', u'Albumin',\n",
       "       u'Platelet Count', u'Prothrombin time', u'PTT', u'INR',\n",
       "       u'Richmond-RAS Scale', u'Arctic Sun/Alsius Set Temp',\n",
       "       u'Arctic Sun Water Temp', u'Arctic Sun/Alsius Temp #1 C',\n",
       "       u'Arctic Sun/Alsius Temp #2 C', u'Baseline Current/mA',\n",
       "       u'Current Used/mA', u'Arterial Blood Pressure systolic',\n",
       "       u'Arterial Blood Pressure diastolic',\n",
       "       u'Arterial Blood Pressure mean', u'Skeletal Traction #1 - Pounds',\n",
       "       u'Admission Weight (lbs.)', u'Code Status', u'Arterial O2 pressure',\n",
       "       u'Arterial CO2 Pressure', u'PH (Arterial)', u'Arterial Base Excess',\n",
       "       u'Ionized Calcium', u'Lactic Acid', u'TCO2 (calc) Arterial',\n",
       "       u'Cuff Pressure', u'Serum Osmolality', u'Phenytoin (Dilantin)',\n",
       "       u'Arterial Blood Pressure Alarm - Low',\n",
       "       u'Arterial Blood Pressure Alarm - High', u'Temperature Celsius',\n",
       "       u'Intra Cranial Pressure', u'Cerebral Perfusion Pressure',\n",
       "       u'Intra Cranial Pressure Alarm - High',\n",
       "       u'Intra Cranial Pressure Alarm - Low',\n",
       "       u'Cerebral Perfusion Pressure Alarm - High',\n",
       "       u'Cerebral Perfusion Pressure Alarm - Low', u'Glucose finger stick',\n",
       "       u'Glucose (whole blood)', u'Inspired Gas Temp.',\n",
       "       u'Manual Blood Pressure Diastolic Right',\n",
       "       u'Manual Blood Pressure Systolic Right', u'Vancomycin (Trough)',\n",
       "       u'Sodium (whole blood)', u'Admission Weight (Kg)', u'Height',\n",
       "       u'Height (cm)', u'Lipase', u'Differential-Basos',\n",
       "       u'Differential-Eos', u'Differential-Lymphs', u'Differential-Monos',\n",
       "       u'Differential-Neuts'], dtype=object)"
      ]
     },
     "execution_count": 32,
     "metadata": {},
     "output_type": "execute_result"
    }
   ],
   "source": [
    "ce['LABEL'].unique()"
   ]
  },
  {
   "cell_type": "markdown",
   "metadata": {},
   "source": [
    "### Task 1\n",
    "\n",
    "* What is happening to this patient's heart rate?\n",
    "* Plot respiratory rate over time for the patient.\n",
    "* Is there anything unusual about the patient's respiratory rate?\n"
   ]
  },
  {
   "cell_type": "code",
   "execution_count": 34,
   "metadata": {
    "collapsed": true
   },
   "outputs": [],
   "source": [
    "# Exercise 1 here\n",
    "\n"
   ]
  },
  {
   "cell_type": "markdown",
   "metadata": {},
   "source": [
    "# What is happening to this patient's heart rate?"
   ]
  },
  {
   "cell_type": "code",
   "execution_count": 43,
   "metadata": {
    "collapsed": false
   },
   "outputs": [
    {
     "data": {
      "text/plain": [
       "<matplotlib.legend.Legend at 0x111d383d0>"
      ]
     },
     "execution_count": 43,
     "metadata": {},
     "output_type": "execute_result"
    },
    {
     "data": {
      "image/png": "[encoded data removed]",
      "text/plain": [
       "<matplotlib.figure.Figure at 0x1118b3d10>"
      ]
     },
     "metadata": {},
     "output_type": "display_data"
    }
   ],
   "source": [
    "# Set x equal to the times\n",
    "x_hr = ce.HOURS[ce.LABEL=='Heart Rate']\n",
    "\n",
    "# Set y equal to the heart rates\n",
    "y_hr = ce.VALUENUM[ce.LABEL=='Heart Rate']\n",
    "\n",
    "# Plot time against heart rate\n",
    "plt.figure(figsize=(14, 6))\n",
    "plt.plot(x_hr,y_hr)\n",
    "\n",
    "# Get some information regarding arctic sun\n",
    "plt.plot(ce.HOURS[ce.LABEL=='Arctic Sun/Alsius Set Temp'], \n",
    "         ce.VALUENUM[ce.LABEL=='Arctic Sun/Alsius Set Temp'],\n",
    "         'k+--',markersize=8)\n",
    "plt.plot(ce.HOURS[ce.LABEL=='Arctic Sun Water Temp'], \n",
    "         ce.VALUENUM[ce.LABEL=='Arctic Sun Water Temp'],\n",
    "         'r+--',markersize=8)\n",
    "plt.plot(ce.HOURS[ce.LABEL=='Arctic Sun/Alsius Temp #1 C'], \n",
    "         ce.VALUENUM[ce.LABEL=='Arctic Sun/Alsius Temp #1 C'],\n",
    "         'b+--',markersize=8)\n",
    "plt.plot(ce.HOURS[ce.LABEL=='Arctic Sun/Alsius Temp #2 C'], \n",
    "         ce.VALUENUM[ce.LABEL=='Arctic Sun/Alsius Temp #2 C'],\n",
    "         'g+--',markersize=8)\n",
    "\n",
    "plt.xlabel('Time',fontsize=16)\n",
    "plt.ylabel('Heart rate',fontsize=16)\n",
    "\n",
    "plt.xlabel('Time (hours)',fontsize=16)\n",
    "plt.ylabel('Heart rate / temperature',fontsize=16)\n",
    "plt.title('Heart rate over time')\n",
    "plt.ylim(0,80)\n",
    "plt.xlim(0,48)\n",
    "plt.legend()"
   ]
  },
  {
   "cell_type": "markdown",
   "metadata": {},
   "source": [
    "### Plot 2: Did the patient's vital signs breach any alarm thresholds?"
   ]
  },
  {
   "cell_type": "markdown",
   "metadata": {},
   "source": [
    "- Alarm systems in the intensive care unit are commonly based on high and low thresholds defined by the carer.\n",
    "- False alarms are often a problem and so thresholds may be set arbitrarily to reduce alarms.\n",
    "- As a result, alarm settings carry limited information."
   ]
  },
  {
   "cell_type": "code",
   "execution_count": 33,
   "metadata": {
    "collapsed": false
   },
   "outputs": [
    {
     "data": {
      "text/plain": [
       "(0, 55)"
      ]
     },
     "execution_count": 33,
     "metadata": {},
     "output_type": "execute_result"
    },
    {
     "data": {
      "image/png": "[encoded data removed]",
      "text/plain": [
       "<matplotlib.figure.Figure at 0x1112509d0>"
      ]
     },
     "metadata": {},
     "output_type": "display_data"
    }
   ],
   "source": [
    "plt.figure(figsize=(14, 6))\n",
    "\n",
    "plt.plot(ce.HOURS[ce.LABEL=='Respiratory Rate'], \n",
    "         ce.VALUENUM[ce.LABEL=='Respiratory Rate'],\n",
    "         'k+', markersize=10, linewidth=4)\n",
    "\n",
    "plt.plot(ce.HOURS[ce.LABEL=='Resp Alarm - High'], \n",
    "         ce.VALUENUM[ce.LABEL=='Resp Alarm - High'],\n",
    "         'm--')\n",
    "\n",
    "plt.plot(ce.HOURS[ce.LABEL=='Resp Alarm - Low'], \n",
    "         ce.VALUENUM[ce.LABEL=='Resp Alarm - Low'],\n",
    "         'm--')\n",
    "\n",
    "plt.xlabel('Time',fontsize=16)\n",
    "plt.ylabel('Respiratory rate',fontsize=16)\n",
    "plt.title('Respiratory rate over time from admission, with upper and lower alarm thresholds')\n",
    "plt.ylim(0,55)\n"
   ]
  },
  {
   "cell_type": "markdown",
   "metadata": {},
   "source": [
    "### Task 2\n",
    "\n",
    "- Based on the data, does it look like the alarms would have triggered for this patient?\n"
   ]
  },
  {
   "cell_type": "markdown",
   "metadata": {},
   "source": [
    "### Plot 3: What is patient's level of consciousness?"
   ]
  },
  {
   "cell_type": "markdown",
   "metadata": {},
   "source": [
    "- Glasgow Coma Scale (GCS) is a measure of consciousness.\n",
    "- It is commonly used for monitoring patients in the intensive care unit. \n",
    "- It consists of three components: eye response; verbal response; motor response."
   ]
  },
  {
   "cell_type": "code",
   "execution_count": 16,
   "metadata": {
    "collapsed": false
   },
   "outputs": [
    {
     "data": {
      "text/html": [
       "<div>\n",
       "<table border=\"1\" class=\"dataframe\">\n",
       "  <thead>\n",
       "    <tr style=\"text-align: right;\">\n",
       "      <th></th>\n",
       "      <th>ICUSTAY_ID</th>\n",
       "      <th>HOURS</th>\n",
       "      <th>LABEL</th>\n",
       "      <th>VALUE</th>\n",
       "      <th>VALUENUM</th>\n",
       "      <th>UOM</th>\n",
       "    </tr>\n",
       "  </thead>\n",
       "  <tbody>\n",
       "    <tr>\n",
       "      <th>22</th>\n",
       "      <td>285485</td>\n",
       "      <td>1.753333</td>\n",
       "      <td>GCS - Eye Opening</td>\n",
       "      <td>Spontaneously</td>\n",
       "      <td>4</td>\n",
       "      <td></td>\n",
       "    </tr>\n",
       "    <tr>\n",
       "      <th>47</th>\n",
       "      <td>285485</td>\n",
       "      <td>4.186667</td>\n",
       "      <td>GCS - Eye Opening</td>\n",
       "      <td>Spontaneously</td>\n",
       "      <td>4</td>\n",
       "      <td></td>\n",
       "    </tr>\n",
       "    <tr>\n",
       "      <th>103</th>\n",
       "      <td>285485</td>\n",
       "      <td>8.186667</td>\n",
       "      <td>GCS - Eye Opening</td>\n",
       "      <td>Spontaneously</td>\n",
       "      <td>4</td>\n",
       "      <td></td>\n",
       "    </tr>\n",
       "    <tr>\n",
       "      <th>118</th>\n",
       "      <td>285485</td>\n",
       "      <td>12.186667</td>\n",
       "      <td>GCS - Eye Opening</td>\n",
       "      <td>Spontaneously</td>\n",
       "      <td>4</td>\n",
       "      <td></td>\n",
       "    </tr>\n",
       "    <tr>\n",
       "      <th>155</th>\n",
       "      <td>285485</td>\n",
       "      <td>16.186667</td>\n",
       "      <td>GCS - Eye Opening</td>\n",
       "      <td>Spontaneously</td>\n",
       "      <td>4</td>\n",
       "      <td></td>\n",
       "    </tr>\n",
       "  </tbody>\n",
       "</table>\n",
       "</div>"
      ],
      "text/plain": [
       "     ICUSTAY_ID      HOURS              LABEL          VALUE  VALUENUM UOM\n",
       "22       285485   1.753333  GCS - Eye Opening  Spontaneously         4    \n",
       "47       285485   4.186667  GCS - Eye Opening  Spontaneously         4    \n",
       "103      285485   8.186667  GCS - Eye Opening  Spontaneously         4    \n",
       "118      285485  12.186667  GCS - Eye Opening  Spontaneously         4    \n",
       "155      285485  16.186667  GCS - Eye Opening  Spontaneously         4    "
      ]
     },
     "execution_count": 16,
     "metadata": {},
     "output_type": "execute_result"
    }
   ],
   "source": [
    "# Display the first few rows of the GCS eye response data\n",
    "ce[ce.LABEL=='GCS - Eye Opening'].head()"
   ]
  },
  {
   "cell_type": "code",
   "execution_count": 18,
   "metadata": {
    "collapsed": false
   },
   "outputs": [
    {
     "data": {
      "text/plain": [
       "(10, 165)"
      ]
     },
     "execution_count": 18,
     "metadata": {},
     "output_type": "execute_result"
    },
    {
     "data": {
      "image/png": "[encoded data removed]",
      "text/plain": [
       "<matplotlib.figure.Figure at 0x110037a10>"
      ]
     },
     "metadata": {},
     "output_type": "display_data"
    }
   ],
   "source": [
    "# Prepare the size of the figure\n",
    "plt.figure(figsize=(18, 10))\n",
    "\n",
    "# Set x equal to the times\n",
    "x_hr = ce.HOURS[ce.LABEL=='Heart Rate']\n",
    "\n",
    "# Set y equal to the heart rates\n",
    "y_hr = ce.VALUENUM[ce.LABEL=='Heart Rate']\n",
    "\n",
    "\n",
    "plt.plot(x_hr,y_hr)\n",
    "\n",
    "plt.plot(ce.HOURS[ce.LABEL=='Respiratory Rate'], \n",
    "         ce.VALUENUM[ce.LABEL=='Respiratory Rate'],\n",
    "         'k', markersize=6)\n",
    "\n",
    "# Add a text label to the y-axis\n",
    "plt.text(-5,155,'GCS - Eye Opening',fontsize=14)\n",
    "plt.text(-5,150,'GCS - Motor Response',fontsize=14)\n",
    "plt.text(-5,145,'GCS - Verbal Response',fontsize=14)   \n",
    "\n",
    "# Iterate over list of GCS labels, plotting around 1 in 10 to avoid overlap\n",
    "for i, txt in enumerate(ce.VALUE[ce.LABEL=='GCS - Eye Opening'].values):\n",
    "    if np.mod(i,6)==0 and i < 65:\n",
    "        plt.annotate(txt, (ce.HOURS[ce.LABEL=='GCS - Eye Opening'].values[i],155),fontsize=14)\n",
    "        \n",
    "for i, txt in enumerate(ce.VALUE[ce.LABEL=='GCS - Motor Response'].values):\n",
    "    if np.mod(i,6)==0 and i < 65:\n",
    "        plt.annotate(txt, (ce.HOURS[ce.LABEL=='GCS - Motor Response'].values[i],150),fontsize=14)\n",
    "\n",
    "for i, txt in enumerate(ce.VALUE[ce.LABEL=='GCS - Verbal Response'].values):\n",
    "    if np.mod(i,6)==0 and i < 65:\n",
    "        plt.annotate(txt, (ce.HOURS[ce.LABEL=='GCS - Verbal Response'].values[i],145),fontsize=14)\n",
    "\n",
    "plt.title('Vital signs and Glasgow Coma Scale over time from admission',fontsize=16)\n",
    "\n",
    "plt.xlabel('Time (hours)',fontsize=16)\n",
    "plt.ylabel('Heart rate or GCS',fontsize=16)\n",
    "plt.ylim(10,165)\n"
   ]
  },
  {
   "cell_type": "markdown",
   "metadata": {},
   "source": [
    "### Task 3\n",
    "\n",
    "- How is the patient's consciousness changing over time?"
   ]
  },
  {
   "cell_type": "markdown",
   "metadata": {},
   "source": [
    "# Stop here..."
   ]
  },
  {
   "cell_type": "markdown",
   "metadata": {},
   "source": [
    "### Plot 2: What other data do we have on the patient?"
   ]
  },
  {
   "cell_type": "markdown",
   "metadata": {},
   "source": [
    "- Using Pandas 'read_csv function' again, we'll now load the outputevents data - this table contains all information about patient outputs (urine output, drains, dialysis)."
   ]
  },
  {
   "cell_type": "code",
   "execution_count": 16,
   "metadata": {
    "collapsed": false
   },
   "outputs": [],
   "source": [
    "# OPTION 1: load outputs from the patient\n",
    "query = \"\"\"\n",
    "select de.icustay_id\n",
    "  , (strftime('%s',de.charttime)-strftime('%s',ie.intime))/60.0/60.0 as HOURS\n",
    "  , di.label\n",
    "  , de.value\n",
    "  , de.valueuom\n",
    "from outputevents de \n",
    "inner join icustays ie\n",
    "  on de.icustay_id = ie.icustay_id\n",
    "inner join d_items di\n",
    "  on de.itemid = di.itemid\n",
    "where de.subject_id = 40084\n",
    "order by charttime;\n",
    "\"\"\"\n",
    "\n",
    "oe = pd.read_sql_query(query,conn)"
   ]
  },
  {
   "cell_type": "code",
   "execution_count": 17,
   "metadata": {
    "collapsed": false
   },
   "outputs": [
    {
     "data": {
      "text/html": [
       "<div>\n",
       "<table border=\"1\" class=\"dataframe\">\n",
       "  <thead>\n",
       "    <tr style=\"text-align: right;\">\n",
       "      <th></th>\n",
       "      <th>ICUSTAY_ID</th>\n",
       "      <th>HOURS</th>\n",
       "      <th>LABEL</th>\n",
       "      <th>VALUE</th>\n",
       "      <th>VALUEUOM</th>\n",
       "    </tr>\n",
       "  </thead>\n",
       "  <tbody>\n",
       "    <tr>\n",
       "      <th>0</th>\n",
       "      <td>252522</td>\n",
       "      <td>0.753889</td>\n",
       "      <td>Pre-Admission</td>\n",
       "      <td>60</td>\n",
       "      <td>mL</td>\n",
       "    </tr>\n",
       "    <tr>\n",
       "      <th>1</th>\n",
       "      <td>252522</td>\n",
       "      <td>3.570556</td>\n",
       "      <td>Foley</td>\n",
       "      <td>80</td>\n",
       "      <td>mL</td>\n",
       "    </tr>\n",
       "    <tr>\n",
       "      <th>2</th>\n",
       "      <td>252522</td>\n",
       "      <td>4.270556</td>\n",
       "      <td>Foley</td>\n",
       "      <td>60</td>\n",
       "      <td>mL</td>\n",
       "    </tr>\n",
       "    <tr>\n",
       "      <th>3</th>\n",
       "      <td>252522</td>\n",
       "      <td>5.270556</td>\n",
       "      <td>Foley</td>\n",
       "      <td>60</td>\n",
       "      <td>mL</td>\n",
       "    </tr>\n",
       "    <tr>\n",
       "      <th>4</th>\n",
       "      <td>252522</td>\n",
       "      <td>6.270556</td>\n",
       "      <td>Foley</td>\n",
       "      <td>60</td>\n",
       "      <td>mL</td>\n",
       "    </tr>\n",
       "  </tbody>\n",
       "</table>\n",
       "</div>"
      ],
      "text/plain": [
       "   ICUSTAY_ID     HOURS          LABEL  VALUE VALUEUOM\n",
       "0      252522  0.753889  Pre-Admission     60       mL\n",
       "1      252522  3.570556          Foley     80       mL\n",
       "2      252522  4.270556          Foley     60       mL\n",
       "3      252522  5.270556          Foley     60       mL\n",
       "4      252522  6.270556          Foley     60       mL"
      ]
     },
     "execution_count": 17,
     "metadata": {},
     "output_type": "execute_result"
    }
   ],
   "source": [
    "oe.head()"
   ]
  },
  {
   "cell_type": "code",
   "execution_count": 18,
   "metadata": {
    "collapsed": false
   },
   "outputs": [
    {
     "data": {
      "text/plain": [
       "<matplotlib.legend.Legend at 0x116a29ed0>"
      ]
     },
     "execution_count": 18,
     "metadata": {},
     "output_type": "execute_result"
    },
    {
     "data": {
      "text/plain": [
       "<matplotlib.figure.Figure at 0x113047b50>"
      ]
     },
     "metadata": {},
     "output_type": "display_data"
    },
    {
     "data": {
      "image/png": "[encoded data removed]",
      "text/plain": [
       "<matplotlib.figure.Figure at 0x113047b10>"
      ]
     },
     "metadata": {},
     "output_type": "display_data"
    }
   ],
   "source": [
    "plt.figure(figsize=(14, 10))\n",
    "\n",
    "plt.figure(figsize=(14, 6))\n",
    "plt.title('Fluid output over time')\n",
    "\n",
    "plt.plot(oe.HOURS, \n",
    "         oe.VALUE.cumsum()/1000, \n",
    "         'ro', markersize=8, label='Output volume, L')\n",
    "\n",
    "plt.xlim(0,72)\n",
    "plt.ylim(0,10)\n",
    "plt.legend()"
   ]
  },
  {
   "cell_type": "markdown",
   "metadata": {},
   "source": [
    "To provide necessary context to this plot, it would help to include patient input data. This provides the necessary context to determine a patient's fluid balance - a key indicator in patient health."
   ]
  },
  {
   "cell_type": "code",
   "execution_count": 19,
   "metadata": {
    "collapsed": false
   },
   "outputs": [],
   "source": [
    "# OPTION 1: load inputs given to the patient (usually intravenously) using the database connection\n",
    "query = \"\"\"\n",
    "select de.icustay_id\n",
    "  , (strftime('%s',de.starttime)-strftime('%s',ie.intime))/60.0/60.0 as HOURS_START\n",
    "  , (strftime('%s',de.endtime)-strftime('%s',ie.intime))/60.0/60.0 as HOURS_END\n",
    "  , de.linkorderid\n",
    "  , di.label\n",
    "  , de.amount\n",
    "  , de.amountuom\n",
    "  , de.rate\n",
    "  , de.rateuom\n",
    "from inputevents_mv de \n",
    "inner join icustays ie\n",
    "  on de.icustay_id = ie.icustay_id\n",
    "inner join d_items di\n",
    "  on de.itemid = di.itemid\n",
    "where de.subject_id = 40084\n",
    "order by endtime;\n",
    "\"\"\"\n",
    "\n",
    "ie = pd.read_sql_query(query,conn)\n",
    "\n",
    "# # OPTION 2: load ioevents using the CSV file with endtime as the index\n",
    "# ioe = pd.read_csv('inputevents.csv'\n",
    "#                   ,header=None\n",
    "#                   ,names=['subject_id','itemid','label','starttime','endtime','amount','amountuom','rate','rateuom']\n",
    "#                   ,parse_dates=True)"
   ]
  },
  {
   "cell_type": "code",
   "execution_count": 20,
   "metadata": {
    "collapsed": false
   },
   "outputs": [
    {
     "data": {
      "text/html": [
       "<div>\n",
       "<table border=\"1\" class=\"dataframe\">\n",
       "  <thead>\n",
       "    <tr style=\"text-align: right;\">\n",
       "      <th></th>\n",
       "      <th>ICUSTAY_ID</th>\n",
       "      <th>HOURS_START</th>\n",
       "      <th>HOURS_END</th>\n",
       "      <th>LINKORDERID</th>\n",
       "      <th>LABEL</th>\n",
       "      <th>AMOUNT</th>\n",
       "      <th>AMOUNTUOM</th>\n",
       "      <th>RATE</th>\n",
       "      <th>RATEUOM</th>\n",
       "    </tr>\n",
       "  </thead>\n",
       "  <tbody>\n",
       "    <tr>\n",
       "      <th>0</th>\n",
       "      <td>252522</td>\n",
       "      <td>3.270556</td>\n",
       "      <td>3.287222</td>\n",
       "      <td>5635057</td>\n",
       "      <td>Gastric Meds</td>\n",
       "      <td>30.000000</td>\n",
       "      <td>mL</td>\n",
       "      <td>NaN</td>\n",
       "      <td></td>\n",
       "    </tr>\n",
       "    <tr>\n",
       "      <th>1</th>\n",
       "      <td>252522</td>\n",
       "      <td>3.270556</td>\n",
       "      <td>3.287222</td>\n",
       "      <td>279061</td>\n",
       "      <td>Lansoprazole (Prevacid)</td>\n",
       "      <td>1.000000</td>\n",
       "      <td>dose</td>\n",
       "      <td>NaN</td>\n",
       "      <td></td>\n",
       "    </tr>\n",
       "    <tr>\n",
       "      <th>2</th>\n",
       "      <td>252522</td>\n",
       "      <td>0.753889</td>\n",
       "      <td>5.253889</td>\n",
       "      <td>4337240</td>\n",
       "      <td>NaCl 0.9%</td>\n",
       "      <td>45.000001</td>\n",
       "      <td>mL</td>\n",
       "      <td>10</td>\n",
       "      <td>mL/hour</td>\n",
       "    </tr>\n",
       "    <tr>\n",
       "      <th>3</th>\n",
       "      <td>252522</td>\n",
       "      <td>7.270556</td>\n",
       "      <td>7.287222</td>\n",
       "      <td>775255</td>\n",
       "      <td>Free Water</td>\n",
       "      <td>300.000000</td>\n",
       "      <td>mL</td>\n",
       "      <td>NaN</td>\n",
       "      <td></td>\n",
       "    </tr>\n",
       "    <tr>\n",
       "      <th>4</th>\n",
       "      <td>252522</td>\n",
       "      <td>3.770556</td>\n",
       "      <td>9.770556</td>\n",
       "      <td>8221764</td>\n",
       "      <td>Nutren 2.0 (Full)</td>\n",
       "      <td>60.000001</td>\n",
       "      <td>mL</td>\n",
       "      <td>10</td>\n",
       "      <td>mL/hour</td>\n",
       "    </tr>\n",
       "  </tbody>\n",
       "</table>\n",
       "</div>"
      ],
      "text/plain": [
       "   ICUSTAY_ID  HOURS_START  HOURS_END  LINKORDERID                    LABEL  \\\n",
       "0      252522     3.270556   3.287222      5635057             Gastric Meds   \n",
       "1      252522     3.270556   3.287222       279061  Lansoprazole (Prevacid)   \n",
       "2      252522     0.753889   5.253889      4337240                NaCl 0.9%   \n",
       "3      252522     7.270556   7.287222       775255               Free Water   \n",
       "4      252522     3.770556   9.770556      8221764        Nutren 2.0 (Full)   \n",
       "\n",
       "       AMOUNT AMOUNTUOM  RATE  RATEUOM  \n",
       "0   30.000000        mL   NaN           \n",
       "1    1.000000      dose   NaN           \n",
       "2   45.000001        mL    10  mL/hour  \n",
       "3  300.000000        mL   NaN           \n",
       "4   60.000001        mL    10  mL/hour  "
      ]
     },
     "execution_count": 20,
     "metadata": {},
     "output_type": "execute_result"
    }
   ],
   "source": [
    "ie.head()"
   ]
  },
  {
   "cell_type": "markdown",
   "metadata": {},
   "source": [
    "Note that the column headers are different: we have \"HOURS_START\" and \"HOURS_END\". This is because inputs are administered over a fixed period of time."
   ]
  },
  {
   "cell_type": "code",
   "execution_count": 21,
   "metadata": {
    "collapsed": false
   },
   "outputs": [
    {
     "data": {
      "text/plain": [
       "array([u'Gastric Meds', u'Lansoprazole (Prevacid)', u'NaCl 0.9%',\n",
       "       u'Free Water', u'Nutren 2.0 (Full)', u'Furosemide (Lasix)',\n",
       "       u'Dextrose 5%', u'Norepinephrine', u'Insulin - Humalog',\n",
       "       u'Metoprolol', u'Metronidazole', u'PO Intake', u'GT Flush',\n",
       "       u'Morphine Sulfate'], dtype=object)"
      ]
     },
     "execution_count": 21,
     "metadata": {},
     "output_type": "execute_result"
    }
   ],
   "source": [
    "ie['LABEL'].unique()"
   ]
  },
  {
   "cell_type": "code",
   "execution_count": 22,
   "metadata": {
    "collapsed": false
   },
   "outputs": [
    {
     "data": {
      "text/plain": [
       "<matplotlib.legend.Legend at 0x117a80c10>"
      ]
     },
     "execution_count": 22,
     "metadata": {},
     "output_type": "execute_result"
    },
    {
     "data": {
      "image/png": "[encoded data removed]",
      "text/plain": [
       "<matplotlib.figure.Figure at 0x11629c190>"
      ]
     },
     "metadata": {},
     "output_type": "display_data"
    }
   ],
   "source": [
    "plt.figure(figsize=(14, 10))\n",
    "\n",
    "# Plot the cumulative input against the cumulative output\n",
    "plt.plot(ie.HOURS_END[ie.AMOUNTUOM=='mL'], \n",
    "         ie.AMOUNT[ie.AMOUNTUOM=='mL'].cumsum()/1000, \n",
    "         'go', markersize=8, label='Intake volume, L')\n",
    "\n",
    "plt.plot(oe.HOURS, \n",
    "         oe.VALUE.cumsum()/1000, \n",
    "         'ro', markersize=8, label='Output volume, L')\n",
    "\n",
    "plt.title('Fluid balance over time',fontsize=16)\n",
    "plt.xlabel('Hours',fontsize=16)\n",
    "plt.ylabel('Volume (litres)',fontsize=16)\n",
    "# plt.ylim(0,38)\n",
    "plt.legend()"
   ]
  },
  {
   "cell_type": "markdown",
   "metadata": {
    "collapsed": true
   },
   "source": [
    "As the plot shows, the patient's intake tends to be above their output (as one would expect!) - but there are periods where they are almost one to one. One of the biggest challenges of working with ICU data is that context is everything - let's look at a treatment (lasix) that we know will affect this graph."
   ]
  },
  {
   "cell_type": "code",
   "execution_count": 26,
   "metadata": {
    "collapsed": false
   },
   "outputs": [
    {
     "data": {
      "text/plain": [
       "<matplotlib.legend.Legend at 0x118182990>"
      ]
     },
     "execution_count": 26,
     "metadata": {},
     "output_type": "execute_result"
    },
    {
     "data": {
      "image/png": "[encoded data removed]",
      "text/plain": [
       "<matplotlib.figure.Figure at 0x118182a10>"
      ]
     },
     "metadata": {},
     "output_type": "display_data"
    }
   ],
   "source": [
    "plt.figure(figsize=(14, 10))\n",
    "\n",
    "# Plot the cumulative input against the cumulative output\n",
    "plt.plot(ie.HOURS_END[ie.AMOUNTUOM=='mL'], \n",
    "         ie.AMOUNT[ie.AMOUNTUOM=='mL'].cumsum()/1000, \n",
    "         'go', markersize=8, label='Intake volume, L')\n",
    "\n",
    "plt.plot(oe.HOURS, \n",
    "         oe.VALUE.cumsum()/1000, \n",
    "         'ro', markersize=8, label='Output volume, L')\n",
    "\n",
    "# example on getting two columns from a dataframe: ie[['HOURS_START','HOURS_END']].head()\n",
    "\n",
    "for i, idx in enumerate(ie.index[ie.LABEL=='Furosemide (Lasix)']):\n",
    "    plt.plot([ie.HOURS_START[ie.LABEL=='Furosemide (Lasix)'][idx],\n",
    "             ie.HOURS_END[ie.LABEL=='Furosemide (Lasix)'][idx]],\n",
    "            [ie.RATE[ie.LABEL=='Furosemide (Lasix)'][idx],\n",
    "             ie.RATE[ie.LABEL=='Furosemide (Lasix)'][idx]],\n",
    "            'b-',linewidth=4)\n",
    "    \n",
    "\n",
    "plt.title('Fluid balance over time',fontsize=16)\n",
    "plt.xlabel('Hours',fontsize=16)\n",
    "plt.ylabel('Volume (litres)',fontsize=16)\n",
    "# plt.ylim(0,38)\n",
    "plt.legend()\n"
   ]
  },
  {
   "cell_type": "code",
   "execution_count": 52,
   "metadata": {
    "collapsed": false
   },
   "outputs": [
    {
     "data": {
      "text/plain": [
       "array([u'Gastric Meds', u'Lansoprazole (Prevacid)', u'NaCl 0.9%',\n",
       "       u'Free Water', u'Nutren 2.0 (Full)', u'Furosemide (Lasix)',\n",
       "       u'Dextrose 5%', u'Norepinephrine', u'Insulin - Humalog',\n",
       "       u'Metoprolol', u'Metronidazole', u'PO Intake', u'GT Flush',\n",
       "       u'Morphine Sulfate'], dtype=object)"
      ]
     },
     "execution_count": 52,
     "metadata": {},
     "output_type": "execute_result"
    }
   ],
   "source": [
    "ie['LABEL'].unique()"
   ]
  },
  {
   "cell_type": "markdown",
   "metadata": {},
   "source": [
    "### Exercise 2\n",
    "\n",
    "* Plot the alarms for the mean arterial pressure ('```Arterial Blood Pressure mean```')\n",
    "* HINT: you can use ```ce.LABEL.unique()``` to find a list of variable names\n",
    "* Were the alarm thresholds breached?"
   ]
  },
  {
   "cell_type": "code",
   "execution_count": null,
   "metadata": {
    "collapsed": false
   },
   "outputs": [],
   "source": [
    "# Exercise 2 here\n",
    "\n",
    "\n"
   ]
  },
  {
   "cell_type": "markdown",
   "metadata": {},
   "source": [
    "### Plot 3: Were the patient's other vital signs stable?"
   ]
  },
  {
   "cell_type": "code",
   "execution_count": 28,
   "metadata": {
    "collapsed": false
   },
   "outputs": [
    {
     "data": {
      "text/plain": [
       "<matplotlib.legend.Legend at 0x118bf1e10>"
      ]
     },
     "execution_count": 28,
     "metadata": {},
     "output_type": "execute_result"
    },
    {
     "data": {
      "image/png": "[encoded data removed]",
      "text/plain": [
       "<matplotlib.figure.Figure at 0x1187452d0>"
      ]
     },
     "metadata": {},
     "output_type": "display_data"
    }
   ],
   "source": [
    "plt.figure(figsize=(14, 10))\n",
    "\n",
    "plt.plot(ce.index[ce.LABEL=='Heart Rate'], \n",
    "         ce.VALUENUM[ce.LABEL=='Heart Rate'],\n",
    "         'rx', markersize=8, label='HR')\n",
    "\n",
    "plt.plot(ce.index[ce.LABEL=='O2 saturation pulseoxymetry'], \n",
    "         ce.VALUENUM[ce.LABEL=='O2 saturation pulseoxymetry'], \n",
    "         'g.', markersize=8, label='O2')\n",
    "\n",
    "plt.plot(ce.index[ce.LABEL=='Arterial Blood Pressure mean'], \n",
    "         ce.VALUENUM[ce.LABEL=='Arterial Blood Pressure mean'], \n",
    "         'bv', markersize=8, label='MAP')\n",
    "\n",
    "plt.plot(ce.index[ce.LABEL=='Respiratory Rate'], \n",
    "         ce.VALUENUM[ce.LABEL=='Respiratory Rate'], \n",
    "         'k+', markersize=8, label='RR')\n",
    "\n",
    "plt.title('Vital signs over time from admission')\n",
    "plt.ylim(0,130)\n",
    "plt.legend()"
   ]
  },
  {
   "cell_type": "markdown",
   "metadata": {},
   "source": [
    "### Plot 5: Laboratory measurements"
   ]
  },
  {
   "cell_type": "markdown",
   "metadata": {},
   "source": [
    "Using Pandas 'read_csv function' again, we'll now load the labevents data.\n",
    "This data corresponds to measurements made in a laboratory - usually on a sample of patient blood. "
   ]
  },
  {
   "cell_type": "code",
   "execution_count": 1,
   "metadata": {
    "collapsed": false
   },
   "outputs": [
    {
     "ename": "NameError",
     "evalue": "name 'pd' is not defined",
     "output_type": "error",
     "traceback": [
      "\u001b[0;31m---------------------------------------------------------------------------\u001b[0m",
      "\u001b[0;31mNameError\u001b[0m                                 Traceback (most recent call last)",
      "\u001b[0;32m<ipython-input-1-e4e146e91181>\u001b[0m in \u001b[0;36m<module>\u001b[0;34m()\u001b[0m\n\u001b[1;32m     11\u001b[0m \"\"\"\n\u001b[1;32m     12\u001b[0m \u001b[0;34m\u001b[0m\u001b[0m\n\u001b[0;32m---> 13\u001b[0;31m \u001b[0mle\u001b[0m \u001b[0;34m=\u001b[0m \u001b[0mpd\u001b[0m\u001b[0;34m.\u001b[0m\u001b[0mread_sql_query\u001b[0m\u001b[0;34m(\u001b[0m\u001b[0mquery\u001b[0m\u001b[0;34m,\u001b[0m\u001b[0mconn\u001b[0m\u001b[0;34m)\u001b[0m\u001b[0;34m\u001b[0m\u001b[0m\n\u001b[0m\u001b[1;32m     14\u001b[0m \u001b[0;34m\u001b[0m\u001b[0m\n\u001b[1;32m     15\u001b[0m \u001b[0;31m# OPTION 2: load labevents from the CSV file\u001b[0m\u001b[0;34m\u001b[0m\u001b[0;34m\u001b[0m\u001b[0m\n",
      "\u001b[0;31mNameError\u001b[0m: name 'pd' is not defined"
     ]
    }
   ],
   "source": [
    "# OPTION 1: load labevents data using the database connection\n",
    "query = \"\"\"\n",
    "SELECT de.subject_id\n",
    "  , de.charttime\n",
    "  , di.label, de.value, de.valuenum\n",
    "  , de.uom\n",
    "FROM labevents de\n",
    "INNER JOIN d_labitems di\n",
    "  ON de.itemid = di.itemid\n",
    "where de.subject_id = 40084\n",
    "\"\"\"\n",
    "\n",
    "le = pd.read_sql_query(query,conn)\n",
    "\n",
    "# OPTION 2: load labevents from the CSV file\n",
    "# le = pd.read_csv('data/example_labevents.csv', index_col='HOURSSINCEADMISSION')"
   ]
  },
  {
   "cell_type": "code",
   "execution_count": 46,
   "metadata": {
    "collapsed": false
   },
   "outputs": [
    {
     "data": {
      "text/html": [
       "<div>\n",
       "<table border=\"1\" class=\"dataframe\">\n",
       "  <thead>\n",
       "    <tr style=\"text-align: right;\">\n",
       "      <th></th>\n",
       "      <th>SUBJECT_ID</th>\n",
       "      <th>CHARTTIME</th>\n",
       "      <th>LABEL</th>\n",
       "      <th>VALUE</th>\n",
       "      <th>VALUENUM</th>\n",
       "      <th>UOM</th>\n",
       "    </tr>\n",
       "  </thead>\n",
       "  <tbody>\n",
       "    <tr>\n",
       "      <th>0</th>\n",
       "      <td>40080</td>\n",
       "      <td>2106-05-31 13:18:00</td>\n",
       "      <td>ALANINE AMINOTRANSFERASE (ALT)</td>\n",
       "      <td>10</td>\n",
       "      <td>10.0</td>\n",
       "      <td>IU/L</td>\n",
       "    </tr>\n",
       "    <tr>\n",
       "      <th>1</th>\n",
       "      <td>40080</td>\n",
       "      <td>2106-05-31 13:18:00</td>\n",
       "      <td>ALBUMIN</td>\n",
       "      <td>2.5</td>\n",
       "      <td>2.5</td>\n",
       "      <td>g/dL</td>\n",
       "    </tr>\n",
       "    <tr>\n",
       "      <th>2</th>\n",
       "      <td>40080</td>\n",
       "      <td>2106-05-31 13:18:00</td>\n",
       "      <td>ALKALINE PHOSPHATASE</td>\n",
       "      <td>126</td>\n",
       "      <td>126.0</td>\n",
       "      <td>IU/L</td>\n",
       "    </tr>\n",
       "    <tr>\n",
       "      <th>3</th>\n",
       "      <td>40080</td>\n",
       "      <td>2106-05-31 13:18:00</td>\n",
       "      <td>ANION GAP</td>\n",
       "      <td>12</td>\n",
       "      <td>12.0</td>\n",
       "      <td>mEq/L</td>\n",
       "    </tr>\n",
       "    <tr>\n",
       "      <th>4</th>\n",
       "      <td>40080</td>\n",
       "      <td>2106-05-31 13:18:00</td>\n",
       "      <td>ASPARATE AMINOTRANSFERASE (AST)</td>\n",
       "      <td>28</td>\n",
       "      <td>28.0</td>\n",
       "      <td>IU/L</td>\n",
       "    </tr>\n",
       "  </tbody>\n",
       "</table>\n",
       "</div>"
      ],
      "text/plain": [
       "   SUBJECT_ID            CHARTTIME                            LABEL VALUE  \\\n",
       "0       40080  2106-05-31 13:18:00   ALANINE AMINOTRANSFERASE (ALT)    10   \n",
       "1       40080  2106-05-31 13:18:00                          ALBUMIN   2.5   \n",
       "2       40080  2106-05-31 13:18:00             ALKALINE PHOSPHATASE   126   \n",
       "3       40080  2106-05-31 13:18:00                        ANION GAP    12   \n",
       "4       40080  2106-05-31 13:18:00  ASPARATE AMINOTRANSFERASE (AST)    28   \n",
       "\n",
       "   VALUENUM    UOM  \n",
       "0      10.0   IU/L  \n",
       "1       2.5   g/dL  \n",
       "2     126.0   IU/L  \n",
       "3      12.0  mEq/L  \n",
       "4      28.0   IU/L  "
      ]
     },
     "execution_count": 46,
     "metadata": {},
     "output_type": "execute_result"
    }
   ],
   "source": [
    "# preview the labevents data\n",
    "le.head()"
   ]
  },
  {
   "cell_type": "code",
   "execution_count": 42,
   "metadata": {
    "collapsed": false
   },
   "outputs": [
    {
     "data": {
      "text/html": [
       "<div>\n",
       "<table border=\"1\" class=\"dataframe\">\n",
       "  <thead>\n",
       "    <tr style=\"text-align: right;\">\n",
       "      <th></th>\n",
       "      <th>SUBJECT_ID</th>\n",
       "      <th>CHARTTIME</th>\n",
       "      <th>LABEL</th>\n",
       "      <th>VALUE</th>\n",
       "      <th>UOM</th>\n",
       "    </tr>\n",
       "  </thead>\n",
       "  <tbody>\n",
       "    <tr>\n",
       "      <th>23</th>\n",
       "      <td>40080</td>\n",
       "      <td>2106-05-31 13:18:00</td>\n",
       "      <td>HEMOGLOBIN</td>\n",
       "      <td>9.1</td>\n",
       "      <td>g/dL</td>\n",
       "    </tr>\n",
       "    <tr>\n",
       "      <th>40</th>\n",
       "      <td>40080</td>\n",
       "      <td>2106-06-02 03:31:00</td>\n",
       "      <td>HEMOGLOBIN</td>\n",
       "      <td>8.8</td>\n",
       "      <td>g/dL</td>\n",
       "    </tr>\n",
       "    <tr>\n",
       "      <th>71</th>\n",
       "      <td>40080</td>\n",
       "      <td>2106-06-03 03:36:00</td>\n",
       "      <td>HEMOGLOBIN</td>\n",
       "      <td>8.2</td>\n",
       "      <td>g/dL</td>\n",
       "    </tr>\n",
       "    <tr>\n",
       "      <th>105</th>\n",
       "      <td>40080</td>\n",
       "      <td>2106-06-04 03:43:00</td>\n",
       "      <td>HEMOGLOBIN</td>\n",
       "      <td>8.2</td>\n",
       "      <td>g/dL</td>\n",
       "    </tr>\n",
       "    <tr>\n",
       "      <th>150</th>\n",
       "      <td>40080</td>\n",
       "      <td>2106-06-01 03:38:00</td>\n",
       "      <td>HEMOGLOBIN</td>\n",
       "      <td>8.3</td>\n",
       "      <td>g/dL</td>\n",
       "    </tr>\n",
       "    <tr>\n",
       "      <th>214</th>\n",
       "      <td>40080</td>\n",
       "      <td>2106-06-05 04:57:00</td>\n",
       "      <td>HEMOGLOBIN</td>\n",
       "      <td>8.5</td>\n",
       "      <td>g/dL</td>\n",
       "    </tr>\n",
       "  </tbody>\n",
       "</table>\n",
       "</div>"
      ],
      "text/plain": [
       "     SUBJECT_ID            CHARTTIME       LABEL VALUE   UOM\n",
       "23        40080  2106-05-31 13:18:00  HEMOGLOBIN   9.1  g/dL\n",
       "40        40080  2106-06-02 03:31:00  HEMOGLOBIN   8.8  g/dL\n",
       "71        40080  2106-06-03 03:36:00  HEMOGLOBIN   8.2  g/dL\n",
       "105       40080  2106-06-04 03:43:00  HEMOGLOBIN   8.2  g/dL\n",
       "150       40080  2106-06-01 03:38:00  HEMOGLOBIN   8.3  g/dL\n",
       "214       40080  2106-06-05 04:57:00  HEMOGLOBIN   8.5  g/dL"
      ]
     },
     "execution_count": 42,
     "metadata": {},
     "output_type": "execute_result"
    }
   ],
   "source": [
    "# preview the ioevents data\n",
    "le[le.LABEL=='HEMOGLOBIN']"
   ]
  },
  {
   "cell_type": "code",
   "execution_count": 2,
   "metadata": {
    "collapsed": false
   },
   "outputs": [
    {
     "ename": "NameError",
     "evalue": "name 'plt' is not defined",
     "output_type": "error",
     "traceback": [
      "\u001b[0;31m---------------------------------------------------------------------------\u001b[0m",
      "\u001b[0;31mNameError\u001b[0m                                 Traceback (most recent call last)",
      "\u001b[0;32m<ipython-input-2-3511ed170c7e>\u001b[0m in \u001b[0;36m<module>\u001b[0;34m()\u001b[0m\n\u001b[0;32m----> 1\u001b[0;31m \u001b[0mplt\u001b[0m\u001b[0;34m.\u001b[0m\u001b[0mfigure\u001b[0m\u001b[0;34m(\u001b[0m\u001b[0mfigsize\u001b[0m\u001b[0;34m=\u001b[0m\u001b[0;34m(\u001b[0m\u001b[0;36m14\u001b[0m\u001b[0;34m,\u001b[0m \u001b[0;36m10\u001b[0m\u001b[0;34m)\u001b[0m\u001b[0;34m)\u001b[0m\u001b[0;34m\u001b[0m\u001b[0m\n\u001b[0m\u001b[1;32m      2\u001b[0m \u001b[0;34m\u001b[0m\u001b[0m\n\u001b[1;32m      3\u001b[0m plt.plot(le.index[le.LABEL=='HEMATOCRIT'], \n\u001b[1;32m      4\u001b[0m          \u001b[0mle\u001b[0m\u001b[0;34m.\u001b[0m\u001b[0mVALUENUM\u001b[0m\u001b[0;34m[\u001b[0m\u001b[0mle\u001b[0m\u001b[0;34m.\u001b[0m\u001b[0mLABEL\u001b[0m\u001b[0;34m==\u001b[0m\u001b[0;34m'HEMATOCRIT'\u001b[0m\u001b[0;34m]\u001b[0m\u001b[0;34m,\u001b[0m\u001b[0;34m\u001b[0m\u001b[0m\n\u001b[1;32m      5\u001b[0m          'go', markersize=6, label='Haematocrit')\n",
      "\u001b[0;31mNameError\u001b[0m: name 'plt' is not defined"
     ]
    }
   ],
   "source": [
    "plt.figure(figsize=(14, 10))\n",
    "\n",
    "plt.plot(le.index[le.LABEL=='HEMATOCRIT'], \n",
    "         le.VALUENUM[le.LABEL=='HEMATOCRIT'], \n",
    "         'go', markersize=6, label='Haematocrit')\n",
    "\n",
    "plt.plot(le.index[le.LABEL=='HEMOGLOBIN'], \n",
    "         le.VALUENUM[le.LABEL=='HEMOGLOBIN'], \n",
    "         'bv', markersize=8, label='Hemoglobin')\n",
    "\n",
    "plt.title('Laboratory measurements over time from admission')\n",
    "plt.ylim(0,38)\n",
    "plt.legend()"
   ]
  },
  {
   "cell_type": "markdown",
   "metadata": {},
   "source": [
    "## Plot 5: intravenous medications"
   ]
  },
  {
   "cell_type": "markdown",
   "metadata": {},
   "source": [
    "- Using the Pandas 'read_csv function' again, we'll now load the the ioevents dataset"
   ]
  },
  {
   "cell_type": "code",
   "execution_count": null,
   "metadata": {
    "collapsed": false
   },
   "outputs": [],
   "source": [
    "# load ioevents\n",
    "ioe = pd.read_csv('data/example_ioevents.csv',index_col='HOURSSINCEADMISSION_START')"
   ]
  },
  {
   "cell_type": "code",
   "execution_count": null,
   "metadata": {
    "collapsed": false
   },
   "outputs": [],
   "source": [
    "ioe.head()\n"
   ]
  },
  {
   "cell_type": "code",
   "execution_count": null,
   "metadata": {
    "collapsed": false
   },
   "outputs": [],
   "source": [
    "plt.figure(figsize=(14, 10))\n",
    "\n",
    "plt.plot(ie.CHARTTIME[ie.LABEL=='Midazolam (Versed)'], \n",
    "         ie.RATE[ie.LABEL=='Midazolam (Versed)'], \n",
    "         'go', markersize=6, label='Midazolam (Versed)')\n",
    "\n",
    "plt.plot(ie.CHARTTIME[ie.LABEL=='Propofol'], \n",
    "         ie.RATE[ie.LABEL=='Propofol'], \n",
    "         'bv', markersize=8, label='Propofol')\n",
    "\n",
    "plt.plot(ie.CHARTTIME[ie.LABEL=='Fentanyl'], \n",
    "         ie.RATE[ie.LABEL=='Fentanyl'], \n",
    "         'k+', markersize=8, label='Fentanyl')\n",
    "\n",
    "plt.title('Inputs over time from admission')\n",
    "plt.ylim(0,380)\n",
    "plt.legend()"
   ]
  }
 ],
 "metadata": {
  "kernelspec": {
   "display_name": "Python 2",
   "language": "python",
   "name": "python2"
  },
  "language_info": {
   "codemirror_mode": {
    "name": "ipython",
    "version": 2
   },
   "file_extension": ".py",
   "mimetype": "text/x-python",
   "name": "python",
   "nbconvert_exporter": "python",
   "pygments_lexer": "ipython2",
   "version": "2.7.10"
  }
 },
 "nbformat": 4,
 "nbformat_minor": 0
}
