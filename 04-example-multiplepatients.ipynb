{
 "cells": [
  {
   "cell_type": "code",
   "execution_count": null,
   "metadata": {
    "collapsed": true
   },
   "outputs": [],
   "source": [
    "import numpy as np\n",
    "import pandas as pd\n",
    "import matplotlib.pyplot as plt\n",
    "import sqlite3\n",
    "%matplotlib inline\n",
    "\n",
    "conn = sqlite3.connect('data/mimicdata.sqlite')\n"
   ]
  },
  {
   "cell_type": "code",
   "execution_count": null,
   "metadata": {
    "collapsed": false,
    "scrolled": true
   },
   "outputs": [],
   "source": [
    "\n",
    "\n",
    "data = []\n",
    "for subject_id in [40084, 40080, 40004]:\n",
    "    \n",
    "    query = \"\"\"\n",
    "    SELECT de.icustay_id\n",
    "      , (strftime('%s',de.charttime)-strftime('%s',ie.intime))/60.0/60.0 as HOURS\n",
    "      , di.label\n",
    "      , de.value\n",
    "      , de.valuenum\n",
    "      , de.uom\n",
    "    FROM chartevents de\n",
    "    INNER join d_items di\n",
    "    ON de.itemid = di.itemid\n",
    "    INNER join icustays ie\n",
    "    ON de.icustay_id = ie.icustay_id\n",
    "    WHERE de.subject_id = \"\"\" + str(subject_id) + \"\"\"\n",
    "    ORDER BY charttime;\n",
    "    \"\"\"\n",
    "\n",
    "    ce = pd.read_sql_query(query,conn)\n",
    "\n",
    "    valueName = \"Respiratory Rate\";\n",
    "    \n",
    "    # Set x equal to the times\n",
    "    x_hr = ce.HOURS[ce.LABEL==valueName]\n",
    "\n",
    "    # Set y equal to the heart rates\n",
    "    y_hr = ce.VALUENUM[ce.LABEL==valueName]\n",
    "\n",
    "    # Plot time against heart rate\n",
    "    plt.figure(figsize=(14, 6))\n",
    "    data.append([x_hr,y_hr]);\n",
    "    \n",
    "for patient in data:\n",
    "    plt.plot(patient[0], patient[1]);\n",
    "\n",
    "plt.xlabel('Time',fontsize=16)\n",
    "plt.ylabel(valueName,fontsize=16)\n",
    "plt.title(valueName + ' over time from admission to the intensive care unit')\n",
    "\n"
   ]
  },
  {
   "cell_type": "code",
   "execution_count": null,
   "metadata": {
    "collapsed": true
   },
   "outputs": [],
   "source": []
  }
 ],
 "metadata": {
  "kernelspec": {
   "display_name": "Python 2",
   "language": "python",
   "name": "python2"
  },
  "language_info": {
   "codemirror_mode": {
    "name": "ipython",
    "version": 2
   },
   "file_extension": ".py",
   "mimetype": "text/x-python",
   "name": "python",
   "nbconvert_exporter": "python",
   "pygments_lexer": "ipython2",
   "version": "2.7.10"
  }
 },
 "nbformat": 4,
 "nbformat_minor": 0
}
