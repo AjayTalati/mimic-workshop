{
 "cells": [
  {
   "cell_type": "markdown",
   "metadata": {},
   "source": [
    "# Extract data\n",
    "\n",
    "First, we extract the data to a csv (alternatively, we could use a database connection here and extract the data directly from the database).\n",
    "\n",
    "\n",
    "```sql\n",
    "Copy (\n",
    "  select ce.icustay_id, charttime, itemid, valuenum, adm.hospital_expire_flag\n",
    "  from mimiciii.chartevents ce\n",
    "  inner join mimiciii.icustays ie\n",
    "    on ce.icustay_id = ie.icustay_id\n",
    "\n",
    "  inner join mimiciii.admissions adm\n",
    "    on ce.hadm_id = adm.hadm_id\n",
    "  inner join mimiciii.patients pat\n",
    "    on ce.subject_id = pat.subject_id\n",
    "\n",
    "  where ce.charttime between ie.intime and (ie.intime + interval '1 day')\n",
    "  and extract(EPOCH from (ie.intime - pat.dob)) >= (60*60*24*12*15) -- older than 15, i.e. an adult\n",
    "  and itemid in\n",
    "  (\n",
    "  618, --\tRespiratory Rate\n",
    "  220210, --\tRespiratory Rate\n",
    "\n",
    "  211, --\tHeart Rate\n",
    "  220045 --\tHeart Rate\n",
    "  )\n",
    "  order by icustay_id, charttime\n",
    ") To '/data/mimic3/mimic-hr-rr.csv' With CSV HEADER;\n",
    "```\n",
    "\n",
    "We now assume that the data is in a csv file called `mimic-hr-rr.csv` in the local directory."
   ]
  },
  {
   "cell_type": "code",
   "execution_count": 1,
   "metadata": {
    "collapsed": false
   },
   "outputs": [
    {
     "data": {
      "text/plain": [
       "icustay_id\t   charttime\t      itemid\t    valuenum\thospital_expire_flag\t\n",
       "      200001\t   796924.80\t      220210\t          22\t0\n",
       "      200001\t   796924.80\t      220045\t         114\t0\n",
       "      200001\t   796924.80\t      220210\t          26\t0\n",
       "      200001\t   796924.83\t      220045\t         113\t0\n",
       "      200001\t   796924.83\t      220210\t          20\t0"
      ]
     },
     "execution_count": 1,
     "metadata": {},
     "output_type": "execute_result"
    }
   ],
   "source": [
    "% load the data\n",
    "\n",
    "fp = fopen('mimic-hr-rr.csv');\n",
    "header = fgetl(fp);\n",
    "\n",
    "% convert header from a string to a cell array of strings\n",
    "header = regexp(header,',','split');\n",
    "\n",
    "frmt = '%f%s%f%f%f';\n",
    "data = textscan(fp,frmt,'delimiter',',');\n",
    "fclose(fp);\n",
    "\n",
    "% convert the date string into a MATLAB's numeric format\n",
    "data{2} = datenum(data{2},'yyyy-mm-dd HH:MM:SS');\n",
    "\n",
    "% now we can convert data from a cell array to a matrix\n",
    "data = [data{:}];\n",
    "\n",
    "% here's a preview of the data ('\\t' is a tab)\n",
    "fprintf('%12s\\t',header{:});\n",
    "fprintf('\\n')\n",
    "\n",
    "frmt = '%12g\\t%12.2f\\t%12g\\t%12g\\t%1d';\n",
    "for n=1:5\n",
    "    fprintf(frmt,data(n,:));\n",
    "    fprintf('\\n');\n",
    "end"
   ]
  },
  {
   "cell_type": "markdown",
   "metadata": {},
   "source": [
    "In the above, you can see:\n",
    "\n",
    "* `ICUSTAY_ID` - This is the unique integer which identifies an ICU stay.\n",
    "* `CHARTTIME` - This is the time at which a measurement is recorded. It represents the number of days since January 0, 0000.\n",
    "* `ITEMID` - This is a unique integer which represents the type of data recorded. 220210 is respiratory rate, and 220045 is heart rate.\n",
    "* `VALUENUM` - This is the actual value of the measurement. So we can see that `ICUSTAY_ID` 200001 had a respiratory rate of 22 breaths per minute (we have not included the unit of measurement here, but it is in the database if you are interested in confirming this).\n",
    "* `HOSPITAL_EXPIRE_FLAG` - This indicates whether the patient died in the hospital (1 is death at hospital discharge).\n",
    "\n",
    "We can plot the first patient's data as follows:"
   ]
  },
  {
   "cell_type": "code",
   "execution_count": null,
   "metadata": {
    "collapsed": false
   },
   "outputs": [],
   "source": [
    "id = 200001; % which icustay_id we'd like to plot\n",
    "\n",
    "idxID = data(:,1) == id; % only plot data for 1 patient\n",
    "idxHR = data(:,3) == 211 | data(:,3) == 220045;\n",
    "idxRR = data(:,3) == 618 | data(:,3) == 220210;\n",
    "\n",
    "figure(1); hold all;\n",
    "plot(data(idxID & idxHR,2),data(idxID & idxHR,4),'-',...\n",
    "    'Linewidth',2,'Color',[0.8906, 0.1016, 0.1094]);\n",
    "plot(data(idxID & idxRR,2),data(idxID & idxRR,4),'-',...\n",
    "    'Linewidth',2,'Color',[0.2148, 0.4922, 0.7188]);"
   ]
  },
  {
   "cell_type": "markdown",
   "metadata": {},
   "source": [
    "Above we can see the heart rate in red and the respiratory rate in blue. The bottom axis is the days since January 0, 0000 - a bit hard to interpret but we can see that the data spans 1 day."
   ]
  },
  {
   "cell_type": "markdown",
   "metadata": {},
   "source": [
    "# Extracting data\n",
    "\n",
    "Now we have plotted the data for a few patients and have an idea of what it looks like. We'd like to extract some data which is useable in our machine learning classifiers. That means we need to convert this *time-series* into a *design matrix*."
   ]
  },
  {
   "cell_type": "code",
   "execution_count": null,
   "metadata": {
    "collapsed": false
   },
   "outputs": [],
   "source": [
    "% We can use sorting to get the maximum and minimum value\n",
    "% This is quite complicated syntax - we need to perform vectorized operations\n",
    "% Note: this type of task is *much* easier in SQL!\n",
    "\n",
    "[id_unique, idxID] = unique(data(:,1)); % get a list of all unique ICUSTAY_IDs\n",
    "X = nan(size(id_unique,1),4);\n",
    "\n",
    "idxHR = data(:,3) == 211 | data(:,3) == 220045;\n",
    "idxRR = data(:,3) == 618 | data(:,3) == 220210;\n",
    "\n",
    "tic; % we time how long this process takes\n",
    "\n",
    "data_tmp = data(idxHR,:);\n",
    "data_tmp = sortrows(data_tmp, [1,4]); % minimum HR is the first row for each ICUSTAY_ID\n",
    "\n",
    "[id_tmp,idxA] = unique(data_tmp(:,1));\n",
    "[idxExist,idxMap] = ismember(id_unique, id_tmp);\n",
    "X(idxMap(idxExist),1) = data_tmp(idxA,4);\n",
    "\n",
    "% Repeat for the *maximum* heart rate\n",
    "data_tmp = sortrows(data_tmp, [1,-4]); % maximum HR is now the first row for each ICUSTAY_ID\n",
    "X(idxMap(idxExist),2) = data_tmp(idxA,4);\n",
    "\n",
    "\n",
    "% Repeat for respiratory rate\n",
    "data_tmp = data(idxRR,:);\n",
    "data_tmp = sortrows(data_tmp, [1,4]); % minimum RR is the first row for each ICUSTAY_ID\n",
    "\n",
    "[id_tmp,idxA] = unique(data_tmp(:,1));\n",
    "[idxExist,idxMap] = ismember(id_unique, id_tmp);\n",
    "X(idxMap(idxExist),3) = data_tmp(idxA,4);\n",
    "\n",
    "% Repeat for the *maximum* heart rate\n",
    "data_tmp = sortrows(data_tmp, [1,-4]); % maximum RR is now the first row for each ICUSTAY_ID\n",
    "X(idxMap(idxExist),4) = data_tmp(idxA,4);\n",
    "\n",
    "toc;\n",
    "\n",
    "% Clear variables so we don't accidentally use the wrong data in temp variables later on\n",
    "clear data_tmp idxRR idxHR id_tmp idxA;\n",
    "\n",
    "% Preview of the data:\n",
    "X(1:5,:)"
   ]
  },
  {
   "cell_type": "code",
   "execution_count": null,
   "metadata": {
    "collapsed": false
   },
   "outputs": [],
   "source": [
    "% This is equivalent to the above cell, but using for loops\n",
    "% It takes ~5-10 minutes to run\n",
    "\n",
    "[id_unique,idxID] = unique(data(:,1)); % get a list of all unique ICUSTAY_IDs\n",
    "X_slow = nan(size(id_unique,1),4);\n",
    "\n",
    "idxHR = data(:,3) == 211 | data(:,3) == 220045;\n",
    "idxRR = data(:,3) == 618 | data(:,3) == 220210;\n",
    "\n",
    "tic; % we time how long this takes\n",
    "\n",
    "for n=1:size(id_unique,1)\n",
    "    idxCurrentID = data(:,1) == id_unique(n);\n",
    "    \n",
    "    idx = idxCurrentID & idxHR;\n",
    "    if any(idx)\n",
    "        X_slow(n,1) = min(data(idx,4));\n",
    "        X_slow(n,2) = max(data(idx,4));\n",
    "    end\n",
    "    \n",
    "    idx = idxCurrentID & idxRR;\n",
    "    if any(idx)\n",
    "        X_slow(n,3) = min(data(idx,4));\n",
    "        X_slow(n,4) = max(data(idx,4));\n",
    "    end\n",
    "end\n",
    "\n",
    "toc;\n",
    "\n",
    "% Clear variables so we don't accidentally use the wrong data in temp variables later on\n",
    "clear idxRR idxHR idxCurrentID idx;\n",
    "\n",
    "% let's show a preview of X:\n",
    "X(1:5,:)"
   ]
  },
  {
   "cell_type": "code",
   "execution_count": null,
   "metadata": {
    "collapsed": false
   },
   "outputs": [],
   "source": [
    "y = data(idxID,5); % get the outcome for each patient\n",
    "\n",
    "% plot the variables against each other, coloured by their outcome\n",
    "figure(1); clf; hold all;\n",
    "plot(X(y==1,1), X(y==1,2),'x',...\n",
    "    'Linewidth',2,'Color',[0.8906, 0.1016, 0.1094]);\n",
    "plot(X(y==0,1), X(y==0,2),'o',...\n",
    "    'Linewidth',2,'Color',[0.2148, 0.4922, 0.7188]);\n",
    "\n",
    "xlabel('Lowest heart rate');\n",
    "ylabel('Highest heart rate');"
   ]
  },
  {
   "cell_type": "markdown",
   "metadata": {},
   "source": [
    "Above we can see most people have heart rates between 0-200, except a few with heart rates around 1000 and one with a highest heart rate of 5500. Clearly these are not physiological - you'll find these \"outliers\" frequently in medical data - it's a consequence of the secondary nature of our analysis. It's obvious to any care provider that these are not possible, so they are ignored during routine care, and not sanitized in the database. We have to fix them ourselves! For now, we can ignore these and set the limits on our plot. Later, we will preprocess these data appropriately."
   ]
  },
  {
   "cell_type": "code",
   "execution_count": null,
   "metadata": {
    "collapsed": false
   },
   "outputs": [],
   "source": [
    "y = data(idxID,5); % get the outcome for each patient\n",
    "\n",
    "% plot the variables against each other, coloured by their outcome\n",
    "figure(1); clf; hold all;\n",
    "plot(X(y==1,1), X(y==1,2),'x',...\n",
    "    'Linewidth',2,'Color',[0.8906, 0.1016, 0.1094]);\n",
    "plot(X(y==0,1), X(y==0,2),'o',...\n",
    "    'Linewidth',2,'Color',[0.2148, 0.4922, 0.7188]);\n",
    "\n",
    "xlabel('Lowest heart rate');\n",
    "ylabel('Highest heart rate');\n",
    "\n",
    "% change the axis to reasonable limits\n",
    "set(gca,'XLim',[0,240],'YLim',[0,240]);"
   ]
  },
  {
   "cell_type": "markdown",
   "metadata": {},
   "source": [
    "Now we have a wonderful blob of data. This is because there are so many data points! What a wonderful problem to have. We limit the plot to 200 data points (100 in each class, survived or died in hospital) - this will give us a better visualization. We pick these data points randomly."
   ]
  },
  {
   "cell_type": "code",
   "execution_count": null,
   "metadata": {
    "collapsed": false
   },
   "outputs": [],
   "source": [
    "y = data(idxID,5); % get the outcome for each patient\n",
    "\n",
    "N_DATA_POINTS = 100; % Number of data points to plot for each class - must be less than 6342, the number of deaths\n",
    "\n",
    "rng(777,'twister'); % fix the random number seed so everyone's plots look identical\n",
    "\n",
    "idx0 = find(y==0);\n",
    "[~,idxRand] = sort(rand(size(idx0,1),1),1);\n",
    "idx0 = idx0(idxRand(1:N_DATA_POINTS));\n",
    "\n",
    "idx1 = find(y==1);\n",
    "[~,idxRand] = sort(rand(size(idx1,1),1),1);\n",
    "idx1 = idx1(idxRand(1:N_DATA_POINTS));\n",
    "\n",
    "% plot the variables against each other, coloured by their outcome\n",
    "figure(1); clf; hold all;\n",
    "plot(X(idx1,1), X(idx1,2),'x',...\n",
    "    'Linewidth',2,'Color',[0.8906, 0.1016, 0.1094]);\n",
    "plot(X(idx0,1), X(idx0,2),'o',...\n",
    "    'Linewidth',2,'Color',[0.2148, 0.4922, 0.7188]);\n",
    "\n",
    "xlabel('Lowest heart rate');\n",
    "ylabel('Highest heart rate');\n",
    "\n",
    "% change the axis to reasonable limits\n",
    "set(gca,'XLim',[0,240],'YLim',[0,240]);\n"
   ]
  }
 ],
 "metadata": {
  "kernelspec": {
   "display_name": "Matlab",
   "language": "matlab",
   "name": "matlab_kernel"
  },
  "language_info": {
   "codemirror_mode": "Octave",
   "file_extension": ".m",
   "help_links": [
    {
     "text": "MetaKernel Magics",
     "url": "https://github.com/calysto/metakernel/blob/master/metakernel/magics/README.md"
    }
   ],
   "mimetype": "text/x-matlab",
   "name": "octave"
  }
 },
 "nbformat": 4,
 "nbformat_minor": 0
}
