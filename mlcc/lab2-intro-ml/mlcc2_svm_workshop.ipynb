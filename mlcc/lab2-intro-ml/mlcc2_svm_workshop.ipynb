{
 "cells": [
  {
   "cell_type": "code",
   "execution_count": 1,
   "metadata": {
    "collapsed": true
   },
   "outputs": [],
   "source": [
    "% Path variables which are necessary\n",
    "addpath([pwd filesep 'libsvm']);\n",
    "\n",
    "% Some variables used to make pretty plots\n",
    "col = [0.9047    0.1918    0.1988\n",
    "    0.2941    0.5447    0.7494\n",
    "    0.3718    0.7176    0.3612\n",
    "    1.0000    0.5482    0.1000\n",
    "    0.4550    0.4946    0.4722\n",
    "    0.6859    0.4035    0.2412\n",
    "    0.9718    0.5553    0.7741\n",
    "    0.5313    0.3359    0.6523];\n",
    "\n",
    "col = repmat(col,2,1);\n",
    "col_fill = col;\n",
    "col(9:end,:) = 0; % when plotting > 8 items, we make the outline black\n",
    "\n",
    "marker = {'d','+','o','x','>','s','<','+','^'};\n",
    "marker = repmat(marker,1,2);\n",
    "ms = 12;\n",
    "savefigflag=0;"
   ]
  },
  {
   "cell_type": "code",
   "execution_count": 2,
   "metadata": {
    "collapsed": false
   },
   "outputs": [
    {
     "data": {
      "text/plain": [
       "The path for svmtrain is: C:\\Users\\alistair\\Documents\\mimic-workshop\\mlcc\\lab2-intro-ml\\libsvm\\svmtrain.mexw64\r\n",
       "libsvm is loaded properly! Carry on!"
      ]
     },
     "execution_count": 2,
     "metadata": {},
     "output_type": "execute_result"
    }
   ],
   "source": [
    "svm_path = which('svmtrain');\n",
    "\n",
    "fprintf('\\n');\n",
    "if strfind(lower(svm_path),'.mex') > 0\n",
    "    fprintf('The path for svmtrain is: %s\\n',svm_path);\n",
    "    fprintf('libsvm is loaded properly! Carry on!\\n');\n",
    "else\n",
    "    fprintf('Could not find LIBSVM. Make sure it''s added to the path.\\n');\n",
    "end"
   ]
  },
  {
   "cell_type": "code",
   "execution_count": null,
   "metadata": {
    "collapsed": true
   },
   "outputs": [],
   "source": [
    "% Option 1. This loads fisher iris instead of the ICU data\n",
    "load fisheriris;\n",
    "X = meas(:,1:3);\n",
    "X_header = {'Sepal length','Sepal width','Petal length'};\n",
    "y = double(strcmp(species,'virginica')==1);\n",
    "clear meas species;"
   ]
  },
  {
   "cell_type": "code",
   "execution_count": null,
   "metadata": {
    "collapsed": true
   },
   "outputs": [],
   "source": [
    "% Option 2. Extract the patient data using the query from your assignment\n",
    "% Run the following to connect to the database\n",
    "\n",
    "% STEP 1: Tell Matlab where the driver is\n",
    "javaclasspath('sqlite-jdbc-3.8.11.2.jar') % use this for SQLite\n",
    "\n",
    "% STEP 2: Connect to the Database\n",
    "if exist('conn','var') != 1\n",
    "conn = database('','','',...\n",
    "    'org.sqlite.JDBC',['jdbc:sqlite:' pwd filesep 'data' filesep 'mimiciii_v1_3_demo.sqlite']);\n",
    "end\n",
    "\n",
    "% Option 2 (continued). Extract the patient data using the query from your assignment\n",
    "% At the moment this query is long, and takes ~5 minutes\n",
    "setdbprefs('DataReturnFormat','dataset')\n",
    "query = makeQuery('mlcc1-problem-set-solutions.sql');\n",
    "data = fetch(conn,query);\n",
    "\n",
    "% now convert data to a cell array\n",
    "data = dataset2cell(data);\n",
    "\n",
    "% we can get the column names from the first row of the 'data' variable\n",
    "header = data(1,:);\n",
    "header{2} = 'OUTCOME';\n",
    "header = regexprep(header,'_',''); % remove underscores\n",
    "data = data(2:end,:);\n",
    "\n",
    "% MATLAB sometimes reads 'null' instead of NaN\n",
    "data(cellfun(@isstr, data) & cellfun(@(x) strcmp(x,'null'), data)) = {NaN};\n",
    "\n",
    "% MATLAB sometimes has blank cells which should be NaN\n",
    "data(cellfun(@isempty, data)) = {NaN};\n",
    "\n",
    "% Convert the data into a matrix of numbers\n",
    "% This is a MATLAB data type thing - we can't do math with cell arrays\n",
    "data = cell2mat(data);\n",
    "\n",
    "X = data(:,3:5);\n",
    "X_header = header(3:5);\n",
    "y = data(:,2);"
   ]
  },
  {
   "cell_type": "code",
   "execution_count": 3,
   "metadata": {
    "collapsed": true
   },
   "outputs": [],
   "source": [
    "% (Option 3) Load the ICU data from the .mat file provided\n",
    "\n",
    "% Loads in 'X', 'X_header', and 'y' variables\n",
    "load('MLCCData.mat'); \n",
    "\n",
    "X = data(:,3:5);\n",
    "X_header = header(3:5);\n",
    "y = data(:,2);"
   ]
  },
  {
   "cell_type": "code",
   "execution_count": 12,
   "metadata": {
    "collapsed": false
   },
   "outputs": [
    {
     "data": {
      "text/plain": [
       "ICUSTAYID\t     OUTCOME\t         Age\tHeartRateMin\tHeartRateMax\t\r\n",
       "      230834\t           0\t     23.6137\t         111\t         122\t\r\n",
       "      284549\t           0\t     86.7196\t          59\t          76\t\r\n",
       "      204985\t           0\t     74.2264\t          70\t          83\t\r\n",
       "      261097\t           0\t     51.3441\t          91\t          91\t\r\n",
       "      219258\t           0\t     51.4133\t          58\t         118\t\r\n",
       "\r\n",
       "   MeanBPMin\t   MeanBPMax\t RespRateMin\t RespRateMax\t      GCSMin\t\r\n",
       "          59\t          64\t          12\t          22\t          15\t\r\n",
       "          55\t         108\t          15\t          25\t          15\t\r\n",
       "     47.3333\t          65\t          12\t          20\t          15\t\r\n",
       "          87\t          87\t          19\t          19\t         NaN\t\r\n",
       "          59\t     123.667\t           9\t          31\t           8\t\r\n",
       "\r\n",
       "      GCSMax\tBILIRUBINmin\tBILIRUBINmax\tCREATININEmin\tCREATININEmax\t\r\n",
       "          15\t         NaN\t         NaN\t         0.8\t           1\t\r\n",
       "          15\t         0.5\t         0.5\t         0.6\t         0.7\t\r\n",
       "          15\t         NaN\t         NaN\t         2.2\t         2.9\t\r\n",
       "         NaN\t          11\t          11\t         0.7\t         0.7\t\r\n",
       "           9\t         5.2\t         5.8\t         0.5\t         0.6\t\r\n",
       "\r\n",
       "HEMOGLOBINmin\tHEMOGLOBINmax\t   SODIUMmin\t   SODIUMmax\t      WBCmin\t\r\n",
       "        11.3\t        13.5\t         141\t         143\t        12.7\t\r\n",
       "        11.7\t        11.7\t         141\t         141\t         7.6\t\r\n",
       "           7\t           9\t         142\t         149\t         7.8\t\r\n",
       "         8.9\t         8.9\t         137\t         137\t         7.6\t\r\n",
       "         8.3\t        10.3\t         131\t         131\t         8.5"
      ]
     },
     "execution_count": 12,
     "metadata": {},
     "output_type": "execute_result"
    }
   ],
   "source": [
    "% Data will have at least three columns: \n",
    "%   ICUSTAY_ID, OUTCOME, AGE\n",
    "\n",
    "% the following loops display the data nicely\n",
    "W = 5; % the maximum number of columns to print at one time\n",
    "for o=1:floor(size(data,2)/W)\n",
    "    idxColumn = (o-1)*W + 1 : o*W;\n",
    "    if idxColumn(end) > size(data,2)\n",
    "        idxColumn = idxColumn(1):size(data,2);\n",
    "    end\n",
    "    \n",
    "    fprintf('%12s\\t',header{idxColumn});\n",
    "    fprintf('\\n');\n",
    "    for n=1:5\n",
    "        for m=idxColumn\n",
    "            fprintf('%12g\\t',data(n, m));\n",
    "        end\n",
    "        fprintf('\\n');\n",
    "    end\n",
    "    fprintf('\\n');\n",
    "end"
   ]
  },
  {
   "cell_type": "code",
   "execution_count": 13,
   "metadata": {
    "collapsed": false
   },
   "outputs": [
    {
     "data": {
      "image/png": "[encoded data removed]",
      "text/plain": [
       "<IPython.core.display.Image object>"
      ]
     },
     "metadata": {},
     "output_type": "display_data"
    }
   ],
   "source": [
    "% Before we train a model - let's inspect the data\n",
    "idxTarget = y == 1; % note: '=' defines a number, '==' compares two variables\n",
    "\n",
    "figure(1); clf; hold all;\n",
    "plot3(X(idxTarget,1),X(idxTarget,2),X(idxTarget,3),...\n",
    "    'Linestyle','none','Marker','x',...\n",
    "    'MarkerFaceColor',col(1,:),'MarkerEdgeColor',col(1,:)...\n",
    "    ,'MarkerSize',10,'LineWidth',2);\n",
    "plot3(X(~idxTarget,1),X(~idxTarget,2),X(~idxTarget,3),...\n",
    "    'Linestyle','none','Marker','+',...\n",
    "    'MarkerFaceColor',col(2,:),'MarkerEdgeColor',col(2,:)...\n",
    "    ,'MarkerSize',10,'LineWidth',2);\n",
    "grid on;\n",
    "\n",
    "xlabel(X_header{1},'FontSize',16);\n",
    "ylabel(X_header{2},'FontSize',16);\n",
    "zlabel(X_header{3},'FontSize',16);\n",
    "legend({'Died in hospital','Survived'},'FontSize',14);\n",
    "set(gca,'view',[45 25]); % a nice isometric view\n",
    "\n",
    "% 1) What do you see that is notable?\n",
    "% ANSWER: for the ICU data...\n",
    "%   there are ages ~ 300, these are de-identified ages\n",
    "%   patients with a minimum heart rate of 0 appear more likely to die\n",
    "%   patients with \"extreme\" data (outside the massive blob in the middle) seem more likely to die"
   ]
  },
  {
   "cell_type": "code",
   "execution_count": 14,
   "metadata": {
    "collapsed": true
   },
   "outputs": [],
   "source": [
    "% Correct the erroneous ages\n",
    "% Hint: the median age of patients > 89 is 91.6.\n",
    "X( X(:,1) > 89, 1 ) = 91.6;"
   ]
  },
  {
   "cell_type": "code",
   "execution_count": 15,
   "metadata": {
    "collapsed": true
   },
   "outputs": [],
   "source": [
    "% Normalize the data!\n",
    "% First get the column wise mean and the column wise standard deviation\n",
    "mu = nanmean(X, 1);\n",
    "sigma = nanstd(X, [], 1);\n",
    "\n",
    "% Now subtract each element of mu from each column of X\n",
    "X = bsxfun(@minus, X, mu);\n",
    "X = bsxfun(@rdivide, X, sigma);"
   ]
  },
  {
   "cell_type": "code",
   "execution_count": 16,
   "metadata": {
    "collapsed": false
   },
   "outputs": [
    {
     "name": "stderr",
     "output_type": "stream",
     "text": [
      "Invalid MEX-file 'C:\\Users\\alistair\\Documents\\mimic-workshop\\mlcc\\lab2-intro-ml\\libsvm\\svmtrain.mexw64': The specified procedure could not be found.\n"
     ]
    }
   ],
   "source": [
    "% We will be using libsvm. If you call svmtrain on its own, it lists the options available\n",
    "svmtrain;"
   ]
  },
  {
   "cell_type": "code",
   "execution_count": null,
   "metadata": {
    "collapsed": true
   },
   "outputs": [],
   "source": [
    "% Using LIBSVM, train an SVM classifier with a linear kernel\n",
    "model_linear = svmtrain(y, X, '-t 0');\n",
    "% Atypically, LIBSVM receives options as a single string in the fourth input\n",
    "% e.g. '-v 1 -b 1 -g 0.5 -c 1'\n",
    "\n",
    "% Apply the classifier to the data set\n",
    "pred = svmpredict(y, X, model_linear);"
   ]
  },
  {
   "cell_type": "code",
   "execution_count": null,
   "metadata": {
    "collapsed": true
   },
   "outputs": [],
   "source": [
    "% Evaluate the model - plot a confusion matrix\n"
   ]
  },
  {
   "cell_type": "code",
   "execution_count": null,
   "metadata": {
    "collapsed": true
   },
   "outputs": [],
   "source": [
    "% Now let's try with an RBF kernel\n",
    "% This is LIBSVM's most flexible kernel\n",
    "% We specify it as '-t 2'\n",
    "\n",
    "% train the model\n",
    "model_rbf = svmtrain(y, X, '-t 2');\n",
    "\n",
    "% Apply the classifier to the data set\n",
    "pred = svmpredict(y, X, model_rbf);"
   ]
  },
  {
   "cell_type": "code",
   "execution_count": null,
   "metadata": {
    "collapsed": true
   },
   "outputs": [],
   "source": [
    "% Evaluate the RBF model - plot a confusion matrix\n"
   ]
  },
  {
   "cell_type": "code",
   "execution_count": null,
   "metadata": {
    "collapsed": true
   },
   "outputs": [],
   "source": [
    "% Directly compare the RBF model with the linear model\n"
   ]
  },
  {
   "cell_type": "code",
   "execution_count": null,
   "metadata": {
    "collapsed": true
   },
   "outputs": [],
   "source": [
    "% Plot the RBF model and the linear model together\n",
    "\n"
   ]
  },
  {
   "cell_type": "code",
   "execution_count": null,
   "metadata": {
    "collapsed": true
   },
   "outputs": [],
   "source": [
    "% Specify parameters in the RBF kernel\n",
    "% The RBF kernel has some parameters of its own: gamma and capacity\n",
    "% Let's set these to a different value then their defaults\n",
    "\n",
    "gamma = 2;\n",
    "capacity = -1;\n",
    "\n",
    "% train the model\n",
    "model_rbf = svmtrain(y, X, ['-t 2 -c ' num2str(2^(capacity)) ' -g ' num2str(2^(gamma))]);\n",
    "pred = svmpredict(y, X, model_rbf);"
   ]
  },
  {
   "cell_type": "code",
   "execution_count": null,
   "metadata": {
    "collapsed": true
   },
   "outputs": [],
   "source": [
    "% Optimize the RBF kernel\n",
    "% Let's see how much better we can make our model!\n",
    "% change gamma below to try and improve your performance\n",
    "% Keep it as an integer!\n",
    "\n",
    "gamma = 20;\n",
    "capacity = 1;\n",
    "\n",
    "%% train the model\n",
    "model_rbf = svmtrain(y, X, ['-t 2 -c ' num2str(2^(capacity)) ' -g ' num2str(2^(gamma))]);\n",
    "pred = svmpredict(y, X, model_rbf);"
   ]
  }
 ],
 "metadata": {
  "kernelspec": {
   "display_name": "Matlab",
   "language": "matlab",
   "name": "matlab_kernel"
  },
  "language_info": {
   "codemirror_mode": "Octave",
   "file_extension": ".m",
   "help_links": [
    {
     "text": "MetaKernel Magics",
     "url": "https://github.com/calysto/metakernel/blob/master/metakernel/magics/README.md"
    }
   ],
   "mimetype": "text/x-matlab",
   "name": "octave"
  }
 },
 "nbformat": 4,
 "nbformat_minor": 0
}
