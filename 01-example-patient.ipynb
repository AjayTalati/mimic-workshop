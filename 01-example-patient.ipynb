{
 "cells": [
  {
   "cell_type": "markdown",
   "metadata": {},
   "source": [
    "# Exploring the trajectory of a single patient"
   ]
  },
  {
   "cell_type": "markdown",
   "metadata": {},
   "source": [
    "### Import Python libraries"
   ]
  },
  {
   "cell_type": "markdown",
   "metadata": {},
   "source": [
    "We first need to import some tools for working with data in Python. \n",
    "- NumPy is for working with numbers\n",
    "- Pandas is for analysing data\n",
    "- MatPlotLib is for making plots\n",
    "- Sqlite3 to connect to the database"
   ]
  },
  {
   "cell_type": "code",
   "execution_count": 3,
   "metadata": {
    "collapsed": false
   },
   "outputs": [],
   "source": [
    "import numpy as np\n",
    "import pandas as pd\n",
    "import matplotlib.pyplot as plt\n",
    "import sqlite3\n",
    "%matplotlib inline"
   ]
  },
  {
   "cell_type": "markdown",
   "metadata": {},
   "source": [
    "### Connect to the database"
   ]
  },
  {
   "cell_type": "markdown",
   "metadata": {},
   "source": [
    "- We can use the sqlite3 library to connect to the MIMIC database\n",
    "- Once the connection is established, we'll run a simple SQL query."
   ]
  },
  {
   "cell_type": "code",
   "execution_count": 4,
   "metadata": {
    "collapsed": true
   },
   "outputs": [],
   "source": [
    "# Connect to the MIMIC database\n",
    "conn = sqlite3.connect('data/mimicdata.sqlite')"
   ]
  },
  {
   "cell_type": "code",
   "execution_count": 5,
   "metadata": {
    "collapsed": true
   },
   "outputs": [],
   "source": [
    "# Create our test query\n",
    "test_query = \"\"\"\n",
    "SELECT subject_id, hadm_id, admittime, dischtime, admission_type, diagnosis\n",
    "FROM admissions\n",
    "LIMIT 10;\n",
    "\"\"\""
   ]
  },
  {
   "cell_type": "code",
   "execution_count": 6,
   "metadata": {
    "collapsed": true
   },
   "outputs": [],
   "source": [
    "# Run the query and assign the results to a variable\n",
    "test = pd.read_sql_query(test_query,conn)"
   ]
  },
  {
   "cell_type": "code",
   "execution_count": 7,
   "metadata": {
    "collapsed": false
   },
   "outputs": [
    {
     "data": {
      "text/html": [
       "<div>\n",
       "<table border=\"1\" class=\"dataframe\">\n",
       "  <thead>\n",
       "    <tr style=\"text-align: right;\">\n",
       "      <th></th>\n",
       "      <th>SUBJECT_ID</th>\n",
       "      <th>HADM_ID</th>\n",
       "      <th>ADMITTIME</th>\n",
       "      <th>DISCHTIME</th>\n",
       "      <th>ADMISSION_TYPE</th>\n",
       "      <th>DIAGNOSIS</th>\n",
       "    </tr>\n",
       "  </thead>\n",
       "  <tbody>\n",
       "    <tr>\n",
       "      <th>0</th>\n",
       "      <td>40036</td>\n",
       "      <td>198489</td>\n",
       "      <td>2141-08-01 23:46:00</td>\n",
       "      <td>2141-08-09 19:15:00</td>\n",
       "      <td>EMERGENCY</td>\n",
       "      <td>SEPSIS</td>\n",
       "    </tr>\n",
       "    <tr>\n",
       "      <th>1</th>\n",
       "      <td>40080</td>\n",
       "      <td>162107</td>\n",
       "      <td>2106-05-31 16:43:00</td>\n",
       "      <td>2106-06-05 01:18:00</td>\n",
       "      <td>EMERGENCY</td>\n",
       "      <td>CONGESTIVE HEART FAILURE</td>\n",
       "    </tr>\n",
       "    <tr>\n",
       "      <th>2</th>\n",
       "      <td>40084</td>\n",
       "      <td>195762</td>\n",
       "      <td>2173-01-31 22:11:00</td>\n",
       "      <td>2173-02-05 01:31:00</td>\n",
       "      <td>EMERGENCY</td>\n",
       "      <td>INTRACRANIAL HEMORRHAGE;OPEN FX</td>\n",
       "    </tr>\n",
       "    <tr>\n",
       "      <th>3</th>\n",
       "      <td>40116</td>\n",
       "      <td>157106</td>\n",
       "      <td>2150-02-19 00:12:00</td>\n",
       "      <td>2150-03-11 13:58:00</td>\n",
       "      <td>EMERGENCY</td>\n",
       "      <td>GASTROINTESTINAL BLEED</td>\n",
       "    </tr>\n",
       "    <tr>\n",
       "      <th>4</th>\n",
       "      <td>40120</td>\n",
       "      <td>146466</td>\n",
       "      <td>2120-01-27 20:41:00</td>\n",
       "      <td>2120-02-12 17:14:00</td>\n",
       "      <td>EMERGENCY</td>\n",
       "      <td>CONGESTIVE HEART FAILURE</td>\n",
       "    </tr>\n",
       "  </tbody>\n",
       "</table>\n",
       "</div>"
      ],
      "text/plain": [
       "   SUBJECT_ID  HADM_ID            ADMITTIME            DISCHTIME  \\\n",
       "0       40036   198489  2141-08-01 23:46:00  2141-08-09 19:15:00   \n",
       "1       40080   162107  2106-05-31 16:43:00  2106-06-05 01:18:00   \n",
       "2       40084   195762  2173-01-31 22:11:00  2173-02-05 01:31:00   \n",
       "3       40116   157106  2150-02-19 00:12:00  2150-03-11 13:58:00   \n",
       "4       40120   146466  2120-01-27 20:41:00  2120-02-12 17:14:00   \n",
       "\n",
       "  ADMISSION_TYPE                        DIAGNOSIS  \n",
       "0      EMERGENCY                           SEPSIS  \n",
       "1      EMERGENCY         CONGESTIVE HEART FAILURE  \n",
       "2      EMERGENCY  INTRACRANIAL HEMORRHAGE;OPEN FX  \n",
       "3      EMERGENCY           GASTROINTESTINAL BLEED  \n",
       "4      EMERGENCY         CONGESTIVE HEART FAILURE  "
      ]
     },
     "execution_count": 7,
     "metadata": {},
     "output_type": "execute_result"
    }
   ],
   "source": [
    "# Display the first few rows\n",
    "test.head()"
   ]
  },
  {
   "cell_type": "markdown",
   "metadata": {},
   "source": [
    "### Load the chartevents data"
   ]
  },
  {
   "cell_type": "markdown",
   "metadata": {},
   "source": [
    "- The chartevents table contains data charted at the patient bedside. It includes variables such as heart rate, respiratory rate, temperature, and so on.\n",
    "- We'll begin by loading the chartevents data for a single patient."
   ]
  },
  {
   "cell_type": "code",
   "execution_count": null,
   "metadata": {
    "collapsed": true
   },
   "outputs": [],
   "source": []
  },
  {
   "cell_type": "code",
   "execution_count": 8,
   "metadata": {
    "collapsed": false
   },
   "outputs": [],
   "source": [
    "query = \"\"\"\n",
    "SELECT de.icustay_id\n",
    "  , (strftime('%s',de.charttime)-strftime('%s',ie.intime))/60.0/60.0 as HOURS\n",
    "  , di.label\n",
    "  , de.value\n",
    "  , de.valuenum\n",
    "  , de.uom\n",
    "FROM chartevents de\n",
    "INNER join d_items di\n",
    "ON de.itemid = di.itemid\n",
    "INNER join icustays ie\n",
    "ON de.icustay_id = ie.icustay_id\n",
    "WHERE de.icustay_id = 252522\n",
    "ORDER BY charttime;\n",
    "\"\"\"\n",
    "\n",
    "ce = pd.read_sql_query(query,conn)\n",
    "\n",
    "\n",
    "# OPTION 2: load chartevents from a CSV file\n",
    "# ce = pd.read_csv('data/example_chartevents.csv', index_col='HOURSSINCEADMISSION')"
   ]
  },
  {
   "cell_type": "code",
   "execution_count": 9,
   "metadata": {
    "collapsed": false
   },
   "outputs": [
    {
     "data": {
      "text/html": [
       "<div>\n",
       "<table border=\"1\" class=\"dataframe\">\n",
       "  <thead>\n",
       "    <tr style=\"text-align: right;\">\n",
       "      <th></th>\n",
       "      <th>ICUSTAY_ID</th>\n",
       "      <th>HOURS</th>\n",
       "      <th>LABEL</th>\n",
       "      <th>VALUE</th>\n",
       "      <th>VALUENUM</th>\n",
       "      <th>UOM</th>\n",
       "    </tr>\n",
       "  </thead>\n",
       "  <tbody>\n",
       "    <tr>\n",
       "      <th>0</th>\n",
       "      <td>252522</td>\n",
       "      <td>0.537222</td>\n",
       "      <td>Heart Rate</td>\n",
       "      <td>90</td>\n",
       "      <td>90</td>\n",
       "      <td>bpm</td>\n",
       "    </tr>\n",
       "    <tr>\n",
       "      <th>1</th>\n",
       "      <td>252522</td>\n",
       "      <td>0.537222</td>\n",
       "      <td>Non Invasive Blood Pressure systolic</td>\n",
       "      <td>104</td>\n",
       "      <td>104</td>\n",
       "      <td>mmHg</td>\n",
       "    </tr>\n",
       "    <tr>\n",
       "      <th>2</th>\n",
       "      <td>252522</td>\n",
       "      <td>0.537222</td>\n",
       "      <td>Non Invasive Blood Pressure diastolic</td>\n",
       "      <td>63</td>\n",
       "      <td>63</td>\n",
       "      <td>mmHg</td>\n",
       "    </tr>\n",
       "    <tr>\n",
       "      <th>3</th>\n",
       "      <td>252522</td>\n",
       "      <td>0.537222</td>\n",
       "      <td>Non Invasive Blood Pressure mean</td>\n",
       "      <td>74</td>\n",
       "      <td>74</td>\n",
       "      <td>mmHg</td>\n",
       "    </tr>\n",
       "    <tr>\n",
       "      <th>4</th>\n",
       "      <td>252522</td>\n",
       "      <td>0.537222</td>\n",
       "      <td>Respiratory Rate</td>\n",
       "      <td>28</td>\n",
       "      <td>28</td>\n",
       "      <td>insp/min</td>\n",
       "    </tr>\n",
       "  </tbody>\n",
       "</table>\n",
       "</div>"
      ],
      "text/plain": [
       "   ICUSTAY_ID     HOURS                                  LABEL VALUE  \\\n",
       "0      252522  0.537222                             Heart Rate    90   \n",
       "1      252522  0.537222   Non Invasive Blood Pressure systolic   104   \n",
       "2      252522  0.537222  Non Invasive Blood Pressure diastolic    63   \n",
       "3      252522  0.537222       Non Invasive Blood Pressure mean    74   \n",
       "4      252522  0.537222                       Respiratory Rate    28   \n",
       "\n",
       "   VALUENUM       UOM  \n",
       "0        90       bpm  \n",
       "1       104      mmHg  \n",
       "2        63      mmHg  \n",
       "3        74      mmHg  \n",
       "4        28  insp/min  "
      ]
     },
     "execution_count": 9,
     "metadata": {},
     "output_type": "execute_result"
    }
   ],
   "source": [
    "# Preview the data\n",
    "# Use 'head' to limit the number of rows returned\n",
    "ce.head()"
   ]
  },
  {
   "cell_type": "markdown",
   "metadata": {},
   "source": [
    "### Review the patient's heart rate"
   ]
  },
  {
   "cell_type": "markdown",
   "metadata": {},
   "source": [
    "- We can select individual columns using the column name. \n",
    "- For example, if we want to select just the label column, we write **```ce.LABEL```** or alternatively **```ce['LABEL']```**"
   ]
  },
  {
   "cell_type": "code",
   "execution_count": 10,
   "metadata": {
    "collapsed": false
   },
   "outputs": [
    {
     "data": {
      "text/plain": [
       "0                                     Heart Rate\n",
       "1           Non Invasive Blood Pressure systolic\n",
       "2          Non Invasive Blood Pressure diastolic\n",
       "3               Non Invasive Blood Pressure mean\n",
       "4                               Respiratory Rate\n",
       "5                    O2 saturation pulseoxymetry\n",
       "6                                     Heart Rate\n",
       "7                        Heart rate Alarm - High\n",
       "8                         Heart Rate Alarm - Low\n",
       "9                               Respiratory Rate\n",
       "10                   O2 saturation pulseoxymetry\n",
       "11      Non-Invasive Blood Pressure Alarm - High\n",
       "12       Non-Invasive Blood Pressure Alarm - Low\n",
       "13                        Temperature Fahrenheit\n",
       "14      O2 Saturation Pulseoxymetry Alarm - High\n",
       "15       O2 Saturation Pulseoxymetry Alarm - Low\n",
       "16                             Resp Alarm - High\n",
       "17                              Resp Alarm - Low\n",
       "18                              SpO2 Desat Limit\n",
       "19                            Richmond-RAS Scale\n",
       "20                             GCS - Eye Opening\n",
       "21                         GCS - Verbal Response\n",
       "22                          GCS - Motor Response\n",
       "23                                       O2 Flow\n",
       "24                                    Heart Rate\n",
       "25          Non Invasive Blood Pressure systolic\n",
       "26         Non Invasive Blood Pressure diastolic\n",
       "27              Non Invasive Blood Pressure mean\n",
       "28                              Respiratory Rate\n",
       "29                   O2 saturation pulseoxymetry\n",
       "                          ...                   \n",
       "1116     O2 Saturation Pulseoxymetry Alarm - Low\n",
       "1117                           Resp Alarm - High\n",
       "1118                            Resp Alarm - Low\n",
       "1119                            SpO2 Desat Limit\n",
       "1120                          Richmond-RAS Scale\n",
       "1121                           GCS - Eye Opening\n",
       "1122                                  Heart Rate\n",
       "1123        Non Invasive Blood Pressure systolic\n",
       "1124       Non Invasive Blood Pressure diastolic\n",
       "1125            Non Invasive Blood Pressure mean\n",
       "1126                            Respiratory Rate\n",
       "1127                 O2 saturation pulseoxymetry\n",
       "1128                                  Heart Rate\n",
       "1129        Non Invasive Blood Pressure systolic\n",
       "1130       Non Invasive Blood Pressure diastolic\n",
       "1131            Non Invasive Blood Pressure mean\n",
       "1132                            Respiratory Rate\n",
       "1133                 O2 saturation pulseoxymetry\n",
       "1134                                  Heart Rate\n",
       "1135        Non Invasive Blood Pressure systolic\n",
       "1136       Non Invasive Blood Pressure diastolic\n",
       "1137            Non Invasive Blood Pressure mean\n",
       "1138                            Respiratory Rate\n",
       "1139                 O2 saturation pulseoxymetry\n",
       "1140                                  Heart Rate\n",
       "1141        Non Invasive Blood Pressure systolic\n",
       "1142       Non Invasive Blood Pressure diastolic\n",
       "1143            Non Invasive Blood Pressure mean\n",
       "1144                            Respiratory Rate\n",
       "1145                 O2 saturation pulseoxymetry\n",
       "Name: LABEL, dtype: object"
      ]
     },
     "execution_count": 10,
     "metadata": {},
     "output_type": "execute_result"
    }
   ],
   "source": [
    "# Select a single column\n",
    "ce['LABEL']"
   ]
  },
  {
   "cell_type": "markdown",
   "metadata": {},
   "source": [
    "- In a similar way, we can select rows from data using indexes. \n",
    "- For example, to select rows where the label is equal to 'Heart Rate', we would create an index using **```[ce.LABEL=='Heart Rate']```** "
   ]
  },
  {
   "cell_type": "code",
   "execution_count": 11,
   "metadata": {
    "collapsed": false
   },
   "outputs": [
    {
     "data": {
      "text/html": [
       "<div>\n",
       "<table border=\"1\" class=\"dataframe\">\n",
       "  <thead>\n",
       "    <tr style=\"text-align: right;\">\n",
       "      <th></th>\n",
       "      <th>ICUSTAY_ID</th>\n",
       "      <th>HOURS</th>\n",
       "      <th>LABEL</th>\n",
       "      <th>VALUE</th>\n",
       "      <th>VALUENUM</th>\n",
       "      <th>UOM</th>\n",
       "    </tr>\n",
       "  </thead>\n",
       "  <tbody>\n",
       "    <tr>\n",
       "      <th>0</th>\n",
       "      <td>252522</td>\n",
       "      <td>0.537222</td>\n",
       "      <td>Heart Rate</td>\n",
       "      <td>90</td>\n",
       "      <td>90</td>\n",
       "      <td>bpm</td>\n",
       "    </tr>\n",
       "    <tr>\n",
       "      <th>6</th>\n",
       "      <td>252522</td>\n",
       "      <td>0.737222</td>\n",
       "      <td>Heart Rate</td>\n",
       "      <td>86</td>\n",
       "      <td>86</td>\n",
       "      <td>bpm</td>\n",
       "    </tr>\n",
       "    <tr>\n",
       "      <th>24</th>\n",
       "      <td>252522</td>\n",
       "      <td>1.270556</td>\n",
       "      <td>Heart Rate</td>\n",
       "      <td>94</td>\n",
       "      <td>94</td>\n",
       "      <td>bpm</td>\n",
       "    </tr>\n",
       "    <tr>\n",
       "      <th>30</th>\n",
       "      <td>252522</td>\n",
       "      <td>2.270556</td>\n",
       "      <td>Heart Rate</td>\n",
       "      <td>91</td>\n",
       "      <td>91</td>\n",
       "      <td>bpm</td>\n",
       "    </tr>\n",
       "    <tr>\n",
       "      <th>36</th>\n",
       "      <td>252522</td>\n",
       "      <td>3.270556</td>\n",
       "      <td>Heart Rate</td>\n",
       "      <td>95</td>\n",
       "      <td>95</td>\n",
       "      <td>bpm</td>\n",
       "    </tr>\n",
       "    <tr>\n",
       "      <th>58</th>\n",
       "      <td>252522</td>\n",
       "      <td>4.270556</td>\n",
       "      <td>Heart Rate</td>\n",
       "      <td>90</td>\n",
       "      <td>90</td>\n",
       "      <td>bpm</td>\n",
       "    </tr>\n",
       "    <tr>\n",
       "      <th>67</th>\n",
       "      <td>252522</td>\n",
       "      <td>5.270556</td>\n",
       "      <td>Heart Rate</td>\n",
       "      <td>93</td>\n",
       "      <td>93</td>\n",
       "      <td>bpm</td>\n",
       "    </tr>\n",
       "    <tr>\n",
       "      <th>77</th>\n",
       "      <td>252522</td>\n",
       "      <td>6.270556</td>\n",
       "      <td>Heart Rate</td>\n",
       "      <td>97</td>\n",
       "      <td>97</td>\n",
       "      <td>bpm</td>\n",
       "    </tr>\n",
       "    <tr>\n",
       "      <th>88</th>\n",
       "      <td>252522</td>\n",
       "      <td>7.270556</td>\n",
       "      <td>Heart Rate</td>\n",
       "      <td>94</td>\n",
       "      <td>94</td>\n",
       "      <td>bpm</td>\n",
       "    </tr>\n",
       "    <tr>\n",
       "      <th>95</th>\n",
       "      <td>252522</td>\n",
       "      <td>8.270556</td>\n",
       "      <td>Heart Rate</td>\n",
       "      <td>96</td>\n",
       "      <td>96</td>\n",
       "      <td>bpm</td>\n",
       "    </tr>\n",
       "    <tr>\n",
       "      <th>101</th>\n",
       "      <td>252522</td>\n",
       "      <td>9.270556</td>\n",
       "      <td>Heart Rate</td>\n",
       "      <td>92</td>\n",
       "      <td>92</td>\n",
       "      <td>bpm</td>\n",
       "    </tr>\n",
       "    <tr>\n",
       "      <th>107</th>\n",
       "      <td>252522</td>\n",
       "      <td>10.270556</td>\n",
       "      <td>Heart Rate</td>\n",
       "      <td>91</td>\n",
       "      <td>91</td>\n",
       "      <td>bpm</td>\n",
       "    </tr>\n",
       "    <tr>\n",
       "      <th>131</th>\n",
       "      <td>252522</td>\n",
       "      <td>11.270556</td>\n",
       "      <td>Heart Rate</td>\n",
       "      <td>92</td>\n",
       "      <td>92</td>\n",
       "      <td>bpm</td>\n",
       "    </tr>\n",
       "    <tr>\n",
       "      <th>144</th>\n",
       "      <td>252522</td>\n",
       "      <td>12.270556</td>\n",
       "      <td>Heart Rate</td>\n",
       "      <td>92</td>\n",
       "      <td>92</td>\n",
       "      <td>bpm</td>\n",
       "    </tr>\n",
       "    <tr>\n",
       "      <th>150</th>\n",
       "      <td>252522</td>\n",
       "      <td>13.270556</td>\n",
       "      <td>Heart Rate</td>\n",
       "      <td>99</td>\n",
       "      <td>99</td>\n",
       "      <td>bpm</td>\n",
       "    </tr>\n",
       "    <tr>\n",
       "      <th>156</th>\n",
       "      <td>252522</td>\n",
       "      <td>14.270556</td>\n",
       "      <td>Heart Rate</td>\n",
       "      <td>96</td>\n",
       "      <td>96</td>\n",
       "      <td>bpm</td>\n",
       "    </tr>\n",
       "    <tr>\n",
       "      <th>177</th>\n",
       "      <td>252522</td>\n",
       "      <td>15.270556</td>\n",
       "      <td>Heart Rate</td>\n",
       "      <td>103</td>\n",
       "      <td>103</td>\n",
       "      <td>bpm</td>\n",
       "    </tr>\n",
       "    <tr>\n",
       "      <th>183</th>\n",
       "      <td>252522</td>\n",
       "      <td>16.270556</td>\n",
       "      <td>Heart Rate</td>\n",
       "      <td>108</td>\n",
       "      <td>108</td>\n",
       "      <td>bpm</td>\n",
       "    </tr>\n",
       "    <tr>\n",
       "      <th>189</th>\n",
       "      <td>252522</td>\n",
       "      <td>17.270556</td>\n",
       "      <td>Heart Rate</td>\n",
       "      <td>105</td>\n",
       "      <td>105</td>\n",
       "      <td>bpm</td>\n",
       "    </tr>\n",
       "    <tr>\n",
       "      <th>196</th>\n",
       "      <td>252522</td>\n",
       "      <td>18.270556</td>\n",
       "      <td>Heart Rate</td>\n",
       "      <td>109</td>\n",
       "      <td>109</td>\n",
       "      <td>bpm</td>\n",
       "    </tr>\n",
       "    <tr>\n",
       "      <th>213</th>\n",
       "      <td>252522</td>\n",
       "      <td>19.270556</td>\n",
       "      <td>Heart Rate</td>\n",
       "      <td>109</td>\n",
       "      <td>109</td>\n",
       "      <td>bpm</td>\n",
       "    </tr>\n",
       "    <tr>\n",
       "      <th>225</th>\n",
       "      <td>252522</td>\n",
       "      <td>20.270556</td>\n",
       "      <td>Heart Rate</td>\n",
       "      <td>111</td>\n",
       "      <td>111</td>\n",
       "      <td>bpm</td>\n",
       "    </tr>\n",
       "    <tr>\n",
       "      <th>231</th>\n",
       "      <td>252522</td>\n",
       "      <td>21.270556</td>\n",
       "      <td>Heart Rate</td>\n",
       "      <td>110</td>\n",
       "      <td>110</td>\n",
       "      <td>bpm</td>\n",
       "    </tr>\n",
       "    <tr>\n",
       "      <th>237</th>\n",
       "      <td>252522</td>\n",
       "      <td>22.270556</td>\n",
       "      <td>Heart Rate</td>\n",
       "      <td>119</td>\n",
       "      <td>119</td>\n",
       "      <td>bpm</td>\n",
       "    </tr>\n",
       "    <tr>\n",
       "      <th>243</th>\n",
       "      <td>252522</td>\n",
       "      <td>23.270556</td>\n",
       "      <td>Heart Rate</td>\n",
       "      <td>117</td>\n",
       "      <td>117</td>\n",
       "      <td>bpm</td>\n",
       "    </tr>\n",
       "    <tr>\n",
       "      <th>269</th>\n",
       "      <td>252522</td>\n",
       "      <td>24.270556</td>\n",
       "      <td>Heart Rate</td>\n",
       "      <td>122</td>\n",
       "      <td>122</td>\n",
       "      <td>bpm</td>\n",
       "    </tr>\n",
       "    <tr>\n",
       "      <th>275</th>\n",
       "      <td>252522</td>\n",
       "      <td>25.270556</td>\n",
       "      <td>Heart Rate</td>\n",
       "      <td>119</td>\n",
       "      <td>119</td>\n",
       "      <td>bpm</td>\n",
       "    </tr>\n",
       "    <tr>\n",
       "      <th>281</th>\n",
       "      <td>252522</td>\n",
       "      <td>26.270556</td>\n",
       "      <td>Heart Rate</td>\n",
       "      <td>117</td>\n",
       "      <td>117</td>\n",
       "      <td>bpm</td>\n",
       "    </tr>\n",
       "    <tr>\n",
       "      <th>287</th>\n",
       "      <td>252522</td>\n",
       "      <td>27.270556</td>\n",
       "      <td>Heart Rate</td>\n",
       "      <td>115</td>\n",
       "      <td>115</td>\n",
       "      <td>bpm</td>\n",
       "    </tr>\n",
       "    <tr>\n",
       "      <th>308</th>\n",
       "      <td>252522</td>\n",
       "      <td>28.270556</td>\n",
       "      <td>Heart Rate</td>\n",
       "      <td>115</td>\n",
       "      <td>115</td>\n",
       "      <td>bpm</td>\n",
       "    </tr>\n",
       "    <tr>\n",
       "      <th>...</th>\n",
       "      <td>...</td>\n",
       "      <td>...</td>\n",
       "      <td>...</td>\n",
       "      <td>...</td>\n",
       "      <td>...</td>\n",
       "      <td>...</td>\n",
       "    </tr>\n",
       "    <tr>\n",
       "      <th>860</th>\n",
       "      <td>252522</td>\n",
       "      <td>85.270556</td>\n",
       "      <td>Heart Rate</td>\n",
       "      <td>105</td>\n",
       "      <td>105</td>\n",
       "      <td>bpm</td>\n",
       "    </tr>\n",
       "    <tr>\n",
       "      <th>864</th>\n",
       "      <td>252522</td>\n",
       "      <td>86.270556</td>\n",
       "      <td>Heart Rate</td>\n",
       "      <td>110</td>\n",
       "      <td>110</td>\n",
       "      <td>bpm</td>\n",
       "    </tr>\n",
       "    <tr>\n",
       "      <th>870</th>\n",
       "      <td>252522</td>\n",
       "      <td>87.270556</td>\n",
       "      <td>Heart Rate</td>\n",
       "      <td>108</td>\n",
       "      <td>108</td>\n",
       "      <td>bpm</td>\n",
       "    </tr>\n",
       "    <tr>\n",
       "      <th>880</th>\n",
       "      <td>252522</td>\n",
       "      <td>88.270556</td>\n",
       "      <td>Heart Rate</td>\n",
       "      <td>106</td>\n",
       "      <td>106</td>\n",
       "      <td>bpm</td>\n",
       "    </tr>\n",
       "    <tr>\n",
       "      <th>896</th>\n",
       "      <td>252522</td>\n",
       "      <td>89.270556</td>\n",
       "      <td>Heart Rate</td>\n",
       "      <td>110</td>\n",
       "      <td>110</td>\n",
       "      <td>bpm</td>\n",
       "    </tr>\n",
       "    <tr>\n",
       "      <th>903</th>\n",
       "      <td>252522</td>\n",
       "      <td>90.270556</td>\n",
       "      <td>Heart Rate</td>\n",
       "      <td>103</td>\n",
       "      <td>103</td>\n",
       "      <td>bpm</td>\n",
       "    </tr>\n",
       "    <tr>\n",
       "      <th>908</th>\n",
       "      <td>252522</td>\n",
       "      <td>91.270556</td>\n",
       "      <td>Heart Rate</td>\n",
       "      <td>96</td>\n",
       "      <td>96</td>\n",
       "      <td>bpm</td>\n",
       "    </tr>\n",
       "    <tr>\n",
       "      <th>932</th>\n",
       "      <td>252522</td>\n",
       "      <td>92.270556</td>\n",
       "      <td>Heart Rate</td>\n",
       "      <td>100</td>\n",
       "      <td>100</td>\n",
       "      <td>bpm</td>\n",
       "    </tr>\n",
       "    <tr>\n",
       "      <th>933</th>\n",
       "      <td>252522</td>\n",
       "      <td>93.270556</td>\n",
       "      <td>Heart Rate</td>\n",
       "      <td>106</td>\n",
       "      <td>106</td>\n",
       "      <td>bpm</td>\n",
       "    </tr>\n",
       "    <tr>\n",
       "      <th>940</th>\n",
       "      <td>252522</td>\n",
       "      <td>94.270556</td>\n",
       "      <td>Heart Rate</td>\n",
       "      <td>108</td>\n",
       "      <td>108</td>\n",
       "      <td>bpm</td>\n",
       "    </tr>\n",
       "    <tr>\n",
       "      <th>946</th>\n",
       "      <td>252522</td>\n",
       "      <td>95.270556</td>\n",
       "      <td>Heart Rate</td>\n",
       "      <td>105</td>\n",
       "      <td>105</td>\n",
       "      <td>bpm</td>\n",
       "    </tr>\n",
       "    <tr>\n",
       "      <th>979</th>\n",
       "      <td>252522</td>\n",
       "      <td>96.270556</td>\n",
       "      <td>Heart Rate</td>\n",
       "      <td>131</td>\n",
       "      <td>131</td>\n",
       "      <td>bpm</td>\n",
       "    </tr>\n",
       "    <tr>\n",
       "      <th>985</th>\n",
       "      <td>252522</td>\n",
       "      <td>97.270556</td>\n",
       "      <td>Heart Rate</td>\n",
       "      <td>106</td>\n",
       "      <td>106</td>\n",
       "      <td>bpm</td>\n",
       "    </tr>\n",
       "    <tr>\n",
       "      <th>991</th>\n",
       "      <td>252522</td>\n",
       "      <td>98.270556</td>\n",
       "      <td>Heart Rate</td>\n",
       "      <td>96</td>\n",
       "      <td>96</td>\n",
       "      <td>bpm</td>\n",
       "    </tr>\n",
       "    <tr>\n",
       "      <th>997</th>\n",
       "      <td>252522</td>\n",
       "      <td>99.270556</td>\n",
       "      <td>Heart Rate</td>\n",
       "      <td>97</td>\n",
       "      <td>97</td>\n",
       "      <td>bpm</td>\n",
       "    </tr>\n",
       "    <tr>\n",
       "      <th>1015</th>\n",
       "      <td>252522</td>\n",
       "      <td>100.270556</td>\n",
       "      <td>Heart Rate</td>\n",
       "      <td>96</td>\n",
       "      <td>96</td>\n",
       "      <td>bpm</td>\n",
       "    </tr>\n",
       "    <tr>\n",
       "      <th>1021</th>\n",
       "      <td>252522</td>\n",
       "      <td>101.270556</td>\n",
       "      <td>Heart Rate</td>\n",
       "      <td>96</td>\n",
       "      <td>96</td>\n",
       "      <td>bpm</td>\n",
       "    </tr>\n",
       "    <tr>\n",
       "      <th>1027</th>\n",
       "      <td>252522</td>\n",
       "      <td>102.270556</td>\n",
       "      <td>Heart Rate</td>\n",
       "      <td>95</td>\n",
       "      <td>95</td>\n",
       "      <td>bpm</td>\n",
       "    </tr>\n",
       "    <tr>\n",
       "      <th>1033</th>\n",
       "      <td>252522</td>\n",
       "      <td>103.270556</td>\n",
       "      <td>Heart Rate</td>\n",
       "      <td>94</td>\n",
       "      <td>94</td>\n",
       "      <td>bpm</td>\n",
       "    </tr>\n",
       "    <tr>\n",
       "      <th>1045</th>\n",
       "      <td>252522</td>\n",
       "      <td>104.270556</td>\n",
       "      <td>Heart Rate</td>\n",
       "      <td>95</td>\n",
       "      <td>95</td>\n",
       "      <td>bpm</td>\n",
       "    </tr>\n",
       "    <tr>\n",
       "      <th>1051</th>\n",
       "      <td>252522</td>\n",
       "      <td>105.270556</td>\n",
       "      <td>Heart Rate</td>\n",
       "      <td>98</td>\n",
       "      <td>98</td>\n",
       "      <td>bpm</td>\n",
       "    </tr>\n",
       "    <tr>\n",
       "      <th>1057</th>\n",
       "      <td>252522</td>\n",
       "      <td>106.270556</td>\n",
       "      <td>Heart Rate</td>\n",
       "      <td>86</td>\n",
       "      <td>86</td>\n",
       "      <td>bpm</td>\n",
       "    </tr>\n",
       "    <tr>\n",
       "      <th>1069</th>\n",
       "      <td>252522</td>\n",
       "      <td>107.270556</td>\n",
       "      <td>Heart Rate</td>\n",
       "      <td>83</td>\n",
       "      <td>83</td>\n",
       "      <td>bpm</td>\n",
       "    </tr>\n",
       "    <tr>\n",
       "      <th>1092</th>\n",
       "      <td>252522</td>\n",
       "      <td>108.270556</td>\n",
       "      <td>Heart Rate</td>\n",
       "      <td>87</td>\n",
       "      <td>87</td>\n",
       "      <td>bpm</td>\n",
       "    </tr>\n",
       "    <tr>\n",
       "      <th>1098</th>\n",
       "      <td>252522</td>\n",
       "      <td>110.270556</td>\n",
       "      <td>Heart Rate</td>\n",
       "      <td>88</td>\n",
       "      <td>88</td>\n",
       "      <td>bpm</td>\n",
       "    </tr>\n",
       "    <tr>\n",
       "      <th>1104</th>\n",
       "      <td>252522</td>\n",
       "      <td>111.270556</td>\n",
       "      <td>Heart Rate</td>\n",
       "      <td>85</td>\n",
       "      <td>85</td>\n",
       "      <td>bpm</td>\n",
       "    </tr>\n",
       "    <tr>\n",
       "      <th>1122</th>\n",
       "      <td>252522</td>\n",
       "      <td>112.270556</td>\n",
       "      <td>Heart Rate</td>\n",
       "      <td>90</td>\n",
       "      <td>90</td>\n",
       "      <td>bpm</td>\n",
       "    </tr>\n",
       "    <tr>\n",
       "      <th>1128</th>\n",
       "      <td>252522</td>\n",
       "      <td>113.270556</td>\n",
       "      <td>Heart Rate</td>\n",
       "      <td>89</td>\n",
       "      <td>89</td>\n",
       "      <td>bpm</td>\n",
       "    </tr>\n",
       "    <tr>\n",
       "      <th>1134</th>\n",
       "      <td>252522</td>\n",
       "      <td>114.270556</td>\n",
       "      <td>Heart Rate</td>\n",
       "      <td>83</td>\n",
       "      <td>83</td>\n",
       "      <td>bpm</td>\n",
       "    </tr>\n",
       "    <tr>\n",
       "      <th>1140</th>\n",
       "      <td>252522</td>\n",
       "      <td>115.270556</td>\n",
       "      <td>Heart Rate</td>\n",
       "      <td>80</td>\n",
       "      <td>80</td>\n",
       "      <td>bpm</td>\n",
       "    </tr>\n",
       "  </tbody>\n",
       "</table>\n",
       "<p>116 rows × 6 columns</p>\n",
       "</div>"
      ],
      "text/plain": [
       "      ICUSTAY_ID       HOURS       LABEL VALUE  VALUENUM  UOM\n",
       "0         252522    0.537222  Heart Rate    90        90  bpm\n",
       "6         252522    0.737222  Heart Rate    86        86  bpm\n",
       "24        252522    1.270556  Heart Rate    94        94  bpm\n",
       "30        252522    2.270556  Heart Rate    91        91  bpm\n",
       "36        252522    3.270556  Heart Rate    95        95  bpm\n",
       "58        252522    4.270556  Heart Rate    90        90  bpm\n",
       "67        252522    5.270556  Heart Rate    93        93  bpm\n",
       "77        252522    6.270556  Heart Rate    97        97  bpm\n",
       "88        252522    7.270556  Heart Rate    94        94  bpm\n",
       "95        252522    8.270556  Heart Rate    96        96  bpm\n",
       "101       252522    9.270556  Heart Rate    92        92  bpm\n",
       "107       252522   10.270556  Heart Rate    91        91  bpm\n",
       "131       252522   11.270556  Heart Rate    92        92  bpm\n",
       "144       252522   12.270556  Heart Rate    92        92  bpm\n",
       "150       252522   13.270556  Heart Rate    99        99  bpm\n",
       "156       252522   14.270556  Heart Rate    96        96  bpm\n",
       "177       252522   15.270556  Heart Rate   103       103  bpm\n",
       "183       252522   16.270556  Heart Rate   108       108  bpm\n",
       "189       252522   17.270556  Heart Rate   105       105  bpm\n",
       "196       252522   18.270556  Heart Rate   109       109  bpm\n",
       "213       252522   19.270556  Heart Rate   109       109  bpm\n",
       "225       252522   20.270556  Heart Rate   111       111  bpm\n",
       "231       252522   21.270556  Heart Rate   110       110  bpm\n",
       "237       252522   22.270556  Heart Rate   119       119  bpm\n",
       "243       252522   23.270556  Heart Rate   117       117  bpm\n",
       "269       252522   24.270556  Heart Rate   122       122  bpm\n",
       "275       252522   25.270556  Heart Rate   119       119  bpm\n",
       "281       252522   26.270556  Heart Rate   117       117  bpm\n",
       "287       252522   27.270556  Heart Rate   115       115  bpm\n",
       "308       252522   28.270556  Heart Rate   115       115  bpm\n",
       "...          ...         ...         ...   ...       ...  ...\n",
       "860       252522   85.270556  Heart Rate   105       105  bpm\n",
       "864       252522   86.270556  Heart Rate   110       110  bpm\n",
       "870       252522   87.270556  Heart Rate   108       108  bpm\n",
       "880       252522   88.270556  Heart Rate   106       106  bpm\n",
       "896       252522   89.270556  Heart Rate   110       110  bpm\n",
       "903       252522   90.270556  Heart Rate   103       103  bpm\n",
       "908       252522   91.270556  Heart Rate    96        96  bpm\n",
       "932       252522   92.270556  Heart Rate   100       100  bpm\n",
       "933       252522   93.270556  Heart Rate   106       106  bpm\n",
       "940       252522   94.270556  Heart Rate   108       108  bpm\n",
       "946       252522   95.270556  Heart Rate   105       105  bpm\n",
       "979       252522   96.270556  Heart Rate   131       131  bpm\n",
       "985       252522   97.270556  Heart Rate   106       106  bpm\n",
       "991       252522   98.270556  Heart Rate    96        96  bpm\n",
       "997       252522   99.270556  Heart Rate    97        97  bpm\n",
       "1015      252522  100.270556  Heart Rate    96        96  bpm\n",
       "1021      252522  101.270556  Heart Rate    96        96  bpm\n",
       "1027      252522  102.270556  Heart Rate    95        95  bpm\n",
       "1033      252522  103.270556  Heart Rate    94        94  bpm\n",
       "1045      252522  104.270556  Heart Rate    95        95  bpm\n",
       "1051      252522  105.270556  Heart Rate    98        98  bpm\n",
       "1057      252522  106.270556  Heart Rate    86        86  bpm\n",
       "1069      252522  107.270556  Heart Rate    83        83  bpm\n",
       "1092      252522  108.270556  Heart Rate    87        87  bpm\n",
       "1098      252522  110.270556  Heart Rate    88        88  bpm\n",
       "1104      252522  111.270556  Heart Rate    85        85  bpm\n",
       "1122      252522  112.270556  Heart Rate    90        90  bpm\n",
       "1128      252522  113.270556  Heart Rate    89        89  bpm\n",
       "1134      252522  114.270556  Heart Rate    83        83  bpm\n",
       "1140      252522  115.270556  Heart Rate    80        80  bpm\n",
       "\n",
       "[116 rows x 6 columns]"
      ]
     },
     "execution_count": 11,
     "metadata": {},
     "output_type": "execute_result"
    }
   ],
   "source": [
    "# Select just the heart rate rows using an index\n",
    "ce[ce.LABEL=='Heart Rate']"
   ]
  },
  {
   "cell_type": "markdown",
   "metadata": {},
   "source": [
    "### Plot 1: How did the patients heart rate change over time?"
   ]
  },
  {
   "cell_type": "markdown",
   "metadata": {},
   "source": [
    "- Using the methods described above to select our data of interest, we can create our x and y axis values to create a time series plot of heart rate."
   ]
  },
  {
   "cell_type": "code",
   "execution_count": 12,
   "metadata": {
    "collapsed": false
   },
   "outputs": [
    {
     "name": "stdout",
     "output_type": "stream",
     "text": [
      "Int64Index([   0,    6,   24,   30,   36,   58,   67,   77,   88,   95, \n",
      "            ...\n",
      "            1051, 1057, 1069, 1092, 1098, 1104, 1122, 1128, 1134, 1140],\n",
      "           dtype='int64', length=116)\n"
     ]
    }
   ],
   "source": [
    "# Which time stamps have a corresponding heart rate measurement?\n",
    "print ce.index[ce.LABEL=='Heart Rate']"
   ]
  },
  {
   "cell_type": "code",
   "execution_count": 13,
   "metadata": {
    "collapsed": false,
    "scrolled": true
   },
   "outputs": [
    {
     "data": {
      "text/plain": [
       "<matplotlib.text.Text at 0x1120930d0>"
      ]
     },
     "execution_count": 13,
     "metadata": {},
     "output_type": "execute_result"
    },
    {
     "data": {
      "image/png": "[encoded data removed]",
      "text/plain": [
       "<matplotlib.figure.Figure at 0x112009490>"
      ]
     },
     "metadata": {},
     "output_type": "display_data"
    }
   ],
   "source": [
    "# Set x equal to the times\n",
    "x_hr = ce.HOURS[ce.LABEL=='Heart Rate']\n",
    "\n",
    "# Set y equal to the heart rates\n",
    "y_hr = ce.VALUENUM[ce.LABEL=='Heart Rate']\n",
    "\n",
    "# Plot time against heart rate\n",
    "plt.figure(figsize=(14, 6))\n",
    "plt.plot(x_hr,y_hr)\n",
    "\n",
    "\n",
    "plt.xlabel('Time',fontsize=16)\n",
    "plt.ylabel('Heart rate',fontsize=16)\n",
    "plt.title('Heart rate over time from admission to the intensive care unit')"
   ]
  },
  {
   "cell_type": "markdown",
   "metadata": {},
   "source": [
    "### Task 1\n",
    "\n",
    "* What is happening to this patient's heart rate?\n",
    "* Plot respiratory rate over time for the patient.\n",
    "* Is there anything unusual about the patient's respiratory rate?\n"
   ]
  },
  {
   "cell_type": "code",
   "execution_count": null,
   "metadata": {
    "collapsed": true
   },
   "outputs": [],
   "source": [
    "# Exercise 1 here\n",
    "\n"
   ]
  },
  {
   "cell_type": "markdown",
   "metadata": {},
   "source": [
    "### Plot 2: Did the patient's vital signs breach any alarm thresholds?"
   ]
  },
  {
   "cell_type": "markdown",
   "metadata": {},
   "source": [
    "- Alarm systems in the intensive care unit are commonly based on high and low thresholds defined by the carer.\n",
    "- False alarms are often a problem and so thresholds may be set arbitrarily to reduce alarms.\n",
    "- As a result, alarm settings carry limited information."
   ]
  },
  {
   "cell_type": "code",
   "execution_count": 14,
   "metadata": {
    "collapsed": false
   },
   "outputs": [
    {
     "data": {
      "text/plain": [
       "(0, 55)"
      ]
     },
     "execution_count": 14,
     "metadata": {},
     "output_type": "execute_result"
    },
    {
     "data": {
      "image/png": "[encoded data removed]",
      "text/plain": [
       "<matplotlib.figure.Figure at 0x1122eca90>"
      ]
     },
     "metadata": {},
     "output_type": "display_data"
    }
   ],
   "source": [
    "plt.figure(figsize=(14, 6))\n",
    "\n",
    "plt.plot(ce.HOURS[ce.LABEL=='Respiratory Rate'], \n",
    "         ce.VALUENUM[ce.LABEL=='Respiratory Rate'],\n",
    "         'k+', markersize=10, linewidth=4)\n",
    "\n",
    "plt.plot(ce.HOURS[ce.LABEL=='Resp Alarm - High'], \n",
    "         ce.VALUENUM[ce.LABEL=='Resp Alarm - High'],\n",
    "         'm--')\n",
    "\n",
    "plt.plot(ce.HOURS[ce.LABEL=='Resp Alarm - Low'], \n",
    "         ce.VALUENUM[ce.LABEL=='Resp Alarm - Low'],\n",
    "         'm--')\n",
    "\n",
    "plt.xlabel('Time',fontsize=16)\n",
    "plt.ylabel('Respiratory rate',fontsize=16)\n",
    "plt.title('Respiratory rate over time from admission, with upper and lower alarm thresholds')\n",
    "plt.ylim(0,55)\n"
   ]
  },
  {
   "cell_type": "markdown",
   "metadata": {},
   "source": [
    "### Task 2\n",
    "\n",
    "- Based on the data, does it look like the alarms would have triggered for this patient?\n"
   ]
  },
  {
   "cell_type": "markdown",
   "metadata": {},
   "source": [
    "### Plot 3: What is patient's level of consciousness?"
   ]
  },
  {
   "cell_type": "markdown",
   "metadata": {},
   "source": [
    "- Glasgow Coma Scale (GCS) is a measure of consciousness.\n",
    "- It is commonly used for monitoring patients in the intensive care unit. \n",
    "- It consists of three components: eye response; verbal response; motor response."
   ]
  },
  {
   "cell_type": "code",
   "execution_count": 15,
   "metadata": {
    "collapsed": false
   },
   "outputs": [
    {
     "data": {
      "text/html": [
       "<div>\n",
       "<table border=\"1\" class=\"dataframe\">\n",
       "  <thead>\n",
       "    <tr style=\"text-align: right;\">\n",
       "      <th></th>\n",
       "      <th>ICUSTAY_ID</th>\n",
       "      <th>HOURS</th>\n",
       "      <th>LABEL</th>\n",
       "      <th>VALUE</th>\n",
       "      <th>VALUENUM</th>\n",
       "      <th>UOM</th>\n",
       "    </tr>\n",
       "  </thead>\n",
       "  <tbody>\n",
       "    <tr>\n",
       "      <th>20</th>\n",
       "      <td>252522</td>\n",
       "      <td>0.770556</td>\n",
       "      <td>GCS - Eye Opening</td>\n",
       "      <td>Spontaneously</td>\n",
       "      <td>4</td>\n",
       "      <td></td>\n",
       "    </tr>\n",
       "    <tr>\n",
       "      <th>55</th>\n",
       "      <td>252522</td>\n",
       "      <td>3.587222</td>\n",
       "      <td>GCS - Eye Opening</td>\n",
       "      <td>Spontaneously</td>\n",
       "      <td>4</td>\n",
       "      <td></td>\n",
       "    </tr>\n",
       "    <tr>\n",
       "      <th>92</th>\n",
       "      <td>252522</td>\n",
       "      <td>7.670556</td>\n",
       "      <td>GCS - Eye Opening</td>\n",
       "      <td>To Speech</td>\n",
       "      <td>3</td>\n",
       "      <td></td>\n",
       "    </tr>\n",
       "    <tr>\n",
       "      <th>142</th>\n",
       "      <td>252522</td>\n",
       "      <td>11.570556</td>\n",
       "      <td>GCS - Eye Opening</td>\n",
       "      <td>To Speech</td>\n",
       "      <td>3</td>\n",
       "      <td></td>\n",
       "    </tr>\n",
       "    <tr>\n",
       "      <th>180</th>\n",
       "      <td>252522</td>\n",
       "      <td>15.270556</td>\n",
       "      <td>GCS - Eye Opening</td>\n",
       "      <td>Spontaneously</td>\n",
       "      <td>4</td>\n",
       "      <td></td>\n",
       "    </tr>\n",
       "  </tbody>\n",
       "</table>\n",
       "</div>"
      ],
      "text/plain": [
       "     ICUSTAY_ID      HOURS              LABEL          VALUE  VALUENUM UOM\n",
       "20       252522   0.770556  GCS - Eye Opening  Spontaneously         4    \n",
       "55       252522   3.587222  GCS - Eye Opening  Spontaneously         4    \n",
       "92       252522   7.670556  GCS - Eye Opening      To Speech         3    \n",
       "142      252522  11.570556  GCS - Eye Opening      To Speech         3    \n",
       "180      252522  15.270556  GCS - Eye Opening  Spontaneously         4    "
      ]
     },
     "execution_count": 15,
     "metadata": {},
     "output_type": "execute_result"
    }
   ],
   "source": [
    "# Display the first few rows of the GCS eye response data\n",
    "ce[ce.LABEL=='GCS - Eye Opening'].head()"
   ]
  },
  {
   "cell_type": "code",
   "execution_count": 16,
   "metadata": {
    "collapsed": false
   },
   "outputs": [
    {
     "data": {
      "text/plain": [
       "(10, 165)"
      ]
     },
     "execution_count": 16,
     "metadata": {},
     "output_type": "execute_result"
    },
    {
     "data": {
      "image/png": "[encoded data removed]",
      "text/plain": [
       "<matplotlib.figure.Figure at 0x112522410>"
      ]
     },
     "metadata": {},
     "output_type": "display_data"
    }
   ],
   "source": [
    "# Prepare the size of the figure\n",
    "plt.figure(figsize=(18, 10))\n",
    "\n",
    "# Set x equal to the times\n",
    "x_hr = ce.HOURS[ce.LABEL=='Heart Rate']\n",
    "\n",
    "# Set y equal to the heart rates\n",
    "y_hr = ce.VALUENUM[ce.LABEL=='Heart Rate']\n",
    "\n",
    "\n",
    "plt.plot(x_hr,y_hr)\n",
    "\n",
    "plt.plot(ce.HOURS[ce.LABEL=='Respiratory Rate'], \n",
    "         ce.VALUENUM[ce.LABEL=='Respiratory Rate'],\n",
    "         'k', markersize=6)\n",
    "\n",
    "# Add a text label to the y-axis\n",
    "plt.text(-20,155,'GCS - Eye Opening',fontsize=14)\n",
    "plt.text(-20,150,'GCS - Motor Response',fontsize=14)\n",
    "plt.text(-20,145,'GCS - Verbal Response',fontsize=14)   \n",
    "\n",
    "# Iterate over list of GCS labels, plotting around 1 in 10 to avoid overlap\n",
    "for i, txt in enumerate(ce.VALUE[ce.LABEL=='GCS - Eye Opening'].values):\n",
    "    if np.mod(i,6)==0 and i < 65:\n",
    "        plt.annotate(txt, (ce.HOURS[ce.LABEL=='GCS - Eye Opening'].values[i],155),fontsize=14)\n",
    "        \n",
    "for i, txt in enumerate(ce.VALUE[ce.LABEL=='GCS - Motor Response'].values):\n",
    "    if np.mod(i,6)==0 and i < 65:\n",
    "        plt.annotate(txt, (ce.HOURS[ce.LABEL=='GCS - Motor Response'].values[i],150),fontsize=14)\n",
    "\n",
    "for i, txt in enumerate(ce.VALUE[ce.LABEL=='GCS - Verbal Response'].values):\n",
    "    if np.mod(i,6)==0 and i < 65:\n",
    "        plt.annotate(txt, (ce.HOURS[ce.LABEL=='GCS - Verbal Response'].values[i],145),fontsize=14)\n",
    "\n",
    "plt.title('Vital signs and Glasgow Coma Scale over time from admission',fontsize=16)\n",
    "\n",
    "plt.xlabel('Time (hours)',fontsize=16)\n",
    "plt.ylabel('Heart rate or GCS',fontsize=16)\n",
    "plt.ylim(10,165)\n"
   ]
  },
  {
   "cell_type": "markdown",
   "metadata": {},
   "source": [
    "### Task 3\n",
    "\n",
    "- How is the patient's consciousness changing over time?"
   ]
  },
  {
   "cell_type": "markdown",
   "metadata": {},
   "source": [
    "# Stop here..."
   ]
  },
  {
   "cell_type": "markdown",
   "metadata": {},
   "source": [
    "### Plot 2: What interventions might this patient be receiving?"
   ]
  },
  {
   "cell_type": "markdown",
   "metadata": {},
   "source": [
    "- Using Pandas 'read_csv function' again, we'll now load the ioevents data"
   ]
  },
  {
   "cell_type": "code",
   "execution_count": 17,
   "metadata": {
    "collapsed": false
   },
   "outputs": [],
   "source": [
    "# OPTION 1: load outputs from the patient\n",
    "query = \"\"\"\n",
    "select de.icustay_id\n",
    "  , (strftime('%s',de.charttime)-strftime('%s',ie.intime))/60.0/60.0 as HOURS\n",
    "  , di.label\n",
    "  , de.value\n",
    "  , de.valueuom\n",
    "from outputevents de \n",
    "inner join icustays ie\n",
    "  on de.icustay_id = ie.icustay_id\n",
    "inner join d_items di\n",
    "  on de.itemid = di.itemid\n",
    "where de.subject_id = 40080\n",
    "order by charttime;\n",
    "\"\"\"\n",
    "\n",
    "oe = pd.read_sql_query(query,conn)"
   ]
  },
  {
   "cell_type": "code",
   "execution_count": 18,
   "metadata": {
    "collapsed": false
   },
   "outputs": [
    {
     "data": {
      "text/html": [
       "<div>\n",
       "<table border=\"1\" class=\"dataframe\">\n",
       "  <thead>\n",
       "    <tr style=\"text-align: right;\">\n",
       "      <th></th>\n",
       "      <th>ICUSTAY_ID</th>\n",
       "      <th>HOURS</th>\n",
       "      <th>LABEL</th>\n",
       "      <th>VALUE</th>\n",
       "      <th>VALUEUOM</th>\n",
       "    </tr>\n",
       "  </thead>\n",
       "  <tbody>\n",
       "    <tr>\n",
       "      <th>0</th>\n",
       "      <td>252522</td>\n",
       "      <td>0.753889</td>\n",
       "      <td>Pre-Admission</td>\n",
       "      <td>60</td>\n",
       "      <td>mL</td>\n",
       "    </tr>\n",
       "    <tr>\n",
       "      <th>1</th>\n",
       "      <td>252522</td>\n",
       "      <td>3.570556</td>\n",
       "      <td>Foley</td>\n",
       "      <td>80</td>\n",
       "      <td>mL</td>\n",
       "    </tr>\n",
       "    <tr>\n",
       "      <th>2</th>\n",
       "      <td>252522</td>\n",
       "      <td>4.270556</td>\n",
       "      <td>Foley</td>\n",
       "      <td>60</td>\n",
       "      <td>mL</td>\n",
       "    </tr>\n",
       "    <tr>\n",
       "      <th>3</th>\n",
       "      <td>252522</td>\n",
       "      <td>5.270556</td>\n",
       "      <td>Foley</td>\n",
       "      <td>60</td>\n",
       "      <td>mL</td>\n",
       "    </tr>\n",
       "    <tr>\n",
       "      <th>4</th>\n",
       "      <td>252522</td>\n",
       "      <td>6.270556</td>\n",
       "      <td>Foley</td>\n",
       "      <td>60</td>\n",
       "      <td>mL</td>\n",
       "    </tr>\n",
       "  </tbody>\n",
       "</table>\n",
       "</div>"
      ],
      "text/plain": [
       "   ICUSTAY_ID     HOURS          LABEL  VALUE VALUEUOM\n",
       "0      252522  0.753889  Pre-Admission     60       mL\n",
       "1      252522  3.570556          Foley     80       mL\n",
       "2      252522  4.270556          Foley     60       mL\n",
       "3      252522  5.270556          Foley     60       mL\n",
       "4      252522  6.270556          Foley     60       mL"
      ]
     },
     "execution_count": 18,
     "metadata": {},
     "output_type": "execute_result"
    }
   ],
   "source": [
    "oe.head()"
   ]
  },
  {
   "cell_type": "code",
   "execution_count": 19,
   "metadata": {
    "collapsed": false
   },
   "outputs": [
    {
     "data": {
      "text/plain": [
       "<matplotlib.legend.Legend at 0x112514250>"
      ]
     },
     "execution_count": 19,
     "metadata": {},
     "output_type": "execute_result"
    },
    {
     "data": {
      "text/plain": [
       "<matplotlib.figure.Figure at 0x1124ced90>"
      ]
     },
     "metadata": {},
     "output_type": "display_data"
    },
    {
     "data": {
      "image/png": "[encoded data removed]",
      "text/plain": [
       "<matplotlib.figure.Figure at 0x1124ce790>"
      ]
     },
     "metadata": {},
     "output_type": "display_data"
    }
   ],
   "source": [
    "plt.figure(figsize=(14, 10))\n",
    "\n",
    "# plt.plot(le.index[le.LABEL=='HEMATOCRIT'], \n",
    "#          le.VALUENUM[le.LABEL=='HEMATOCRIT'], \n",
    "#          'go', markersize=6, label='Haematocrit')\n",
    "\n",
    "# plt.plot(le.index[le.LABEL=='HEMOGLOBIN'], \n",
    "#          le.VALUENUM[le.LABEL=='HEMOGLOBIN'], \n",
    "#          'bv', markersize=8, label='Hemoglobin')\n",
    "\n",
    "plt.figure(figsize=(14, 6))\n",
    "plt.title('Fluid output over time')\n",
    "\n",
    "plt.plot(oe.HOURS, \n",
    "         oe.VALUE.cumsum()/1000, \n",
    "         'ro', markersize=8, label='Output volume, L')\n",
    "\n",
    "# plt.vlines(ioe.index[ioe.LABEL=='Packed Red Blood Cells'], [0,0],\n",
    "#          ioe.VOLUME[ioe.LABEL=='Packed Red Blood Cells'], \n",
    "#            linestyles='dashed', colors='r')\n",
    "plt.xlim(0,72)\n",
    "plt.ylim(0,10)\n",
    "plt.legend()"
   ]
  },
  {
   "cell_type": "code",
   "execution_count": 20,
   "metadata": {
    "collapsed": false
   },
   "outputs": [],
   "source": [
    "# OPTION 1: load inputs given to the patient (usually intravenously) using the database connection\n",
    "query = \"\"\"\n",
    "select de.icustay_id\n",
    "  , (strftime('%s',de.starttime)-strftime('%s',ie.intime))/60.0/60.0 as HOURS_START\n",
    "  , (strftime('%s',de.endtime)-strftime('%s',ie.intime))/60.0/60.0 as HOURS_END\n",
    "  , de.linkorderid\n",
    "  , di.label\n",
    "  , de.amount\n",
    "  , de.amountuom\n",
    "  , de.rate\n",
    "  , de.rateuom\n",
    "from inputevents_mv de \n",
    "inner join icustays ie\n",
    "  on de.icustay_id = ie.icustay_id\n",
    "inner join d_items di\n",
    "  on de.itemid = di.itemid\n",
    "where de.subject_id = 40080\n",
    "order by endtime;\n",
    "\"\"\"\n",
    "\n",
    "ie = pd.read_sql_query(query,conn)\n",
    "\n",
    "# # OPTION 2: load ioevents using the CSV file with endtime as the index\n",
    "# ioe = pd.read_csv('inputevents.csv'\n",
    "#                   ,header=None\n",
    "#                   ,names=['subject_id','itemid','label','starttime','endtime','amount','amountuom','rate','rateuom']\n",
    "#                   ,parse_dates=True)"
   ]
  },
  {
   "cell_type": "code",
   "execution_count": 21,
   "metadata": {
    "collapsed": false
   },
   "outputs": [
    {
     "data": {
      "text/html": [
       "<div>\n",
       "<table border=\"1\" class=\"dataframe\">\n",
       "  <thead>\n",
       "    <tr style=\"text-align: right;\">\n",
       "      <th></th>\n",
       "      <th>ICUSTAY_ID</th>\n",
       "      <th>HOURS_START</th>\n",
       "      <th>HOURS_END</th>\n",
       "      <th>LINKORDERID</th>\n",
       "      <th>LABEL</th>\n",
       "      <th>AMOUNT</th>\n",
       "      <th>AMOUNTUOM</th>\n",
       "      <th>RATE</th>\n",
       "      <th>RATEUOM</th>\n",
       "    </tr>\n",
       "  </thead>\n",
       "  <tbody>\n",
       "    <tr>\n",
       "      <th>0</th>\n",
       "      <td>252522</td>\n",
       "      <td>3.270556</td>\n",
       "      <td>3.287222</td>\n",
       "      <td>5635057</td>\n",
       "      <td>Gastric Meds</td>\n",
       "      <td>30.000000</td>\n",
       "      <td>mL</td>\n",
       "      <td>NaN</td>\n",
       "      <td></td>\n",
       "    </tr>\n",
       "    <tr>\n",
       "      <th>1</th>\n",
       "      <td>252522</td>\n",
       "      <td>3.270556</td>\n",
       "      <td>3.287222</td>\n",
       "      <td>279061</td>\n",
       "      <td>Lansoprazole (Prevacid)</td>\n",
       "      <td>1.000000</td>\n",
       "      <td>dose</td>\n",
       "      <td>NaN</td>\n",
       "      <td></td>\n",
       "    </tr>\n",
       "    <tr>\n",
       "      <th>2</th>\n",
       "      <td>252522</td>\n",
       "      <td>0.753889</td>\n",
       "      <td>5.253889</td>\n",
       "      <td>4337240</td>\n",
       "      <td>NaCl 0.9%</td>\n",
       "      <td>45.000001</td>\n",
       "      <td>mL</td>\n",
       "      <td>10</td>\n",
       "      <td>mL/hour</td>\n",
       "    </tr>\n",
       "    <tr>\n",
       "      <th>3</th>\n",
       "      <td>252522</td>\n",
       "      <td>7.270556</td>\n",
       "      <td>7.287222</td>\n",
       "      <td>775255</td>\n",
       "      <td>Free Water</td>\n",
       "      <td>300.000000</td>\n",
       "      <td>mL</td>\n",
       "      <td>NaN</td>\n",
       "      <td></td>\n",
       "    </tr>\n",
       "    <tr>\n",
       "      <th>4</th>\n",
       "      <td>252522</td>\n",
       "      <td>3.770556</td>\n",
       "      <td>9.770556</td>\n",
       "      <td>8221764</td>\n",
       "      <td>Nutren 2.0 (Full)</td>\n",
       "      <td>60.000001</td>\n",
       "      <td>mL</td>\n",
       "      <td>10</td>\n",
       "      <td>mL/hour</td>\n",
       "    </tr>\n",
       "  </tbody>\n",
       "</table>\n",
       "</div>"
      ],
      "text/plain": [
       "   ICUSTAY_ID  HOURS_START  HOURS_END  LINKORDERID                    LABEL  \\\n",
       "0      252522     3.270556   3.287222      5635057             Gastric Meds   \n",
       "1      252522     3.270556   3.287222       279061  Lansoprazole (Prevacid)   \n",
       "2      252522     0.753889   5.253889      4337240                NaCl 0.9%   \n",
       "3      252522     7.270556   7.287222       775255               Free Water   \n",
       "4      252522     3.770556   9.770556      8221764        Nutren 2.0 (Full)   \n",
       "\n",
       "       AMOUNT AMOUNTUOM  RATE  RATEUOM  \n",
       "0   30.000000        mL   NaN           \n",
       "1    1.000000      dose   NaN           \n",
       "2   45.000001        mL    10  mL/hour  \n",
       "3  300.000000        mL   NaN           \n",
       "4   60.000001        mL    10  mL/hour  "
      ]
     },
     "execution_count": 21,
     "metadata": {},
     "output_type": "execute_result"
    }
   ],
   "source": [
    "ie.head()"
   ]
  },
  {
   "cell_type": "markdown",
   "metadata": {},
   "source": [
    "Note that the column headers are different: we have \"HOURS_START\" and \"HOURS_END\". This is because inputs are administered over a fixed period of time."
   ]
  },
  {
   "cell_type": "code",
   "execution_count": 22,
   "metadata": {
    "collapsed": false
   },
   "outputs": [
    {
     "data": {
      "text/plain": [
       "array([u'Gastric Meds', u'Lansoprazole (Prevacid)', u'NaCl 0.9%',\n",
       "       u'Free Water', u'Nutren 2.0 (Full)', u'Furosemide (Lasix)',\n",
       "       u'Dextrose 5%', u'Norepinephrine', u'Insulin - Humalog',\n",
       "       u'Metoprolol', u'Metronidazole', u'PO Intake', u'GT Flush',\n",
       "       u'Morphine Sulfate'], dtype=object)"
      ]
     },
     "execution_count": 22,
     "metadata": {},
     "output_type": "execute_result"
    }
   ],
   "source": [
    "ie['LABEL'].unique()"
   ]
  },
  {
   "cell_type": "code",
   "execution_count": 25,
   "metadata": {
    "collapsed": false
   },
   "outputs": [
    {
     "data": {
      "text/plain": [
       "<matplotlib.legend.Legend at 0x1120091d0>"
      ]
     },
     "execution_count": 25,
     "metadata": {},
     "output_type": "execute_result"
    },
    {
     "data": {
      "image/png": "[encoded data removed]",
      "text/plain": [
       "<matplotlib.figure.Figure at 0x1122f8190>"
      ]
     },
     "metadata": {},
     "output_type": "display_data"
    }
   ],
   "source": [
    "plt.figure(figsize=(14, 10))\n",
    "\n",
    "# Plot the cumulative input against the cumulative output\n",
    "plt.plot(ie.HOURS_END[ie.AMOUNTUOM=='mL'], \n",
    "         ie.AMOUNT[ie.AMOUNTUOM=='mL'].cumsum()/1000, \n",
    "         'go', markersize=8, label='Intake volume, L')\n",
    "\n",
    "plt.plot(oe.HOURS, \n",
    "         oe.VALUE.cumsum()/1000, \n",
    "         'ro', markersize=8, label='Output volume, L')\n",
    "\n",
    "plt.title('Fluid balance over time',fontsize=16)\n",
    "plt.xlabel('Hours',fontsize=16)\n",
    "plt.ylabel('Volume (litres)',fontsize=16)\n",
    "# plt.ylim(0,38)\n",
    "plt.legend()"
   ]
  },
  {
   "cell_type": "markdown",
   "metadata": {
    "collapsed": true
   },
   "source": [
    "We can plot some specific treatments against this curve"
   ]
  },
  {
   "cell_type": "code",
   "execution_count": 53,
   "metadata": {
    "collapsed": false
   },
   "outputs": [
    {
     "data": {
      "text/plain": [
       "Index([u'ICUSTAY_ID', u'HOURS_START', u'HOURS_END', u'LINKORDERID', u'LABEL',\n",
       "       u'AMOUNT', u'AMOUNTUOM', u'RATE', u'RATEUOM'],\n",
       "      dtype='object')"
      ]
     },
     "execution_count": 53,
     "metadata": {},
     "output_type": "execute_result"
    }
   ],
   "source": [
    "ie[['HOURS_START','HOURS_END']]"
   ]
  },
  {
   "cell_type": "code",
   "execution_count": 83,
   "metadata": {
    "collapsed": false
   },
   "outputs": [
    {
     "data": {
      "text/plain": [
       "5"
      ]
     },
     "execution_count": 83,
     "metadata": {},
     "output_type": "execute_result"
    }
   ],
   "source": [
    "for i, idx in enumerate(ie.index[ie.LABEL=='Furosemide (Lasix)']):\n",
    "    plt.plt([ie.HOURS_START[ie.LABEL=='Furosemide (Lasix)'][idx],\n",
    "             ie.HOURS_END[ie.LABEL=='Furosemide (Lasix)'][idx]],\n",
    "            ie.AMOUNT[ie.LABEL=='Furosemide (Lasix)'][idx])"
   ]
  },
  {
   "cell_type": "code",
   "execution_count": 77,
   "metadata": {
    "collapsed": false
   },
   "outputs": [
    {
     "ename": "AttributeError",
     "evalue": "'module' object has no attribute 'plt'",
     "output_type": "error",
     "traceback": [
      "\u001b[0;31m---------------------------------------------------------------------------\u001b[0m",
      "\u001b[0;31mAttributeError\u001b[0m                            Traceback (most recent call last)",
      "\u001b[0;32m<ipython-input-77-811162b78796>\u001b[0m in \u001b[0;36m<module>\u001b[0;34m()\u001b[0m\n\u001b[1;32m      3\u001b[0m \u001b[0;34m\u001b[0m\u001b[0m\n\u001b[1;32m      4\u001b[0m \u001b[0;32mfor\u001b[0m \u001b[0mi\u001b[0m\u001b[0;34m,\u001b[0m \u001b[0midx\u001b[0m \u001b[0;32min\u001b[0m \u001b[0menumerate\u001b[0m\u001b[0;34m(\u001b[0m\u001b[0mie\u001b[0m\u001b[0;34m.\u001b[0m\u001b[0mindex\u001b[0m\u001b[0;34m[\u001b[0m\u001b[0mie\u001b[0m\u001b[0;34m.\u001b[0m\u001b[0mLABEL\u001b[0m\u001b[0;34m==\u001b[0m\u001b[0;34m'Furosemide (Lasix)'\u001b[0m\u001b[0;34m]\u001b[0m\u001b[0;34m)\u001b[0m\u001b[0;34m:\u001b[0m\u001b[0;34m\u001b[0m\u001b[0m\n\u001b[0;32m----> 5\u001b[0;31m     plt.plt([ie.HOURS_START[ie.LABEL=='Furosemide (Lasix)'][idx],\n\u001b[0m\u001b[1;32m      6\u001b[0m              ie.HOURS_END[ie.LABEL=='Furosemide (Lasix)'][idx]],\n\u001b[1;32m      7\u001b[0m             ie.AMOUNT[ie.LABEL=='Furosemide (Lasix)'][idx])\n",
      "\u001b[0;31mAttributeError\u001b[0m: 'module' object has no attribute 'plt'"
     ]
    }
   ],
   "source": [
    "# for i, idx in enumerate(ie.index[ie.LABEL=='Furosemide (Lasix)']):\n",
    "#     print i, idx, ie.HOURS_START[idx] , ie.HOURS_END[idx]\n",
    "\n",
    "for i, idx in enumerate(ie.index[ie.LABEL=='Furosemide (Lasix)']):\n",
    "    plt.plt([ie.HOURS_START[ie.LABEL=='Furosemide (Lasix)'][idx],\n",
    "             ie.HOURS_END[ie.LABEL=='Furosemide (Lasix)'][idx]],\n",
    "            ie.AMOUNT[ie.LABEL=='Furosemide (Lasix)'][idx])\n",
    "\n",
    "# plt.plot(ie.HOURS_START[ie.LABEL=='Furosemide (Lasix)'],\n",
    "#      ie.HOURS_END[ie.LABEL=='Furosemide (Lasix)'],\n",
    "#      ie.AMOUNT[ie.LABEL=='Furosemide (Lasix)'])"
   ]
  },
  {
   "cell_type": "code",
   "execution_count": 28,
   "metadata": {
    "collapsed": false
   },
   "outputs": [
    {
     "data": {
      "text/plain": [
       "<matplotlib.legend.Legend at 0x112f0bf90>"
      ]
     },
     "execution_count": 28,
     "metadata": {},
     "output_type": "execute_result"
    },
    {
     "data": {
      "image/png": "[encoded data removed]",
      "text/plain": [
       "<matplotlib.figure.Figure at 0x112acd750>"
      ]
     },
     "metadata": {},
     "output_type": "display_data"
    }
   ],
   "source": [
    "plt.figure(figsize=(14, 10))\n",
    "\n",
    "# Plot the cumulative input against the cumulative output\n",
    "plt.plot(ie.HOURS_END[ie.AMOUNTUOM=='mL'], \n",
    "         ie.AMOUNT[ie.AMOUNTUOM=='mL'].cumsum()/1000, \n",
    "         'go', markersize=8, label='Intake volume, L')\n",
    "\n",
    "plt.plot(oe.HOURS, \n",
    "         oe.VALUE.cumsum()/1000, \n",
    "         'ro', markersize=8, label='Output volume, L')\n",
    "\n",
    "# Plot when a patient is given LASIX\n",
    "plt.plot(oe.HOURS, \n",
    "         oe.VALUE.cumsum()/1000, \n",
    "         'ro', markersize=8, label='Output volume, L')\n",
    "\n",
    "for i, idx in enumerate(ie.index[ie.LABEL=='Furosemide (Lasix)']):\n",
    "    plt.plot(ie.HOURS_START[idx] , ie.HOURS_END[idx])\n",
    "    ce.HOURS(i)\n",
    "\n",
    "#for i, txt in enumerate(ce.VALUE[ce.LABEL=='GCS - Motor Response'].values):\n",
    "#    if np.mod(i,6)==0 and i < 65:\n",
    "#        plt.annotate(txt, (ce.HOURS[ce.LABEL=='GCS - Motor Response'].values[i],150),fontsize=14)\n",
    "\n",
    "        \n",
    "plt.title('Fluid balance over time',fontsize=16)\n",
    "\n",
    "plt.xlabel('Hours',fontsize=16)\n",
    "plt.xlim(0,120)\n",
    "\n",
    "plt.ylabel('Volume (litres)',fontsize=16)\n",
    "plt.ylim(0,10)\n",
    "plt.legend()"
   ]
  },
  {
   "cell_type": "code",
   "execution_count": 29,
   "metadata": {
    "collapsed": false
   },
   "outputs": [
    {
     "data": {
      "text/plain": [
       "Int64Index([], dtype='int64')"
      ]
     },
     "execution_count": 29,
     "metadata": {},
     "output_type": "execute_result"
    }
   ],
   "source": []
  },
  {
   "cell_type": "markdown",
   "metadata": {},
   "source": [
    "### Exercise 2\n",
    "\n",
    "* Plot the alarms for the mean arterial pressure ('```Arterial Blood Pressure mean```')\n",
    "* HINT: you can use ```ce.LABEL.unique()``` to find a list of variable names\n",
    "* Were the alarm thresholds breached?"
   ]
  },
  {
   "cell_type": "code",
   "execution_count": null,
   "metadata": {
    "collapsed": false
   },
   "outputs": [],
   "source": [
    "# Exercise 2 here\n",
    "\n",
    "\n"
   ]
  },
  {
   "cell_type": "markdown",
   "metadata": {},
   "source": [
    "### Plot 3: Were the patient's other vital signs stable?"
   ]
  },
  {
   "cell_type": "code",
   "execution_count": null,
   "metadata": {
    "collapsed": false
   },
   "outputs": [],
   "source": [
    "plt.figure(figsize=(14, 10))\n",
    "\n",
    "plt.plot(ce.index[ce.LABEL=='Heart Rate'], \n",
    "         ce.VALUENUM[ce.LABEL=='Heart Rate'],\n",
    "         'rx', markersize=4, label='HR')\n",
    "\n",
    "plt.plot(ce.index[ce.LABEL=='O2 saturation pulseoxymetry'], \n",
    "         ce.VALUENUM[ce.LABEL=='O2 saturation pulseoxymetry'], \n",
    "         'g.', markersize=4, label='O2')\n",
    "\n",
    "plt.plot(ce.index[ce.LABEL=='Arterial Blood Pressure mean'], \n",
    "         ce.VALUENUM[ce.LABEL=='Arterial Blood Pressure mean'], \n",
    "         'bv', markersize=4, label='MAP')\n",
    "\n",
    "plt.plot(ce.index[ce.LABEL=='Respiratory Rate'], \n",
    "         ce.VALUENUM[ce.LABEL=='Respiratory Rate'], \n",
    "         'k+', markersize=4, label='RR')\n",
    "\n",
    "plt.title('Vital signs over time from admission')\n",
    "plt.ylim(0,130)\n",
    "plt.legend()"
   ]
  },
  {
   "cell_type": "markdown",
   "metadata": {},
   "source": []
  },
  {
   "cell_type": "markdown",
   "metadata": {},
   "source": []
  },
  {
   "cell_type": "code",
   "execution_count": null,
   "metadata": {
    "collapsed": true
   },
   "outputs": [],
   "source": []
  },
  {
   "cell_type": "code",
   "execution_count": null,
   "metadata": {
    "collapsed": false
   },
   "outputs": [],
   "source": [
    "# # GCS - Eye Opening\n",
    "# # GCS - Motor Response\n",
    "# # GCS - Verbal Response\n",
    "\n",
    "plt.figure(figsize=(14, 6))\n",
    "\n",
    "plt.text(-50,55,'GCS - Eye Opening')\n",
    "for i, txt in enumerate(ce.VALUE[ce.LABEL=='GCS - Eye Opening'].values):\n",
    "    if np.mod(i,5)==0 and i < 50:\n",
    "        plt.annotate(txt, (ce.index[ce.LABEL=='GCS - Eye Opening'].values[i],55))\n",
    "\n",
    "plt.text(-50,50,'GCS - Motor Response')\n",
    "for i, txt in enumerate(ce.VALUE[ce.LABEL=='GCS - Motor Response'].values):\n",
    "    if np.mod(i,10)==0 and i < 50:\n",
    "        plt.annotate(txt, (ce.index[ce.LABEL=='GCS - Motor Response'].values[i],50))\n",
    "\n",
    "plt.text(-50,45,'GCS - Verbal Response')        \n",
    "for i, txt in enumerate(ce.VALUE[ce.LABEL=='GCS - Verbal Response'].values):\n",
    "    if np.mod(i,10)==0 and i < 50:\n",
    "        plt.annotate(txt, (ce.index[ce.LABEL=='GCS - Verbal Response'].values[i],45))\n",
    "\n",
    "plt.plot(ce.index[ce.LABEL=='Respiratory Rate'], \n",
    "         ce.VALUENUM[ce.LABEL=='Respiratory Rate'],\n",
    "         'k+', markersize=6)\n",
    "\n",
    "# plt.annotate(ce.VALUE[ce.LABEL=='GCS - Eye Opening'][0],\n",
    "#              (ce.index[ce.LABEL=='GCS - Eye Opening'][0]),30)\n",
    "\n"
   ]
  },
  {
   "cell_type": "markdown",
   "metadata": {},
   "source": [
    "### Plot 5: Transfusion event"
   ]
  },
  {
   "cell_type": "markdown",
   "metadata": {},
   "source": [
    "- Using Pandas 'read_csv function' again, we'll now load the labevents and ioevents data"
   ]
  },
  {
   "cell_type": "code",
   "execution_count": null,
   "metadata": {
    "collapsed": true
   },
   "outputs": [],
   "source": [
    "# OPTION 1: load chartevents using the database connection\n",
    "query = \"\"\"\n",
    "SELECT de.subject_id, de.hadm_id, de.icustay_id\n",
    "  , de.charttime\n",
    "  , di.label, de.value\n",
    "  , de.uom\n",
    "FROM mimiciii.datetimeevents de\n",
    "INNER JOIN mimiciii.d_items di\n",
    "  ON de.itemid = di.itemid\n",
    "WHERE de.hadm_id = 185409;\n",
    "\"\"\"\n",
    "\n",
    "le = pd.read_sql_query(query,engine)\n",
    "\n",
    "# OPTION 2: load labevents from the CSV file\n",
    "# le = pd.read_csv('data/example_labevents.csv', index_col='HOURSSINCEADMISSION')"
   ]
  },
  {
   "cell_type": "code",
   "execution_count": null,
   "metadata": {
    "collapsed": false
   },
   "outputs": [],
   "source": [
    "# preview the labevents data\n",
    "le.head()"
   ]
  },
  {
   "cell_type": "code",
   "execution_count": null,
   "metadata": {
    "collapsed": false
   },
   "outputs": [],
   "source": [
    "# preview the ioevents data\n",
    "ioe[ioe.LABEL=='Packed Red Blood Cells']"
   ]
  },
  {
   "cell_type": "code",
   "execution_count": null,
   "metadata": {
    "collapsed": false
   },
   "outputs": [],
   "source": [
    "plt.figure(figsize=(14, 10))\n",
    "\n",
    "# plt.plot(le.index[le.LABEL=='HEMATOCRIT'], \n",
    "#          le.VALUENUM[le.LABEL=='HEMATOCRIT'], \n",
    "#          'go', markersize=6, label='Haematocrit')\n",
    "\n",
    "# plt.plot(le.index[le.LABEL=='HEMOGLOBIN'], \n",
    "#          le.VALUENUM[le.LABEL=='HEMOGLOBIN'], \n",
    "#          'bv', markersize=8, label='Hemoglobin')\n",
    "\n",
    "plt.plot(ioe.index[ioe.LABEL=='Packed Red Blood Cells'], \n",
    "         ioe.VOLUME[ioe.LABEL=='Packed Red Blood Cells'], \n",
    "         'ro', markersize=8, label='Packed Red Blood Cells')\n",
    "\n",
    "plt.vlines(ioe.index[ioe.LABEL=='Packed Red Blood Cells'], [0,0],\n",
    "         ioe.VOLUME[ioe.LABEL=='Packed Red Blood Cells'], \n",
    "           linestyles='dashed', colors='r')\n",
    "\n",
    "plt.title('Laboratory measurements over time from admission')\n",
    "plt.ylim(0,38)\n",
    "plt.legend()"
   ]
  },
  {
   "cell_type": "code",
   "execution_count": null,
   "metadata": {
    "collapsed": true
   },
   "outputs": [],
   "source": []
  },
  {
   "cell_type": "markdown",
   "metadata": {},
   "source": [
    "## Plot 5: intravenous medications"
   ]
  },
  {
   "cell_type": "markdown",
   "metadata": {},
   "source": [
    "- Using the Pandas 'read_csv function' again, we'll now load the the ioevents dataset"
   ]
  },
  {
   "cell_type": "code",
   "execution_count": null,
   "metadata": {
    "collapsed": false
   },
   "outputs": [],
   "source": [
    "# load ioevents\n",
    "ioe = pd.read_csv('data/example_ioevents.csv',index_col='HOURSSINCEADMISSION_START')"
   ]
  },
  {
   "cell_type": "code",
   "execution_count": null,
   "metadata": {
    "collapsed": false
   },
   "outputs": [],
   "source": [
    "ioe.head()\n"
   ]
  },
  {
   "cell_type": "code",
   "execution_count": null,
   "metadata": {
    "collapsed": false
   },
   "outputs": [],
   "source": [
    "plt.figure(figsize=(14, 10))\n",
    "\n",
    "plt.plot(ioe.index[ioe.LABEL=='Midazolam (Versed)'], \n",
    "         ioe.RATE[ioe.LABEL=='Midazolam (Versed)'], \n",
    "         'go', markersize=6, label='Midazolam (Versed)')\n",
    "\n",
    "plt.plot(ioe.index[ioe.LABEL=='Propofol'], \n",
    "         ioe.RATE[ioe.LABEL=='Propofol'], \n",
    "         'bv', markersize=8, label='Propofol')\n",
    "\n",
    "plt.plot(ioe.index[ioe.LABEL=='Fentanyl'], \n",
    "         ioe.RATE[ioe.LABEL=='Fentanyl'], \n",
    "         'k+', markersize=8, label='Fentanyl')\n",
    "\n",
    "plt.title('IOevents over time from admission')\n",
    "plt.ylim(0,380)\n",
    "plt.legend()"
   ]
  },
  {
   "cell_type": "code",
   "execution_count": null,
   "metadata": {
    "collapsed": true
   },
   "outputs": [],
   "source": []
  },
  {
   "cell_type": "markdown",
   "metadata": {},
   "source": [
    "## Plot 6: blood products"
   ]
  },
  {
   "cell_type": "markdown",
   "metadata": {},
   "source": [
    "- Using Pandas 'read_csv function' again, we'll now load the blood products data"
   ]
  },
  {
   "cell_type": "code",
   "execution_count": null,
   "metadata": {
    "collapsed": false
   },
   "outputs": [],
   "source": [
    "plt.figure(figsize=(14, 10))\n",
    "\n",
    "plt.plot(ioe.index[ioe.LABEL=='OR Cryoprecipitate Intake'], \n",
    "         ioe.VALUENUM[ioe.LABEL=='OR Cryoprecipitate Intake'], \n",
    "         'go', markersize=6, label='OR Cryoprecipitate Intake')\n",
    "\n",
    "plt.plot(ioe.index[ioe.LABEL=='OR Crystalloid Intake'], \n",
    "         ioe.VALUENUM[ioe.LABEL=='OR Crystalloid Intake'], \n",
    "         'bv', markersize=8, label='OR Crystalloid Intake')\n",
    "\n",
    "plt.plot(ioe.index[ioe.LABEL=='OR FFP Intake'], \n",
    "         ioe.VALUENUM[ioe.LABEL=='OR FFP Intake'], \n",
    "         'k+', markersize=8, label='OR FFP Intake')\n",
    "\n",
    "plt.plot(ioe.index[ioe.LABEL=='OR Packed RBC Intake'], \n",
    "         ioe.VALUENUM[ioe.LABEL=='OR Packed RBC Intake'], \n",
    "         'k+', markersize=8, label='OR Packed RBC Intake')\n",
    "\n",
    "plt.plot(ioe.index[ioe.LABEL=='OR Platelet Intake'], \n",
    "         ioe.VALUENUM[ioe.LABEL=='OR Platelet Intake'], \n",
    "         'k+', markersize=8, label='OR Platelet Intake')\n",
    "\n",
    "plt.title('Blood products administered over time from admission')\n",
    "plt.legend()"
   ]
  },
  {
   "cell_type": "markdown",
   "metadata": {},
   "source": [
    "### Discharge summary"
   ]
  },
  {
   "cell_type": "code",
   "execution_count": null,
   "metadata": {
    "collapsed": false
   },
   "outputs": [],
   "source": [
    "# insert discharge summary here..."
   ]
  }
 ],
 "metadata": {
  "kernelspec": {
   "display_name": "Python 2",
   "language": "python",
   "name": "python2"
  },
  "language_info": {
   "codemirror_mode": {
    "name": "ipython",
    "version": 2
   },
   "file_extension": ".py",
   "mimetype": "text/x-python",
   "name": "python",
   "nbconvert_exporter": "python",
   "pygments_lexer": "ipython2",
   "version": "2.7.10"
  }
 },
 "nbformat": 4,
 "nbformat_minor": 0
}
